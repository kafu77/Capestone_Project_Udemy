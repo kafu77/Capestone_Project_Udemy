{
  "nbformat": 4,
  "nbformat_minor": 0,
  "metadata": {
    "colab": {
      "provenance": [],
      "mount_file_id": "1yUFSVsQIoxbtHURNGSj4JLgLEG_vpcKs",
      "authorship_tag": "ABX9TyNaTceizUIvasphoI8OOCTi",
      "include_colab_link": true
    },
    "kernelspec": {
      "name": "python3",
      "display_name": "Python 3"
    },
    "language_info": {
      "name": "python"
    }
  },
  "cells": [
    {
      "cell_type": "markdown",
      "metadata": {
        "id": "view-in-github",
        "colab_type": "text"
      },
      "source": [
        "<a href=\"https://colab.research.google.com/github/kafu77/Capestone_Project_Udemy/blob/main/Comparing_classification_models.ipynb\" target=\"_parent\"><img src=\"https://colab.research.google.com/assets/colab-badge.svg\" alt=\"Open In Colab\"/></a>"
      ]
    },
    {
      "cell_type": "code",
      "execution_count": null,
      "metadata": {
        "id": "QNurYIhY6OSD"
      },
      "outputs": [],
      "source": [
        "#Data reading and visaulizing tools\n",
        "import numpy as np\n",
        "import math\n",
        "import time\n",
        "import pandas as pd\n",
        "import matplotlib.pyplot as plt\n",
        "import seaborn as sns\n",
        "import graphviz\n",
        "%matplotlib inline\n",
        "\n",
        "#preprocessing tools\n",
        "from sklearn.preprocessing import StandardScaler,OneHotEncoder, OrdinalEncoder, LabelEncoder, PolynomialFeatures\n",
        "from sklearn.impute import SimpleImputer,KNNImputer\n",
        "from sklearn.model_selection import train_test_split, GridSearchCV, RandomizedSearchCV\n",
        "from sklearn.pipeline import Pipeline, make_pipeline\n",
        "from sklearn.compose import ColumnTransformer, make_column_transformer, make_column_selector\n",
        "from sklearn.feature_selection import SelectFromModel, SequentialFeatureSelector\n",
        "from sklearn.tree import export_text, plot_tree,export_graphviz\n",
        "\n",
        "#models\n",
        "from sklearn.neighbors import KNeighborsClassifier\n",
        "from sklearn.tree import DecisionTreeClassifier\n",
        "from sklearn.linear_model import LogisticRegression\n",
        "from sklearn.svm import SVC\n",
        "\n",
        "#models performance evaulation tools\n",
        "from sklearn.metrics import accuracy_score, precision_score, recall_score\n",
        "from sklearn.metrics import confusion_matrix, classification_report\n",
        "from sklearn.metrics import precision_recall_curve, roc_curve\n",
        "from sklearn.metrics import ConfusionMatrixDisplay, RocCurveDisplay\n",
        "\n",
        "#additional tools\n",
        "from sklearn.metrics.pairwise import polynomial_kernel, rbf_kernel\n",
        "\n",
        "from sklearn import set_config\n",
        "set_config(display='diagram')"
      ]
    },
    {
      "cell_type": "code",
      "source": [
        "drug=pd.read_csv('/content/drive/MyDrive/SVM/drug200.csv')\n",
        "drug.head(10)"
      ],
      "metadata": {
        "colab": {
          "base_uri": "https://localhost:8080/",
          "height": 363
        },
        "id": "YNmym1ep6bZ5",
        "outputId": "6284baaa-6caa-4e30-da0a-684b01663e13"
      },
      "execution_count": null,
      "outputs": [
        {
          "output_type": "execute_result",
          "data": {
            "text/plain": [
              "   Age Sex      BP Cholesterol  Na_to_K   Drug\n",
              "0   23   F    HIGH        HIGH   25.355  DrugY\n",
              "1   47   M     LOW        HIGH   13.093  drugC\n",
              "2   47   M     LOW        HIGH   10.114  drugC\n",
              "3   28   F  NORMAL        HIGH    7.798  drugX\n",
              "4   61   F     LOW        HIGH   18.043  DrugY\n",
              "5   22   F  NORMAL        HIGH    8.607  drugX\n",
              "6   49   F  NORMAL        HIGH   16.275  DrugY\n",
              "7   41   M     LOW        HIGH   11.037  drugC\n",
              "8   60   M  NORMAL        HIGH   15.171  DrugY\n",
              "9   43   M     LOW      NORMAL   19.368  DrugY"
            ],
            "text/html": [
              "\n",
              "  <div id=\"df-f90a8875-5ee4-44a9-b40e-39979619b716\">\n",
              "    <div class=\"colab-df-container\">\n",
              "      <div>\n",
              "<style scoped>\n",
              "    .dataframe tbody tr th:only-of-type {\n",
              "        vertical-align: middle;\n",
              "    }\n",
              "\n",
              "    .dataframe tbody tr th {\n",
              "        vertical-align: top;\n",
              "    }\n",
              "\n",
              "    .dataframe thead th {\n",
              "        text-align: right;\n",
              "    }\n",
              "</style>\n",
              "<table border=\"1\" class=\"dataframe\">\n",
              "  <thead>\n",
              "    <tr style=\"text-align: right;\">\n",
              "      <th></th>\n",
              "      <th>Age</th>\n",
              "      <th>Sex</th>\n",
              "      <th>BP</th>\n",
              "      <th>Cholesterol</th>\n",
              "      <th>Na_to_K</th>\n",
              "      <th>Drug</th>\n",
              "    </tr>\n",
              "  </thead>\n",
              "  <tbody>\n",
              "    <tr>\n",
              "      <th>0</th>\n",
              "      <td>23</td>\n",
              "      <td>F</td>\n",
              "      <td>HIGH</td>\n",
              "      <td>HIGH</td>\n",
              "      <td>25.355</td>\n",
              "      <td>DrugY</td>\n",
              "    </tr>\n",
              "    <tr>\n",
              "      <th>1</th>\n",
              "      <td>47</td>\n",
              "      <td>M</td>\n",
              "      <td>LOW</td>\n",
              "      <td>HIGH</td>\n",
              "      <td>13.093</td>\n",
              "      <td>drugC</td>\n",
              "    </tr>\n",
              "    <tr>\n",
              "      <th>2</th>\n",
              "      <td>47</td>\n",
              "      <td>M</td>\n",
              "      <td>LOW</td>\n",
              "      <td>HIGH</td>\n",
              "      <td>10.114</td>\n",
              "      <td>drugC</td>\n",
              "    </tr>\n",
              "    <tr>\n",
              "      <th>3</th>\n",
              "      <td>28</td>\n",
              "      <td>F</td>\n",
              "      <td>NORMAL</td>\n",
              "      <td>HIGH</td>\n",
              "      <td>7.798</td>\n",
              "      <td>drugX</td>\n",
              "    </tr>\n",
              "    <tr>\n",
              "      <th>4</th>\n",
              "      <td>61</td>\n",
              "      <td>F</td>\n",
              "      <td>LOW</td>\n",
              "      <td>HIGH</td>\n",
              "      <td>18.043</td>\n",
              "      <td>DrugY</td>\n",
              "    </tr>\n",
              "    <tr>\n",
              "      <th>5</th>\n",
              "      <td>22</td>\n",
              "      <td>F</td>\n",
              "      <td>NORMAL</td>\n",
              "      <td>HIGH</td>\n",
              "      <td>8.607</td>\n",
              "      <td>drugX</td>\n",
              "    </tr>\n",
              "    <tr>\n",
              "      <th>6</th>\n",
              "      <td>49</td>\n",
              "      <td>F</td>\n",
              "      <td>NORMAL</td>\n",
              "      <td>HIGH</td>\n",
              "      <td>16.275</td>\n",
              "      <td>DrugY</td>\n",
              "    </tr>\n",
              "    <tr>\n",
              "      <th>7</th>\n",
              "      <td>41</td>\n",
              "      <td>M</td>\n",
              "      <td>LOW</td>\n",
              "      <td>HIGH</td>\n",
              "      <td>11.037</td>\n",
              "      <td>drugC</td>\n",
              "    </tr>\n",
              "    <tr>\n",
              "      <th>8</th>\n",
              "      <td>60</td>\n",
              "      <td>M</td>\n",
              "      <td>NORMAL</td>\n",
              "      <td>HIGH</td>\n",
              "      <td>15.171</td>\n",
              "      <td>DrugY</td>\n",
              "    </tr>\n",
              "    <tr>\n",
              "      <th>9</th>\n",
              "      <td>43</td>\n",
              "      <td>M</td>\n",
              "      <td>LOW</td>\n",
              "      <td>NORMAL</td>\n",
              "      <td>19.368</td>\n",
              "      <td>DrugY</td>\n",
              "    </tr>\n",
              "  </tbody>\n",
              "</table>\n",
              "</div>\n",
              "      <button class=\"colab-df-convert\" onclick=\"convertToInteractive('df-f90a8875-5ee4-44a9-b40e-39979619b716')\"\n",
              "              title=\"Convert this dataframe to an interactive table.\"\n",
              "              style=\"display:none;\">\n",
              "        \n",
              "  <svg xmlns=\"http://www.w3.org/2000/svg\" height=\"24px\"viewBox=\"0 0 24 24\"\n",
              "       width=\"24px\">\n",
              "    <path d=\"M0 0h24v24H0V0z\" fill=\"none\"/>\n",
              "    <path d=\"M18.56 5.44l.94 2.06.94-2.06 2.06-.94-2.06-.94-.94-2.06-.94 2.06-2.06.94zm-11 1L8.5 8.5l.94-2.06 2.06-.94-2.06-.94L8.5 2.5l-.94 2.06-2.06.94zm10 10l.94 2.06.94-2.06 2.06-.94-2.06-.94-.94-2.06-.94 2.06-2.06.94z\"/><path d=\"M17.41 7.96l-1.37-1.37c-.4-.4-.92-.59-1.43-.59-.52 0-1.04.2-1.43.59L10.3 9.45l-7.72 7.72c-.78.78-.78 2.05 0 2.83L4 21.41c.39.39.9.59 1.41.59.51 0 1.02-.2 1.41-.59l7.78-7.78 2.81-2.81c.8-.78.8-2.07 0-2.86zM5.41 20L4 18.59l7.72-7.72 1.47 1.35L5.41 20z\"/>\n",
              "  </svg>\n",
              "      </button>\n",
              "      \n",
              "  <style>\n",
              "    .colab-df-container {\n",
              "      display:flex;\n",
              "      flex-wrap:wrap;\n",
              "      gap: 12px;\n",
              "    }\n",
              "\n",
              "    .colab-df-convert {\n",
              "      background-color: #E8F0FE;\n",
              "      border: none;\n",
              "      border-radius: 50%;\n",
              "      cursor: pointer;\n",
              "      display: none;\n",
              "      fill: #1967D2;\n",
              "      height: 32px;\n",
              "      padding: 0 0 0 0;\n",
              "      width: 32px;\n",
              "    }\n",
              "\n",
              "    .colab-df-convert:hover {\n",
              "      background-color: #E2EBFA;\n",
              "      box-shadow: 0px 1px 2px rgba(60, 64, 67, 0.3), 0px 1px 3px 1px rgba(60, 64, 67, 0.15);\n",
              "      fill: #174EA6;\n",
              "    }\n",
              "\n",
              "    [theme=dark] .colab-df-convert {\n",
              "      background-color: #3B4455;\n",
              "      fill: #D2E3FC;\n",
              "    }\n",
              "\n",
              "    [theme=dark] .colab-df-convert:hover {\n",
              "      background-color: #434B5C;\n",
              "      box-shadow: 0px 1px 3px 1px rgba(0, 0, 0, 0.15);\n",
              "      filter: drop-shadow(0px 1px 2px rgba(0, 0, 0, 0.3));\n",
              "      fill: #FFFFFF;\n",
              "    }\n",
              "  </style>\n",
              "\n",
              "      <script>\n",
              "        const buttonEl =\n",
              "          document.querySelector('#df-f90a8875-5ee4-44a9-b40e-39979619b716 button.colab-df-convert');\n",
              "        buttonEl.style.display =\n",
              "          google.colab.kernel.accessAllowed ? 'block' : 'none';\n",
              "\n",
              "        async function convertToInteractive(key) {\n",
              "          const element = document.querySelector('#df-f90a8875-5ee4-44a9-b40e-39979619b716');\n",
              "          const dataTable =\n",
              "            await google.colab.kernel.invokeFunction('convertToInteractive',\n",
              "                                                     [key], {});\n",
              "          if (!dataTable) return;\n",
              "\n",
              "          const docLinkHtml = 'Like what you see? Visit the ' +\n",
              "            '<a target=\"_blank\" href=https://colab.research.google.com/notebooks/data_table.ipynb>data table notebook</a>'\n",
              "            + ' to learn more about interactive tables.';\n",
              "          element.innerHTML = '';\n",
              "          dataTable['output_type'] = 'display_data';\n",
              "          await google.colab.output.renderOutput(dataTable, element);\n",
              "          const docLink = document.createElement('div');\n",
              "          docLink.innerHTML = docLinkHtml;\n",
              "          element.appendChild(docLink);\n",
              "        }\n",
              "      </script>\n",
              "    </div>\n",
              "  </div>\n",
              "  "
            ]
          },
          "metadata": {},
          "execution_count": 13
        }
      ]
    },
    {
      "cell_type": "code",
      "source": [
        "drug.shape"
      ],
      "metadata": {
        "colab": {
          "base_uri": "https://localhost:8080/"
        },
        "id": "bK3TP2ToEGls",
        "outputId": "8a1ef258-b07b-42d9-d1dd-4f861557008a"
      },
      "execution_count": null,
      "outputs": [
        {
          "output_type": "execute_result",
          "data": {
            "text/plain": [
              "(200, 6)"
            ]
          },
          "metadata": {},
          "execution_count": 45
        }
      ]
    },
    {
      "cell_type": "code",
      "source": [
        "math.sqrt(200)"
      ],
      "metadata": {
        "colab": {
          "base_uri": "https://localhost:8080/"
        },
        "id": "MsVjKuDDENRU",
        "outputId": "51dbda5c-6e81-4939-f5fa-34897c3c3db3"
      },
      "execution_count": null,
      "outputs": [
        {
          "output_type": "execute_result",
          "data": {
            "text/plain": [
              "14.142135623730951"
            ]
          },
          "metadata": {},
          "execution_count": 46
        }
      ]
    },
    {
      "cell_type": "code",
      "source": [
        "drug.info()"
      ],
      "metadata": {
        "colab": {
          "base_uri": "https://localhost:8080/"
        },
        "id": "3hSW1sEf94fB",
        "outputId": "6a11c7e0-1fc4-4424-fc38-70d667f1cda0"
      },
      "execution_count": null,
      "outputs": [
        {
          "output_type": "stream",
          "name": "stdout",
          "text": [
            "<class 'pandas.core.frame.DataFrame'>\n",
            "RangeIndex: 200 entries, 0 to 199\n",
            "Data columns (total 6 columns):\n",
            " #   Column       Non-Null Count  Dtype  \n",
            "---  ------       --------------  -----  \n",
            " 0   Age          200 non-null    int64  \n",
            " 1   Sex          200 non-null    object \n",
            " 2   BP           200 non-null    object \n",
            " 3   Cholesterol  200 non-null    object \n",
            " 4   Na_to_K      200 non-null    float64\n",
            " 5   Drug         200 non-null    object \n",
            "dtypes: float64(1), int64(1), object(4)\n",
            "memory usage: 9.5+ KB\n"
          ]
        }
      ]
    },
    {
      "cell_type": "code",
      "source": [
        "drug.describe()"
      ],
      "metadata": {
        "colab": {
          "base_uri": "https://localhost:8080/",
          "height": 300
        },
        "id": "lFaR2yMq-CX7",
        "outputId": "915c50de-1bc4-4ace-ce08-0503af67ea4f"
      },
      "execution_count": null,
      "outputs": [
        {
          "output_type": "execute_result",
          "data": {
            "text/plain": [
              "              Age     Na_to_K\n",
              "count  200.000000  200.000000\n",
              "mean    44.315000   16.084485\n",
              "std     16.544315    7.223956\n",
              "min     15.000000    6.269000\n",
              "25%     31.000000   10.445500\n",
              "50%     45.000000   13.936500\n",
              "75%     58.000000   19.380000\n",
              "max     74.000000   38.247000"
            ],
            "text/html": [
              "\n",
              "  <div id=\"df-981527b5-0595-4dee-8bfd-97145648848d\">\n",
              "    <div class=\"colab-df-container\">\n",
              "      <div>\n",
              "<style scoped>\n",
              "    .dataframe tbody tr th:only-of-type {\n",
              "        vertical-align: middle;\n",
              "    }\n",
              "\n",
              "    .dataframe tbody tr th {\n",
              "        vertical-align: top;\n",
              "    }\n",
              "\n",
              "    .dataframe thead th {\n",
              "        text-align: right;\n",
              "    }\n",
              "</style>\n",
              "<table border=\"1\" class=\"dataframe\">\n",
              "  <thead>\n",
              "    <tr style=\"text-align: right;\">\n",
              "      <th></th>\n",
              "      <th>Age</th>\n",
              "      <th>Na_to_K</th>\n",
              "    </tr>\n",
              "  </thead>\n",
              "  <tbody>\n",
              "    <tr>\n",
              "      <th>count</th>\n",
              "      <td>200.000000</td>\n",
              "      <td>200.000000</td>\n",
              "    </tr>\n",
              "    <tr>\n",
              "      <th>mean</th>\n",
              "      <td>44.315000</td>\n",
              "      <td>16.084485</td>\n",
              "    </tr>\n",
              "    <tr>\n",
              "      <th>std</th>\n",
              "      <td>16.544315</td>\n",
              "      <td>7.223956</td>\n",
              "    </tr>\n",
              "    <tr>\n",
              "      <th>min</th>\n",
              "      <td>15.000000</td>\n",
              "      <td>6.269000</td>\n",
              "    </tr>\n",
              "    <tr>\n",
              "      <th>25%</th>\n",
              "      <td>31.000000</td>\n",
              "      <td>10.445500</td>\n",
              "    </tr>\n",
              "    <tr>\n",
              "      <th>50%</th>\n",
              "      <td>45.000000</td>\n",
              "      <td>13.936500</td>\n",
              "    </tr>\n",
              "    <tr>\n",
              "      <th>75%</th>\n",
              "      <td>58.000000</td>\n",
              "      <td>19.380000</td>\n",
              "    </tr>\n",
              "    <tr>\n",
              "      <th>max</th>\n",
              "      <td>74.000000</td>\n",
              "      <td>38.247000</td>\n",
              "    </tr>\n",
              "  </tbody>\n",
              "</table>\n",
              "</div>\n",
              "      <button class=\"colab-df-convert\" onclick=\"convertToInteractive('df-981527b5-0595-4dee-8bfd-97145648848d')\"\n",
              "              title=\"Convert this dataframe to an interactive table.\"\n",
              "              style=\"display:none;\">\n",
              "        \n",
              "  <svg xmlns=\"http://www.w3.org/2000/svg\" height=\"24px\"viewBox=\"0 0 24 24\"\n",
              "       width=\"24px\">\n",
              "    <path d=\"M0 0h24v24H0V0z\" fill=\"none\"/>\n",
              "    <path d=\"M18.56 5.44l.94 2.06.94-2.06 2.06-.94-2.06-.94-.94-2.06-.94 2.06-2.06.94zm-11 1L8.5 8.5l.94-2.06 2.06-.94-2.06-.94L8.5 2.5l-.94 2.06-2.06.94zm10 10l.94 2.06.94-2.06 2.06-.94-2.06-.94-.94-2.06-.94 2.06-2.06.94z\"/><path d=\"M17.41 7.96l-1.37-1.37c-.4-.4-.92-.59-1.43-.59-.52 0-1.04.2-1.43.59L10.3 9.45l-7.72 7.72c-.78.78-.78 2.05 0 2.83L4 21.41c.39.39.9.59 1.41.59.51 0 1.02-.2 1.41-.59l7.78-7.78 2.81-2.81c.8-.78.8-2.07 0-2.86zM5.41 20L4 18.59l7.72-7.72 1.47 1.35L5.41 20z\"/>\n",
              "  </svg>\n",
              "      </button>\n",
              "      \n",
              "  <style>\n",
              "    .colab-df-container {\n",
              "      display:flex;\n",
              "      flex-wrap:wrap;\n",
              "      gap: 12px;\n",
              "    }\n",
              "\n",
              "    .colab-df-convert {\n",
              "      background-color: #E8F0FE;\n",
              "      border: none;\n",
              "      border-radius: 50%;\n",
              "      cursor: pointer;\n",
              "      display: none;\n",
              "      fill: #1967D2;\n",
              "      height: 32px;\n",
              "      padding: 0 0 0 0;\n",
              "      width: 32px;\n",
              "    }\n",
              "\n",
              "    .colab-df-convert:hover {\n",
              "      background-color: #E2EBFA;\n",
              "      box-shadow: 0px 1px 2px rgba(60, 64, 67, 0.3), 0px 1px 3px 1px rgba(60, 64, 67, 0.15);\n",
              "      fill: #174EA6;\n",
              "    }\n",
              "\n",
              "    [theme=dark] .colab-df-convert {\n",
              "      background-color: #3B4455;\n",
              "      fill: #D2E3FC;\n",
              "    }\n",
              "\n",
              "    [theme=dark] .colab-df-convert:hover {\n",
              "      background-color: #434B5C;\n",
              "      box-shadow: 0px 1px 3px 1px rgba(0, 0, 0, 0.15);\n",
              "      filter: drop-shadow(0px 1px 2px rgba(0, 0, 0, 0.3));\n",
              "      fill: #FFFFFF;\n",
              "    }\n",
              "  </style>\n",
              "\n",
              "      <script>\n",
              "        const buttonEl =\n",
              "          document.querySelector('#df-981527b5-0595-4dee-8bfd-97145648848d button.colab-df-convert');\n",
              "        buttonEl.style.display =\n",
              "          google.colab.kernel.accessAllowed ? 'block' : 'none';\n",
              "\n",
              "        async function convertToInteractive(key) {\n",
              "          const element = document.querySelector('#df-981527b5-0595-4dee-8bfd-97145648848d');\n",
              "          const dataTable =\n",
              "            await google.colab.kernel.invokeFunction('convertToInteractive',\n",
              "                                                     [key], {});\n",
              "          if (!dataTable) return;\n",
              "\n",
              "          const docLinkHtml = 'Like what you see? Visit the ' +\n",
              "            '<a target=\"_blank\" href=https://colab.research.google.com/notebooks/data_table.ipynb>data table notebook</a>'\n",
              "            + ' to learn more about interactive tables.';\n",
              "          element.innerHTML = '';\n",
              "          dataTable['output_type'] = 'display_data';\n",
              "          await google.colab.output.renderOutput(dataTable, element);\n",
              "          const docLink = document.createElement('div');\n",
              "          docLink.innerHTML = docLinkHtml;\n",
              "          element.appendChild(docLink);\n",
              "        }\n",
              "      </script>\n",
              "    </div>\n",
              "  </div>\n",
              "  "
            ]
          },
          "metadata": {},
          "execution_count": 6
        }
      ]
    },
    {
      "cell_type": "code",
      "source": [
        "drug['Drug'].unique()"
      ],
      "metadata": {
        "colab": {
          "base_uri": "https://localhost:8080/"
        },
        "id": "pORD69Ay-Lle",
        "outputId": "3414b8f1-5e53-41a2-aaca-7a0e76704b3f"
      },
      "execution_count": null,
      "outputs": [
        {
          "output_type": "execute_result",
          "data": {
            "text/plain": [
              "array(['DrugY', 'drugC', 'drugX', 'drugA', 'drugB'], dtype=object)"
            ]
          },
          "metadata": {},
          "execution_count": 7
        }
      ]
    },
    {
      "cell_type": "code",
      "source": [
        "sum(drug['Drug']=='DrugY'),sum(drug['Drug']=='drugC'),sum(drug['Drug']=='drugX'),sum(drug['Drug']=='drugA'),sum(drug['Drug']=='drugB')"
      ],
      "metadata": {
        "colab": {
          "base_uri": "https://localhost:8080/"
        },
        "id": "OtAANX1I-Qr4",
        "outputId": "0631f2f7-2474-47e9-c9d4-53ee552bd641"
      },
      "execution_count": null,
      "outputs": [
        {
          "output_type": "execute_result",
          "data": {
            "text/plain": [
              "(91, 16, 54, 23, 16)"
            ]
          },
          "metadata": {},
          "execution_count": 19
        }
      ]
    },
    {
      "cell_type": "markdown",
      "source": [
        "Our classification datas are imbalanced, the accurcy score is not important"
      ],
      "metadata": {
        "id": "_64qzFU-_-yi"
      }
    },
    {
      "cell_type": "code",
      "source": [
        "drug['BP'].unique()"
      ],
      "metadata": {
        "colab": {
          "base_uri": "https://localhost:8080/"
        },
        "id": "0Jh_rOWM-fsK",
        "outputId": "431c8b64-7c50-4034-ff86-447abb539430"
      },
      "execution_count": null,
      "outputs": [
        {
          "output_type": "execute_result",
          "data": {
            "text/plain": [
              "array(['HIGH', 'LOW', 'NORMAL'], dtype=object)"
            ]
          },
          "metadata": {},
          "execution_count": 20
        }
      ]
    },
    {
      "cell_type": "code",
      "source": [
        "drug['Cholesterol'].unique()"
      ],
      "metadata": {
        "colab": {
          "base_uri": "https://localhost:8080/"
        },
        "id": "29vQm2USAOcJ",
        "outputId": "ab6b041d-2aa3-44cc-d636-db38445d4033"
      },
      "execution_count": null,
      "outputs": [
        {
          "output_type": "execute_result",
          "data": {
            "text/plain": [
              "array(['HIGH', 'NORMAL'], dtype=object)"
            ]
          },
          "metadata": {},
          "execution_count": 21
        }
      ]
    },
    {
      "cell_type": "code",
      "source": [
        "drug['Sex'].unique()"
      ],
      "metadata": {
        "colab": {
          "base_uri": "https://localhost:8080/"
        },
        "id": "WPuoQP4OAQvf",
        "outputId": "4da95a4f-34db-4e64-b930-29dad8e1245e"
      },
      "execution_count": null,
      "outputs": [
        {
          "output_type": "execute_result",
          "data": {
            "text/plain": [
              "array(['F', 'M'], dtype=object)"
            ]
          },
          "metadata": {},
          "execution_count": 22
        }
      ]
    },
    {
      "cell_type": "code",
      "source": [
        "sns.distplot(drug['Age'], bins=20, kde=False)"
      ],
      "metadata": {
        "colab": {
          "base_uri": "https://localhost:8080/",
          "height": 351
        },
        "id": "PuXBZsp0ATPU",
        "outputId": "3ac035eb-ad6e-4900-9ddf-e79637704cee"
      },
      "execution_count": null,
      "outputs": [
        {
          "output_type": "stream",
          "name": "stderr",
          "text": [
            "/usr/local/lib/python3.8/dist-packages/seaborn/distributions.py:2619: FutureWarning: `distplot` is a deprecated function and will be removed in a future version. Please adapt your code to use either `displot` (a figure-level function with similar flexibility) or `histplot` (an axes-level function for histograms).\n",
            "  warnings.warn(msg, FutureWarning)\n"
          ]
        },
        {
          "output_type": "execute_result",
          "data": {
            "text/plain": [
              "<matplotlib.axes._subplots.AxesSubplot at 0x7f5528ee46d0>"
            ]
          },
          "metadata": {},
          "execution_count": 23
        },
        {
          "output_type": "display_data",
          "data": {
            "text/plain": [
              "<Figure size 432x288 with 1 Axes>"
            ],
            "image/png": "[encoded data removed]"
          },
          "metadata": {
            "needs_background": "light"
          }
        }
      ]
    },
    {
      "cell_type": "code",
      "source": [
        "sns.distplot(drug['Na_to_K'], bins=20, kde=False)"
      ],
      "metadata": {
        "colab": {
          "base_uri": "https://localhost:8080/",
          "height": 297
        },
        "id": "_DTopQT3AZRJ",
        "outputId": "35dfdcab-2a1e-4edb-f6e8-402f39b4ecc3"
      },
      "execution_count": null,
      "outputs": [
        {
          "output_type": "execute_result",
          "data": {
            "text/plain": [
              "<matplotlib.axes._subplots.AxesSubplot at 0x7f5528230dc0>"
            ]
          },
          "metadata": {},
          "execution_count": 24
        },
        {
          "output_type": "display_data",
          "data": {
            "text/plain": [
              "<Figure size 432x288 with 1 Axes>"
            ],
            "image/png": "[encoded data removed]"
          },
          "metadata": {
            "needs_background": "light"
          }
        }
      ]
    },
    {
      "cell_type": "code",
      "source": [
        "sns.distplot(np.log1p(drug['Na_to_K']), bins=20, kde=True)\n"
      ],
      "metadata": {
        "colab": {
          "base_uri": "https://localhost:8080/",
          "height": 297
        },
        "id": "12d_6jPzAcwg",
        "outputId": "ba278e18-cacc-414d-b7d9-c3ce0803324c"
      },
      "execution_count": null,
      "outputs": [
        {
          "output_type": "execute_result",
          "data": {
            "text/plain": [
              "<matplotlib.axes._subplots.AxesSubplot at 0x7f5527d80850>"
            ]
          },
          "metadata": {},
          "execution_count": 25
        },
        {
          "output_type": "display_data",
          "data": {
            "text/plain": [
              "<Figure size 432x288 with 1 Axes>"
            ],
            "image/png": "[encoded data removed]"
          },
          "metadata": {
            "needs_background": "light"
          }
        }
      ]
    },
    {
      "cell_type": "code",
      "source": [
        "sns.jointplot(data=drug,x='Na_to_K',y='Age', kind='hex')"
      ],
      "metadata": {
        "colab": {
          "base_uri": "https://localhost:8080/",
          "height": 458
        },
        "id": "IWz2NoLMAfwP",
        "outputId": "2f5e2e0f-2a0b-42d6-8df6-6c2591246d52"
      },
      "execution_count": null,
      "outputs": [
        {
          "output_type": "execute_result",
          "data": {
            "text/plain": [
              "<seaborn.axisgrid.JointGrid at 0x7f5527cdad00>"
            ]
          },
          "metadata": {},
          "execution_count": 26
        },
        {
          "output_type": "display_data",
          "data": {
            "text/plain": [
              "<Figure size 432x432 with 3 Axes>"
            ],
            "image/png": "[encoded data removed]"
          },
          "metadata": {
            "needs_background": "light"
          }
        }
      ]
    },
    {
      "cell_type": "code",
      "source": [
        "sns.countplot(data=drug,x='BP',hue='Sex')"
      ],
      "metadata": {
        "colab": {
          "base_uri": "https://localhost:8080/",
          "height": 296
        },
        "id": "FqMQqPdYAjA6",
        "outputId": "1cad1c41-a86d-4397-c1e0-bf365c30b7bf"
      },
      "execution_count": null,
      "outputs": [
        {
          "output_type": "execute_result",
          "data": {
            "text/plain": [
              "<matplotlib.axes._subplots.AxesSubplot at 0x7f55235f7370>"
            ]
          },
          "metadata": {},
          "execution_count": 29
        },
        {
          "output_type": "display_data",
          "data": {
            "text/plain": [
              "<Figure size 432x288 with 1 Axes>"
            ],
            "image/png": "[encoded data removed]"
          },
          "metadata": {
            "needs_background": "light"
          }
        }
      ]
    },
    {
      "cell_type": "code",
      "source": [
        "sns.barplot(data=drug,x='Sex',y='Age')"
      ],
      "metadata": {
        "colab": {
          "base_uri": "https://localhost:8080/",
          "height": 296
        },
        "id": "Mbzg87_QAnxQ",
        "outputId": "7bed2a40-5d4d-4981-925d-0dedb64596fd"
      },
      "execution_count": null,
      "outputs": [
        {
          "output_type": "execute_result",
          "data": {
            "text/plain": [
              "<matplotlib.axes._subplots.AxesSubplot at 0x7f5523514490>"
            ]
          },
          "metadata": {},
          "execution_count": 32
        },
        {
          "output_type": "display_data",
          "data": {
            "text/plain": [
              "<Figure size 432x288 with 1 Axes>"
            ],
            "image/png": "[encoded data removed]"
          },
          "metadata": {
            "needs_background": "light"
          }
        }
      ]
    },
    {
      "cell_type": "code",
      "source": [
        "sns.barplot(data=drug,x='BP',y='Age', hue='Sex')"
      ],
      "metadata": {
        "colab": {
          "base_uri": "https://localhost:8080/",
          "height": 296
        },
        "id": "q9fqmOmPBFtS",
        "outputId": "87dffb4b-e7a0-4b31-edff-c02b931c0c7a"
      },
      "execution_count": null,
      "outputs": [
        {
          "output_type": "execute_result",
          "data": {
            "text/plain": [
              "<matplotlib.axes._subplots.AxesSubplot at 0x7f55234f4220>"
            ]
          },
          "metadata": {},
          "execution_count": 33
        },
        {
          "output_type": "display_data",
          "data": {
            "text/plain": [
              "<Figure size 432x288 with 1 Axes>"
            ],
            "image/png": "[encoded data removed]"
          },
          "metadata": {
            "needs_background": "light"
          }
        }
      ]
    },
    {
      "cell_type": "code",
      "source": [
        "sns.barplot(data=drug,x='Cholesterol',y='Age', hue='Sex')"
      ],
      "metadata": {
        "colab": {
          "base_uri": "https://localhost:8080/",
          "height": 296
        },
        "id": "RCynxoPXBYo3",
        "outputId": "b6da326b-e01e-4ed9-e561-4f8fa5ed9f71"
      },
      "execution_count": null,
      "outputs": [
        {
          "output_type": "execute_result",
          "data": {
            "text/plain": [
              "<matplotlib.axes._subplots.AxesSubplot at 0x7f5523456220>"
            ]
          },
          "metadata": {},
          "execution_count": 34
        },
        {
          "output_type": "display_data",
          "data": {
            "text/plain": [
              "<Figure size 432x288 with 1 Axes>"
            ],
            "image/png": "[encoded data removed]"
          },
          "metadata": {
            "needs_background": "light"
          }
        }
      ]
    },
    {
      "cell_type": "code",
      "source": [
        "sns.barplot(data=drug,x='BP',y='Na_to_K', hue='Sex')"
      ],
      "metadata": {
        "colab": {
          "base_uri": "https://localhost:8080/",
          "height": 296
        },
        "id": "GqPw7aKsBbwl",
        "outputId": "6f71d67c-8a8a-4b75-a8c9-f3c3f3a6be13"
      },
      "execution_count": null,
      "outputs": [
        {
          "output_type": "execute_result",
          "data": {
            "text/plain": [
              "<matplotlib.axes._subplots.AxesSubplot at 0x7f55233bbe80>"
            ]
          },
          "metadata": {},
          "execution_count": 35
        },
        {
          "output_type": "display_data",
          "data": {
            "text/plain": [
              "<Figure size 432x288 with 1 Axes>"
            ],
            "image/png": "[encoded data removed]"
          },
          "metadata": {
            "needs_background": "light"
          }
        }
      ]
    },
    {
      "cell_type": "code",
      "source": [
        "sns.barplot(data=drug,x='Cholesterol',y='Na_to_K', hue='Sex')"
      ],
      "metadata": {
        "colab": {
          "base_uri": "https://localhost:8080/",
          "height": 300
        },
        "id": "Nw4tmKDoBe6U",
        "outputId": "96783cde-cdde-4dbb-b48a-644e5230a8c6"
      },
      "execution_count": null,
      "outputs": [
        {
          "output_type": "execute_result",
          "data": {
            "text/plain": [
              "<matplotlib.axes._subplots.AxesSubplot at 0x7f5523332400>"
            ]
          },
          "metadata": {},
          "execution_count": 36
        },
        {
          "output_type": "display_data",
          "data": {
            "text/plain": [
              "<Figure size 432x288 with 1 Axes>"
            ],
            "image/png": "[encoded data removed]"
          },
          "metadata": {
            "needs_background": "light"
          }
        }
      ]
    },
    {
      "cell_type": "code",
      "source": [
        "sns.boxplot(data=drug,x ='BP',y='Age',hue='Sex')"
      ],
      "metadata": {
        "colab": {
          "base_uri": "https://localhost:8080/",
          "height": 296
        },
        "id": "k_cTJQIjBiko",
        "outputId": "8693627d-19cd-4f18-ea43-ef59e0c87e14"
      },
      "execution_count": null,
      "outputs": [
        {
          "output_type": "execute_result",
          "data": {
            "text/plain": [
              "<matplotlib.axes._subplots.AxesSubplot at 0x7f552329c9d0>"
            ]
          },
          "metadata": {},
          "execution_count": 37
        },
        {
          "output_type": "display_data",
          "data": {
            "text/plain": [
              "<Figure size 432x288 with 1 Axes>"
            ],
            "image/png": "[encoded data removed]"
          },
          "metadata": {
            "needs_background": "light"
          }
        }
      ]
    },
    {
      "cell_type": "code",
      "source": [
        "sns.boxplot(data=drug,x ='BP',y='Na_to_K',hue='Sex')"
      ],
      "metadata": {
        "colab": {
          "base_uri": "https://localhost:8080/",
          "height": 296
        },
        "id": "_mGXqCQxBmEx",
        "outputId": "078dcffe-fd0a-464c-9f3a-b763ad58982e"
      },
      "execution_count": null,
      "outputs": [
        {
          "output_type": "execute_result",
          "data": {
            "text/plain": [
              "<matplotlib.axes._subplots.AxesSubplot at 0x7f5523255f40>"
            ]
          },
          "metadata": {},
          "execution_count": 38
        },
        {
          "output_type": "display_data",
          "data": {
            "text/plain": [
              "<Figure size 432x288 with 1 Axes>"
            ],
            "image/png": "[encoded data removed]"
          },
          "metadata": {
            "needs_background": "light"
          }
        }
      ]
    },
    {
      "cell_type": "code",
      "source": [
        "sns.boxplot(data=drug,x ='Cholesterol',y='Age',hue='Sex')"
      ],
      "metadata": {
        "colab": {
          "base_uri": "https://localhost:8080/",
          "height": 296
        },
        "id": "j3V3U2q1Bpu-",
        "outputId": "aefe63a4-8a9c-4e6a-ce31-695ed785139f"
      },
      "execution_count": null,
      "outputs": [
        {
          "output_type": "execute_result",
          "data": {
            "text/plain": [
              "<matplotlib.axes._subplots.AxesSubplot at 0x7f5523135d60>"
            ]
          },
          "metadata": {},
          "execution_count": 39
        },
        {
          "output_type": "display_data",
          "data": {
            "text/plain": [
              "<Figure size 432x288 with 1 Axes>"
            ],
            "image/png": "[encoded data removed]"
          },
          "metadata": {
            "needs_background": "light"
          }
        }
      ]
    },
    {
      "cell_type": "code",
      "source": [
        "sns.boxplot(data=drug,x ='Cholesterol',y='Na_to_K',hue='Sex')"
      ],
      "metadata": {
        "colab": {
          "base_uri": "https://localhost:8080/",
          "height": 296
        },
        "id": "8Yr0_IoqBzkh",
        "outputId": "b66bfdbc-1f26-4e2c-ceed-384abf0ccc9a"
      },
      "execution_count": null,
      "outputs": [
        {
          "output_type": "execute_result",
          "data": {
            "text/plain": [
              "<matplotlib.axes._subplots.AxesSubplot at 0x7f552318e220>"
            ]
          },
          "metadata": {},
          "execution_count": 40
        },
        {
          "output_type": "display_data",
          "data": {
            "text/plain": [
              "<Figure size 432x288 with 1 Axes>"
            ],
            "image/png": "[encoded data removed]"
          },
          "metadata": {
            "needs_background": "light"
          }
        }
      ]
    },
    {
      "cell_type": "code",
      "source": [
        "#check missing values\n",
        "drug.isna().sum()"
      ],
      "metadata": {
        "colab": {
          "base_uri": "https://localhost:8080/"
        },
        "id": "j5JpBRS6B2bU",
        "outputId": "76c6fcc0-70da-4cf2-d74d-7f57b80d974e"
      },
      "execution_count": null,
      "outputs": [
        {
          "output_type": "execute_result",
          "data": {
            "text/plain": [
              "Age            0\n",
              "Sex            0\n",
              "BP             0\n",
              "Cholesterol    0\n",
              "Na_to_K        0\n",
              "Drug           0\n",
              "dtype: int64"
            ]
          },
          "metadata": {},
          "execution_count": 41
        }
      ]
    },
    {
      "cell_type": "code",
      "source": [],
      "metadata": {
        "id": "9u2dlSZFB5sy"
      },
      "execution_count": null,
      "outputs": []
    },
    {
      "cell_type": "markdown",
      "source": [
        "### Prepare the data"
      ],
      "metadata": {
        "id": "luWsnelrB8ZS"
      }
    },
    {
      "cell_type": "code",
      "source": [
        "X=drug.drop('Drug',axis=1)\n",
        "y=drug['Drug']"
      ],
      "metadata": {
        "id": "gD5mb9aPB-ek"
      },
      "execution_count": null,
      "outputs": []
    },
    {
      "cell_type": "code",
      "source": [],
      "metadata": {
        "id": "YEIiwSR2CCHZ"
      },
      "execution_count": null,
      "outputs": []
    },
    {
      "cell_type": "markdown",
      "source": [
        "###  Split the data"
      ],
      "metadata": {
        "id": "_TNOslmxCFCC"
      }
    },
    {
      "cell_type": "code",
      "source": [
        "X_train, X_test, y_train, y_test = train_test_split(X, y, test_size=0.30, random_state=42)"
      ],
      "metadata": {
        "id": "UyiwelReCGzo"
      },
      "execution_count": null,
      "outputs": []
    },
    {
      "cell_type": "markdown",
      "source": [
        "### Transformers"
      ],
      "metadata": {
        "id": "NMNKM0L1CUe_"
      }
    },
    {
      "cell_type": "code",
      "source": [
        "transformer = make_column_transformer((OneHotEncoder(drop = 'if_binary'), ['Sex']),\n",
        "                                     (OrdinalEncoder(categories = [['LOW', 'NORMAL', 'HIGH']]), ['BP']),\n",
        "                                      (OrdinalEncoder(categories=[[ 'NORMAL','HIGH']]),['Cholesterol']),\n",
        "                                      remainder=StandardScaler())\n",
        "extractor = SelectFromModel(LogisticRegression(penalty='l2', solver ='lbfgs' ,random_state = 42, multi_class='multinomial'))"
      ],
      "metadata": {
        "id": "N0h-e6kBCJyj"
      },
      "execution_count": null,
      "outputs": []
    },
    {
      "cell_type": "code",
      "source": [],
      "metadata": {
        "id": "oOcwGv_tCc-f"
      },
      "execution_count": null,
      "outputs": []
    },
    {
      "cell_type": "markdown",
      "source": [
        "### Create pipelines"
      ],
      "metadata": {
        "id": "JXMxLN_0DS8Z"
      }
    },
    {
      "cell_type": "code",
      "source": [
        "#K nearst neibour pipelines\n",
        "knn_pipe=Pipeline(\n",
        "    steps=[('transformer',transformer),\n",
        "          ('knn', KNeighborsClassifier())]\n",
        ")\n",
        "\n",
        "#Decision tree pipelines\n",
        "dtree_pipe=Pipeline(\n",
        "    steps=[('transformer',transformer),\n",
        "           ('dtree',DecisionTreeClassifier())]\n",
        ")\n",
        "\n",
        "\n",
        "#logestic regression pipelines \n",
        "lgr_pipe=Pipeline(\n",
        "    steps=[('transformer',transformer),\n",
        "           ('selector',extractor),\n",
        "           ('lrg',LogisticRegression())]\n",
        ")\n",
        "\n",
        "#Support Vector Machine pipelines\n",
        "svc_pipe=Pipeline(\n",
        "    steps=[('transformer',transformer),\n",
        "           ('svc',SVC())]\n",
        ")"
      ],
      "metadata": {
        "id": "cNctZ47uDQ21"
      },
      "execution_count": null,
      "outputs": []
    },
    {
      "cell_type": "code",
      "source": [],
      "metadata": {
        "id": "N0ozxpw7DQ_-"
      },
      "execution_count": null,
      "outputs": []
    },
    {
      "cell_type": "markdown",
      "source": [
        "### Tunning hyperparameters"
      ],
      "metadata": {
        "id": "m_1Dacd5CeEe"
      }
    },
    {
      "cell_type": "code",
      "source": [
        "#K nearst neibour hyperparamers dictionary\n",
        "knn_params={'knn__n_neighbors':range(1,16,2),\n",
        "        'knn__weights':['uniform','distance'],\n",
        "        'knn__p':[1,2]}\n",
        "\n",
        "\n",
        "#Decision tree hyperparamers dictionary\n",
        "dtree_params = {'dtree__max_depth':[2,4,6],\n",
        "                'dtree__min_samples_split':[0.1, 0.2, 0.05],\n",
        "                'dtree__criterion': ['gini','entropy'],\n",
        "                'dtree__min_samples_leaf':[1,2,3]\n",
        "         }\n",
        "\n",
        "#Support vector machine hyperparamers dictionary\n",
        "svc_params= {'svc__kernel': ['rbf', 'poly', 'linear', 'sigmoid'],\n",
        "              'svc__gamma': [0.1, 1.0, 10.0, 100.0],\n",
        "              'svc__coef0':[0,1,2,3],\n",
        "              'svc__degree':[2,3,4,5]}"
      ],
      "metadata": {
        "id": "0z5J9_QXClPy"
      },
      "execution_count": null,
      "outputs": []
    },
    {
      "cell_type": "code",
      "source": [],
      "metadata": {
        "id": "eGg0UVcfJk8H"
      },
      "execution_count": null,
      "outputs": []
    },
    {
      "cell_type": "markdown",
      "source": [
        "#GridSearchCV of all models"
      ],
      "metadata": {
        "id": "xtsAVkzmJm0H"
      }
    },
    {
      "cell_type": "code",
      "source": [
        "# K Nearst neighbor gridsearch\n",
        "%%time\n",
        "knn_grid=GridSearchCV(estimator=knn_pipe,\n",
        "                      param_grid=knn_params,\n",
        "                     cv=5)\n",
        "knn=knn_grid.fit(X_train,y_train)"
      ],
      "metadata": {
        "colab": {
          "base_uri": "https://localhost:8080/"
        },
        "id": "T4Qpq9xSJqtB",
        "outputId": "7bb56dc8-e3c5-4040-faa3-92464ba7e5e9"
      },
      "execution_count": null,
      "outputs": [
        {
          "output_type": "stream",
          "name": "stdout",
          "text": [
            "CPU times: user 2.78 s, sys: 32.2 ms, total: 2.81 s\n",
            "Wall time: 2.88 s\n"
          ]
        }
      ]
    },
    {
      "cell_type": "code",
      "source": [
        "knn.best_estimator_"
      ],
      "metadata": {
        "colab": {
          "base_uri": "https://localhost:8080/",
          "height": 192
        },
        "id": "dk7eLgKmMfXe",
        "outputId": "dee42d27-b32f-494b-f2c6-586b732494c2"
      },
      "execution_count": null,
      "outputs": [
        {
          "output_type": "execute_result",
          "data": {
            "text/plain": [
              "Pipeline(steps=[('transformer',\n",
              "                 ColumnTransformer(remainder=StandardScaler(),\n",
              "                                   transformers=[('onehotencoder',\n",
              "                                                  OneHotEncoder(drop='if_binary'),\n",
              "                                                  ['Sex']),\n",
              "                                                 ('ordinalencoder-1',\n",
              "                                                  OrdinalEncoder(categories=[['LOW',\n",
              "                                                                              'NORMAL',\n",
              "                                                                              'HIGH']]),\n",
              "                                                  ['BP']),\n",
              "                                                 ('ordinalencoder-2',\n",
              "                                                  OrdinalEncoder(categories=[['NORMAL',\n",
              "                                                                              'HIGH']]),\n",
              "                                                  ['Cholesterol'])])),\n",
              "                ('knn', KNeighborsClassifier(n_neighbors=7, p=1))])"
            ],
            "text/html": [
              "<style>#sk-2dbf628f-9766-463c-8c45-8a4e36711105 {color: black;background-color: white;}#sk-2dbf628f-9766-463c-8c45-8a4e36711105 pre{padding: 0;}#sk-2dbf628f-9766-463c-8c45-8a4e36711105 div.sk-toggleable {background-color: white;}#sk-2dbf628f-9766-463c-8c45-8a4e36711105 label.sk-toggleable__label {cursor: pointer;display: block;width: 100%;margin-bottom: 0;padding: 0.3em;box-sizing: border-box;text-align: center;}#sk-2dbf628f-9766-463c-8c45-8a4e36711105 label.sk-toggleable__label-arrow:before {content: \"▸\";float: left;margin-right: 0.25em;color: #696969;}#sk-2dbf628f-9766-463c-8c45-8a4e36711105 label.sk-toggleable__label-arrow:hover:before {color: black;}#sk-2dbf628f-9766-463c-8c45-8a4e36711105 div.sk-estimator:hover label.sk-toggleable__label-arrow:before {color: black;}#sk-2dbf628f-9766-463c-8c45-8a4e36711105 div.sk-toggleable__content {max-height: 0;max-width: 0;overflow: hidden;text-align: left;background-color: #f0f8ff;}#sk-2dbf628f-9766-463c-8c45-8a4e36711105 div.sk-toggleable__content pre {margin: 0.2em;color: black;border-radius: 0.25em;background-color: #f0f8ff;}#sk-2dbf628f-9766-463c-8c45-8a4e36711105 input.sk-toggleable__control:checked~div.sk-toggleable__content {max-height: 200px;max-width: 100%;overflow: auto;}#sk-2dbf628f-9766-463c-8c45-8a4e36711105 input.sk-toggleable__control:checked~label.sk-toggleable__label-arrow:before {content: \"▾\";}#sk-2dbf628f-9766-463c-8c45-8a4e36711105 div.sk-estimator input.sk-toggleable__control:checked~label.sk-toggleable__label {background-color: #d4ebff;}#sk-2dbf628f-9766-463c-8c45-8a4e36711105 div.sk-label input.sk-toggleable__control:checked~label.sk-toggleable__label {background-color: #d4ebff;}#sk-2dbf628f-9766-463c-8c45-8a4e36711105 input.sk-hidden--visually {border: 0;clip: rect(1px 1px 1px 1px);clip: rect(1px, 1px, 1px, 1px);height: 1px;margin: -1px;overflow: hidden;padding: 0;position: absolute;width: 1px;}#sk-2dbf628f-9766-463c-8c45-8a4e36711105 div.sk-estimator {font-family: monospace;background-color: #f0f8ff;border: 1px dotted black;border-radius: 0.25em;box-sizing: border-box;margin-bottom: 0.5em;}#sk-2dbf628f-9766-463c-8c45-8a4e36711105 div.sk-estimator:hover {background-color: #d4ebff;}#sk-2dbf628f-9766-463c-8c45-8a4e36711105 div.sk-parallel-item::after {content: \"\";width: 100%;border-bottom: 1px solid gray;flex-grow: 1;}#sk-2dbf628f-9766-463c-8c45-8a4e36711105 div.sk-label:hover label.sk-toggleable__label {background-color: #d4ebff;}#sk-2dbf628f-9766-463c-8c45-8a4e36711105 div.sk-serial::before {content: \"\";position: absolute;border-left: 1px solid gray;box-sizing: border-box;top: 2em;bottom: 0;left: 50%;}#sk-2dbf628f-9766-463c-8c45-8a4e36711105 div.sk-serial {display: flex;flex-direction: column;align-items: center;background-color: white;padding-right: 0.2em;padding-left: 0.2em;}#sk-2dbf628f-9766-463c-8c45-8a4e36711105 div.sk-item {z-index: 1;}#sk-2dbf628f-9766-463c-8c45-8a4e36711105 div.sk-parallel {display: flex;align-items: stretch;justify-content: center;background-color: white;}#sk-2dbf628f-9766-463c-8c45-8a4e36711105 div.sk-parallel::before {content: \"\";position: absolute;border-left: 1px solid gray;box-sizing: border-box;top: 2em;bottom: 0;left: 50%;}#sk-2dbf628f-9766-463c-8c45-8a4e36711105 div.sk-parallel-item {display: flex;flex-direction: column;position: relative;background-color: white;}#sk-2dbf628f-9766-463c-8c45-8a4e36711105 div.sk-parallel-item:first-child::after {align-self: flex-end;width: 50%;}#sk-2dbf628f-9766-463c-8c45-8a4e36711105 div.sk-parallel-item:last-child::after {align-self: flex-start;width: 50%;}#sk-2dbf628f-9766-463c-8c45-8a4e36711105 div.sk-parallel-item:only-child::after {width: 0;}#sk-2dbf628f-9766-463c-8c45-8a4e36711105 div.sk-dashed-wrapped {border: 1px dashed gray;margin: 0 0.4em 0.5em 0.4em;box-sizing: border-box;padding-bottom: 0.4em;background-color: white;position: relative;}#sk-2dbf628f-9766-463c-8c45-8a4e36711105 div.sk-label label {font-family: monospace;font-weight: bold;background-color: white;display: inline-block;line-height: 1.2em;}#sk-2dbf628f-9766-463c-8c45-8a4e36711105 div.sk-label-container {position: relative;z-index: 2;text-align: center;}#sk-2dbf628f-9766-463c-8c45-8a4e36711105 div.sk-container {/* jupyter's `normalize.less` sets `[hidden] { display: none; }` but bootstrap.min.css set `[hidden] { display: none !important; }` so we also need the `!important` here to be able to override the default hidden behavior on the sphinx rendered scikit-learn.org. See: https://github.com/scikit-learn/scikit-learn/issues/21755 */display: inline-block !important;position: relative;}#sk-2dbf628f-9766-463c-8c45-8a4e36711105 div.sk-text-repr-fallback {display: none;}</style><div id=\"sk-2dbf628f-9766-463c-8c45-8a4e36711105\" class=\"sk-top-container\"><div class=\"sk-text-repr-fallback\"><pre>Pipeline(steps=[(&#x27;transformer&#x27;,\n",
              "                 ColumnTransformer(remainder=StandardScaler(),\n",
              "                                   transformers=[(&#x27;onehotencoder&#x27;,\n",
              "                                                  OneHotEncoder(drop=&#x27;if_binary&#x27;),\n",
              "                                                  [&#x27;Sex&#x27;]),\n",
              "                                                 (&#x27;ordinalencoder-1&#x27;,\n",
              "                                                  OrdinalEncoder(categories=[[&#x27;LOW&#x27;,\n",
              "                                                                              &#x27;NORMAL&#x27;,\n",
              "                                                                              &#x27;HIGH&#x27;]]),\n",
              "                                                  [&#x27;BP&#x27;]),\n",
              "                                                 (&#x27;ordinalencoder-2&#x27;,\n",
              "                                                  OrdinalEncoder(categories=[[&#x27;NORMAL&#x27;,\n",
              "                                                                              &#x27;HIGH&#x27;]]),\n",
              "                                                  [&#x27;Cholesterol&#x27;])])),\n",
              "                (&#x27;knn&#x27;, KNeighborsClassifier(n_neighbors=7, p=1))])</pre><b>Please rerun this cell to show the HTML repr or trust the notebook.</b></div><div class=\"sk-container\" hidden><div class=\"sk-item sk-dashed-wrapped\"><div class=\"sk-label-container\"><div class=\"sk-label sk-toggleable\"><input class=\"sk-toggleable__control sk-hidden--visually\" id=\"f4424f56-d232-44d1-9acd-3a8904ac5bcb\" type=\"checkbox\" ><label for=\"f4424f56-d232-44d1-9acd-3a8904ac5bcb\" class=\"sk-toggleable__label sk-toggleable__label-arrow\">Pipeline</label><div class=\"sk-toggleable__content\"><pre>Pipeline(steps=[(&#x27;transformer&#x27;,\n",
              "                 ColumnTransformer(remainder=StandardScaler(),\n",
              "                                   transformers=[(&#x27;onehotencoder&#x27;,\n",
              "                                                  OneHotEncoder(drop=&#x27;if_binary&#x27;),\n",
              "                                                  [&#x27;Sex&#x27;]),\n",
              "                                                 (&#x27;ordinalencoder-1&#x27;,\n",
              "                                                  OrdinalEncoder(categories=[[&#x27;LOW&#x27;,\n",
              "                                                                              &#x27;NORMAL&#x27;,\n",
              "                                                                              &#x27;HIGH&#x27;]]),\n",
              "                                                  [&#x27;BP&#x27;]),\n",
              "                                                 (&#x27;ordinalencoder-2&#x27;,\n",
              "                                                  OrdinalEncoder(categories=[[&#x27;NORMAL&#x27;,\n",
              "                                                                              &#x27;HIGH&#x27;]]),\n",
              "                                                  [&#x27;Cholesterol&#x27;])])),\n",
              "                (&#x27;knn&#x27;, KNeighborsClassifier(n_neighbors=7, p=1))])</pre></div></div></div><div class=\"sk-serial\"><div class=\"sk-item sk-dashed-wrapped\"><div class=\"sk-label-container\"><div class=\"sk-label sk-toggleable\"><input class=\"sk-toggleable__control sk-hidden--visually\" id=\"1232a12b-d0c0-4f52-bd4e-d54b2fe69c0f\" type=\"checkbox\" ><label for=\"1232a12b-d0c0-4f52-bd4e-d54b2fe69c0f\" class=\"sk-toggleable__label sk-toggleable__label-arrow\">transformer: ColumnTransformer</label><div class=\"sk-toggleable__content\"><pre>ColumnTransformer(remainder=StandardScaler(),\n",
              "                  transformers=[(&#x27;onehotencoder&#x27;,\n",
              "                                 OneHotEncoder(drop=&#x27;if_binary&#x27;), [&#x27;Sex&#x27;]),\n",
              "                                (&#x27;ordinalencoder-1&#x27;,\n",
              "                                 OrdinalEncoder(categories=[[&#x27;LOW&#x27;, &#x27;NORMAL&#x27;,\n",
              "                                                             &#x27;HIGH&#x27;]]),\n",
              "                                 [&#x27;BP&#x27;]),\n",
              "                                (&#x27;ordinalencoder-2&#x27;,\n",
              "                                 OrdinalEncoder(categories=[[&#x27;NORMAL&#x27;,\n",
              "                                                             &#x27;HIGH&#x27;]]),\n",
              "                                 [&#x27;Cholesterol&#x27;])])</pre></div></div></div><div class=\"sk-parallel\"><div class=\"sk-parallel-item\"><div class=\"sk-item\"><div class=\"sk-label-container\"><div class=\"sk-label sk-toggleable\"><input class=\"sk-toggleable__control sk-hidden--visually\" id=\"b0c5568b-f540-43b1-813d-85296b8cc0db\" type=\"checkbox\" ><label for=\"b0c5568b-f540-43b1-813d-85296b8cc0db\" class=\"sk-toggleable__label sk-toggleable__label-arrow\">onehotencoder</label><div class=\"sk-toggleable__content\"><pre>[&#x27;Sex&#x27;]</pre></div></div></div><div class=\"sk-serial\"><div class=\"sk-item\"><div class=\"sk-estimator sk-toggleable\"><input class=\"sk-toggleable__control sk-hidden--visually\" id=\"4ee6096d-0798-4770-bd59-f151e17cacd0\" type=\"checkbox\" ><label for=\"4ee6096d-0798-4770-bd59-f151e17cacd0\" class=\"sk-toggleable__label sk-toggleable__label-arrow\">OneHotEncoder</label><div class=\"sk-toggleable__content\"><pre>OneHotEncoder(drop=&#x27;if_binary&#x27;)</pre></div></div></div></div></div></div><div class=\"sk-parallel-item\"><div class=\"sk-item\"><div class=\"sk-label-container\"><div class=\"sk-label sk-toggleable\"><input class=\"sk-toggleable__control sk-hidden--visually\" id=\"2ee0435b-5f6d-4e4c-afdd-cb4117c5b35d\" type=\"checkbox\" ><label for=\"2ee0435b-5f6d-4e4c-afdd-cb4117c5b35d\" class=\"sk-toggleable__label sk-toggleable__label-arrow\">ordinalencoder-1</label><div class=\"sk-toggleable__content\"><pre>[&#x27;BP&#x27;]</pre></div></div></div><div class=\"sk-serial\"><div class=\"sk-item\"><div class=\"sk-estimator sk-toggleable\"><input class=\"sk-toggleable__control sk-hidden--visually\" id=\"22df738b-0107-4dd8-a2b8-af2567a1ce09\" type=\"checkbox\" ><label for=\"22df738b-0107-4dd8-a2b8-af2567a1ce09\" class=\"sk-toggleable__label sk-toggleable__label-arrow\">OrdinalEncoder</label><div class=\"sk-toggleable__content\"><pre>OrdinalEncoder(categories=[[&#x27;LOW&#x27;, &#x27;NORMAL&#x27;, &#x27;HIGH&#x27;]])</pre></div></div></div></div></div></div><div class=\"sk-parallel-item\"><div class=\"sk-item\"><div class=\"sk-label-container\"><div class=\"sk-label sk-toggleable\"><input class=\"sk-toggleable__control sk-hidden--visually\" id=\"05f65115-cf7e-4be5-94fc-2456fac8fa1f\" type=\"checkbox\" ><label for=\"05f65115-cf7e-4be5-94fc-2456fac8fa1f\" class=\"sk-toggleable__label sk-toggleable__label-arrow\">ordinalencoder-2</label><div class=\"sk-toggleable__content\"><pre>[&#x27;Cholesterol&#x27;]</pre></div></div></div><div class=\"sk-serial\"><div class=\"sk-item\"><div class=\"sk-estimator sk-toggleable\"><input class=\"sk-toggleable__control sk-hidden--visually\" id=\"54bd49be-4db7-439d-a368-c9137f3263bc\" type=\"checkbox\" ><label for=\"54bd49be-4db7-439d-a368-c9137f3263bc\" class=\"sk-toggleable__label sk-toggleable__label-arrow\">OrdinalEncoder</label><div class=\"sk-toggleable__content\"><pre>OrdinalEncoder(categories=[[&#x27;NORMAL&#x27;, &#x27;HIGH&#x27;]])</pre></div></div></div></div></div></div><div class=\"sk-parallel-item\"><div class=\"sk-item\"><div class=\"sk-label-container\"><div class=\"sk-label sk-toggleable\"><input class=\"sk-toggleable__control sk-hidden--visually\" id=\"0d2dec2c-f2ed-4dd8-a679-f9edde057ef7\" type=\"checkbox\" ><label for=\"0d2dec2c-f2ed-4dd8-a679-f9edde057ef7\" class=\"sk-toggleable__label sk-toggleable__label-arrow\">remainder</label><div class=\"sk-toggleable__content\"><pre>[&#x27;Age&#x27;, &#x27;Na_to_K&#x27;]</pre></div></div></div><div class=\"sk-serial\"><div class=\"sk-item\"><div class=\"sk-estimator sk-toggleable\"><input class=\"sk-toggleable__control sk-hidden--visually\" id=\"340d7c20-a991-485e-94ef-bc93de826707\" type=\"checkbox\" ><label for=\"340d7c20-a991-485e-94ef-bc93de826707\" class=\"sk-toggleable__label sk-toggleable__label-arrow\">StandardScaler</label><div class=\"sk-toggleable__content\"><pre>StandardScaler()</pre></div></div></div></div></div></div></div></div><div class=\"sk-item\"><div class=\"sk-estimator sk-toggleable\"><input class=\"sk-toggleable__control sk-hidden--visually\" id=\"c32a3017-548e-449d-8388-6465f1b74079\" type=\"checkbox\" ><label for=\"c32a3017-548e-449d-8388-6465f1b74079\" class=\"sk-toggleable__label sk-toggleable__label-arrow\">KNeighborsClassifier</label><div class=\"sk-toggleable__content\"><pre>KNeighborsClassifier(n_neighbors=7, p=1)</pre></div></div></div></div></div></div></div>"
            ]
          },
          "metadata": {},
          "execution_count": 69
        }
      ]
    },
    {
      "cell_type": "code",
      "source": [
        "knn.best_params_"
      ],
      "metadata": {
        "colab": {
          "base_uri": "https://localhost:8080/"
        },
        "id": "RX4T-T5lMfaR",
        "outputId": "9e78feba-6d7d-451e-cb9e-5563f404647c"
      },
      "execution_count": null,
      "outputs": [
        {
          "output_type": "execute_result",
          "data": {
            "text/plain": [
              "{'knn__n_neighbors': 7, 'knn__p': 1, 'knn__weights': 'uniform'}"
            ]
          },
          "metadata": {},
          "execution_count": 70
        }
      ]
    },
    {
      "cell_type": "code",
      "source": [
        "knn.best_score_"
      ],
      "metadata": {
        "colab": {
          "base_uri": "https://localhost:8080/"
        },
        "id": "WaTPgJpqMfdO",
        "outputId": "1eee858e-89a5-4468-e5bb-c01657d7b9e2"
      },
      "execution_count": null,
      "outputs": [
        {
          "output_type": "execute_result",
          "data": {
            "text/plain": [
              "0.8857142857142858"
            ]
          },
          "metadata": {},
          "execution_count": 71
        }
      ]
    },
    {
      "cell_type": "code",
      "source": [
        "knn.classes_"
      ],
      "metadata": {
        "colab": {
          "base_uri": "https://localhost:8080/"
        },
        "id": "0e2BsQhQMfgM",
        "outputId": "69a920c1-0543-4142-b66e-c8086699569b"
      },
      "execution_count": null,
      "outputs": [
        {
          "output_type": "execute_result",
          "data": {
            "text/plain": [
              "array(['DrugY', 'drugA', 'drugB', 'drugC', 'drugX'], dtype=object)"
            ]
          },
          "metadata": {},
          "execution_count": 72
        }
      ]
    },
    {
      "cell_type": "code",
      "source": [
        "#knn.cv_results_"
      ],
      "metadata": {
        "id": "MWc-yHRXNCmw"
      },
      "execution_count": null,
      "outputs": []
    },
    {
      "cell_type": "code",
      "source": [
        "knn.best_estimator_['knn']"
      ],
      "metadata": {
        "colab": {
          "base_uri": "https://localhost:8080/",
          "height": 75
        },
        "id": "H_RT4qnRNCqQ",
        "outputId": "d4866aa8-3e91-4503-dfe9-a64db8c231ec"
      },
      "execution_count": null,
      "outputs": [
        {
          "output_type": "execute_result",
          "data": {
            "text/plain": [
              "KNeighborsClassifier(n_neighbors=7, p=1)"
            ],
            "text/html": [
              "<style>#sk-90a3632a-5bc1-439f-9544-5ece3a3f7da0 {color: black;background-color: white;}#sk-90a3632a-5bc1-439f-9544-5ece3a3f7da0 pre{padding: 0;}#sk-90a3632a-5bc1-439f-9544-5ece3a3f7da0 div.sk-toggleable {background-color: white;}#sk-90a3632a-5bc1-439f-9544-5ece3a3f7da0 label.sk-toggleable__label {cursor: pointer;display: block;width: 100%;margin-bottom: 0;padding: 0.3em;box-sizing: border-box;text-align: center;}#sk-90a3632a-5bc1-439f-9544-5ece3a3f7da0 label.sk-toggleable__label-arrow:before {content: \"▸\";float: left;margin-right: 0.25em;color: #696969;}#sk-90a3632a-5bc1-439f-9544-5ece3a3f7da0 label.sk-toggleable__label-arrow:hover:before {color: black;}#sk-90a3632a-5bc1-439f-9544-5ece3a3f7da0 div.sk-estimator:hover label.sk-toggleable__label-arrow:before {color: black;}#sk-90a3632a-5bc1-439f-9544-5ece3a3f7da0 div.sk-toggleable__content {max-height: 0;max-width: 0;overflow: hidden;text-align: left;background-color: #f0f8ff;}#sk-90a3632a-5bc1-439f-9544-5ece3a3f7da0 div.sk-toggleable__content pre {margin: 0.2em;color: black;border-radius: 0.25em;background-color: #f0f8ff;}#sk-90a3632a-5bc1-439f-9544-5ece3a3f7da0 input.sk-toggleable__control:checked~div.sk-toggleable__content {max-height: 200px;max-width: 100%;overflow: auto;}#sk-90a3632a-5bc1-439f-9544-5ece3a3f7da0 input.sk-toggleable__control:checked~label.sk-toggleable__label-arrow:before {content: \"▾\";}#sk-90a3632a-5bc1-439f-9544-5ece3a3f7da0 div.sk-estimator input.sk-toggleable__control:checked~label.sk-toggleable__label {background-color: #d4ebff;}#sk-90a3632a-5bc1-439f-9544-5ece3a3f7da0 div.sk-label input.sk-toggleable__control:checked~label.sk-toggleable__label {background-color: #d4ebff;}#sk-90a3632a-5bc1-439f-9544-5ece3a3f7da0 input.sk-hidden--visually {border: 0;clip: rect(1px 1px 1px 1px);clip: rect(1px, 1px, 1px, 1px);height: 1px;margin: -1px;overflow: hidden;padding: 0;position: absolute;width: 1px;}#sk-90a3632a-5bc1-439f-9544-5ece3a3f7da0 div.sk-estimator {font-family: monospace;background-color: #f0f8ff;border: 1px dotted black;border-radius: 0.25em;box-sizing: border-box;margin-bottom: 0.5em;}#sk-90a3632a-5bc1-439f-9544-5ece3a3f7da0 div.sk-estimator:hover {background-color: #d4ebff;}#sk-90a3632a-5bc1-439f-9544-5ece3a3f7da0 div.sk-parallel-item::after {content: \"\";width: 100%;border-bottom: 1px solid gray;flex-grow: 1;}#sk-90a3632a-5bc1-439f-9544-5ece3a3f7da0 div.sk-label:hover label.sk-toggleable__label {background-color: #d4ebff;}#sk-90a3632a-5bc1-439f-9544-5ece3a3f7da0 div.sk-serial::before {content: \"\";position: absolute;border-left: 1px solid gray;box-sizing: border-box;top: 2em;bottom: 0;left: 50%;}#sk-90a3632a-5bc1-439f-9544-5ece3a3f7da0 div.sk-serial {display: flex;flex-direction: column;align-items: center;background-color: white;padding-right: 0.2em;padding-left: 0.2em;}#sk-90a3632a-5bc1-439f-9544-5ece3a3f7da0 div.sk-item {z-index: 1;}#sk-90a3632a-5bc1-439f-9544-5ece3a3f7da0 div.sk-parallel {display: flex;align-items: stretch;justify-content: center;background-color: white;}#sk-90a3632a-5bc1-439f-9544-5ece3a3f7da0 div.sk-parallel::before {content: \"\";position: absolute;border-left: 1px solid gray;box-sizing: border-box;top: 2em;bottom: 0;left: 50%;}#sk-90a3632a-5bc1-439f-9544-5ece3a3f7da0 div.sk-parallel-item {display: flex;flex-direction: column;position: relative;background-color: white;}#sk-90a3632a-5bc1-439f-9544-5ece3a3f7da0 div.sk-parallel-item:first-child::after {align-self: flex-end;width: 50%;}#sk-90a3632a-5bc1-439f-9544-5ece3a3f7da0 div.sk-parallel-item:last-child::after {align-self: flex-start;width: 50%;}#sk-90a3632a-5bc1-439f-9544-5ece3a3f7da0 div.sk-parallel-item:only-child::after {width: 0;}#sk-90a3632a-5bc1-439f-9544-5ece3a3f7da0 div.sk-dashed-wrapped {border: 1px dashed gray;margin: 0 0.4em 0.5em 0.4em;box-sizing: border-box;padding-bottom: 0.4em;background-color: white;position: relative;}#sk-90a3632a-5bc1-439f-9544-5ece3a3f7da0 div.sk-label label {font-family: monospace;font-weight: bold;background-color: white;display: inline-block;line-height: 1.2em;}#sk-90a3632a-5bc1-439f-9544-5ece3a3f7da0 div.sk-label-container {position: relative;z-index: 2;text-align: center;}#sk-90a3632a-5bc1-439f-9544-5ece3a3f7da0 div.sk-container {/* jupyter's `normalize.less` sets `[hidden] { display: none; }` but bootstrap.min.css set `[hidden] { display: none !important; }` so we also need the `!important` here to be able to override the default hidden behavior on the sphinx rendered scikit-learn.org. See: https://github.com/scikit-learn/scikit-learn/issues/21755 */display: inline-block !important;position: relative;}#sk-90a3632a-5bc1-439f-9544-5ece3a3f7da0 div.sk-text-repr-fallback {display: none;}</style><div id=\"sk-90a3632a-5bc1-439f-9544-5ece3a3f7da0\" class=\"sk-top-container\"><div class=\"sk-text-repr-fallback\"><pre>KNeighborsClassifier(n_neighbors=7, p=1)</pre><b>Please rerun this cell to show the HTML repr or trust the notebook.</b></div><div class=\"sk-container\" hidden><div class=\"sk-item\"><div class=\"sk-estimator sk-toggleable\"><input class=\"sk-toggleable__control sk-hidden--visually\" id=\"c77d87d9-f7bc-44b1-9002-2956f777f794\" type=\"checkbox\" checked><label for=\"c77d87d9-f7bc-44b1-9002-2956f777f794\" class=\"sk-toggleable__label sk-toggleable__label-arrow\">KNeighborsClassifier</label><div class=\"sk-toggleable__content\"><pre>KNeighborsClassifier(n_neighbors=7, p=1)</pre></div></div></div></div></div>"
            ]
          },
          "metadata": {},
          "execution_count": 74
        }
      ]
    },
    {
      "cell_type": "code",
      "source": [],
      "metadata": {
        "id": "d72CGKmoNDGz"
      },
      "execution_count": null,
      "outputs": []
    },
    {
      "cell_type": "markdown",
      "source": [
        "### Decision tree"
      ],
      "metadata": {
        "id": "OC_0Xb2qODVK"
      }
    },
    {
      "cell_type": "code",
      "source": [
        "#Decision Tree\n",
        "%%time\n",
        "dtree_grid=GridSearchCV(estimator=dtree_pipe,\n",
        "                      param_grid=dtree_params,\n",
        "                      cv=5)\n",
        "dtree=dtree_grid.fit(X_train,y_train)"
      ],
      "metadata": {
        "colab": {
          "base_uri": "https://localhost:8080/"
        },
        "id": "ymT0BH0kKDFQ",
        "outputId": "00b24b81-b80a-46fa-b580-d0e38e151b8d"
      },
      "execution_count": null,
      "outputs": [
        {
          "output_type": "stream",
          "name": "stdout",
          "text": [
            "CPU times: user 4.12 s, sys: 75.3 ms, total: 4.2 s\n",
            "Wall time: 4.13 s\n"
          ]
        }
      ]
    },
    {
      "cell_type": "code",
      "source": [
        "dtree.best_estimator_"
      ],
      "metadata": {
        "colab": {
          "base_uri": "https://localhost:8080/",
          "height": 192
        },
        "id": "dmW5yX8oLqJT",
        "outputId": "47d50ac2-8e24-4911-c87b-c70fcf456043"
      },
      "execution_count": null,
      "outputs": [
        {
          "output_type": "execute_result",
          "data": {
            "text/plain": [
              "Pipeline(steps=[('transformer',\n",
              "                 ColumnTransformer(remainder=StandardScaler(),\n",
              "                                   transformers=[('onehotencoder',\n",
              "                                                  OneHotEncoder(drop='if_binary'),\n",
              "                                                  ['Sex']),\n",
              "                                                 ('ordinalencoder-1',\n",
              "                                                  OrdinalEncoder(categories=[['LOW',\n",
              "                                                                              'NORMAL',\n",
              "                                                                              'HIGH']]),\n",
              "                                                  ['BP']),\n",
              "                                                 ('ordinalencoder-2',\n",
              "                                                  OrdinalEncoder(categories=[['NORMAL',\n",
              "                                                                              'HIGH']]),\n",
              "                                                  ['Cholesterol'])])),\n",
              "                ('dtree',\n",
              "                 DecisionTreeClassifier(max_depth=4, min_samples_split=0.1))])"
            ],
            "text/html": [
              "<style>#sk-61f2f036-06e4-49da-a21e-0db13c6d10bb {color: black;background-color: white;}#sk-61f2f036-06e4-49da-a21e-0db13c6d10bb pre{padding: 0;}#sk-61f2f036-06e4-49da-a21e-0db13c6d10bb div.sk-toggleable {background-color: white;}#sk-61f2f036-06e4-49da-a21e-0db13c6d10bb label.sk-toggleable__label {cursor: pointer;display: block;width: 100%;margin-bottom: 0;padding: 0.3em;box-sizing: border-box;text-align: center;}#sk-61f2f036-06e4-49da-a21e-0db13c6d10bb label.sk-toggleable__label-arrow:before {content: \"▸\";float: left;margin-right: 0.25em;color: #696969;}#sk-61f2f036-06e4-49da-a21e-0db13c6d10bb label.sk-toggleable__label-arrow:hover:before {color: black;}#sk-61f2f036-06e4-49da-a21e-0db13c6d10bb div.sk-estimator:hover label.sk-toggleable__label-arrow:before {color: black;}#sk-61f2f036-06e4-49da-a21e-0db13c6d10bb div.sk-toggleable__content {max-height: 0;max-width: 0;overflow: hidden;text-align: left;background-color: #f0f8ff;}#sk-61f2f036-06e4-49da-a21e-0db13c6d10bb div.sk-toggleable__content pre {margin: 0.2em;color: black;border-radius: 0.25em;background-color: #f0f8ff;}#sk-61f2f036-06e4-49da-a21e-0db13c6d10bb input.sk-toggleable__control:checked~div.sk-toggleable__content {max-height: 200px;max-width: 100%;overflow: auto;}#sk-61f2f036-06e4-49da-a21e-0db13c6d10bb input.sk-toggleable__control:checked~label.sk-toggleable__label-arrow:before {content: \"▾\";}#sk-61f2f036-06e4-49da-a21e-0db13c6d10bb div.sk-estimator input.sk-toggleable__control:checked~label.sk-toggleable__label {background-color: #d4ebff;}#sk-61f2f036-06e4-49da-a21e-0db13c6d10bb div.sk-label input.sk-toggleable__control:checked~label.sk-toggleable__label {background-color: #d4ebff;}#sk-61f2f036-06e4-49da-a21e-0db13c6d10bb input.sk-hidden--visually {border: 0;clip: rect(1px 1px 1px 1px);clip: rect(1px, 1px, 1px, 1px);height: 1px;margin: -1px;overflow: hidden;padding: 0;position: absolute;width: 1px;}#sk-61f2f036-06e4-49da-a21e-0db13c6d10bb div.sk-estimator {font-family: monospace;background-color: #f0f8ff;border: 1px dotted black;border-radius: 0.25em;box-sizing: border-box;margin-bottom: 0.5em;}#sk-61f2f036-06e4-49da-a21e-0db13c6d10bb div.sk-estimator:hover {background-color: #d4ebff;}#sk-61f2f036-06e4-49da-a21e-0db13c6d10bb div.sk-parallel-item::after {content: \"\";width: 100%;border-bottom: 1px solid gray;flex-grow: 1;}#sk-61f2f036-06e4-49da-a21e-0db13c6d10bb div.sk-label:hover label.sk-toggleable__label {background-color: #d4ebff;}#sk-61f2f036-06e4-49da-a21e-0db13c6d10bb div.sk-serial::before {content: \"\";position: absolute;border-left: 1px solid gray;box-sizing: border-box;top: 2em;bottom: 0;left: 50%;}#sk-61f2f036-06e4-49da-a21e-0db13c6d10bb div.sk-serial {display: flex;flex-direction: column;align-items: center;background-color: white;padding-right: 0.2em;padding-left: 0.2em;}#sk-61f2f036-06e4-49da-a21e-0db13c6d10bb div.sk-item {z-index: 1;}#sk-61f2f036-06e4-49da-a21e-0db13c6d10bb div.sk-parallel {display: flex;align-items: stretch;justify-content: center;background-color: white;}#sk-61f2f036-06e4-49da-a21e-0db13c6d10bb div.sk-parallel::before {content: \"\";position: absolute;border-left: 1px solid gray;box-sizing: border-box;top: 2em;bottom: 0;left: 50%;}#sk-61f2f036-06e4-49da-a21e-0db13c6d10bb div.sk-parallel-item {display: flex;flex-direction: column;position: relative;background-color: white;}#sk-61f2f036-06e4-49da-a21e-0db13c6d10bb div.sk-parallel-item:first-child::after {align-self: flex-end;width: 50%;}#sk-61f2f036-06e4-49da-a21e-0db13c6d10bb div.sk-parallel-item:last-child::after {align-self: flex-start;width: 50%;}#sk-61f2f036-06e4-49da-a21e-0db13c6d10bb div.sk-parallel-item:only-child::after {width: 0;}#sk-61f2f036-06e4-49da-a21e-0db13c6d10bb div.sk-dashed-wrapped {border: 1px dashed gray;margin: 0 0.4em 0.5em 0.4em;box-sizing: border-box;padding-bottom: 0.4em;background-color: white;position: relative;}#sk-61f2f036-06e4-49da-a21e-0db13c6d10bb div.sk-label label {font-family: monospace;font-weight: bold;background-color: white;display: inline-block;line-height: 1.2em;}#sk-61f2f036-06e4-49da-a21e-0db13c6d10bb div.sk-label-container {position: relative;z-index: 2;text-align: center;}#sk-61f2f036-06e4-49da-a21e-0db13c6d10bb div.sk-container {/* jupyter's `normalize.less` sets `[hidden] { display: none; }` but bootstrap.min.css set `[hidden] { display: none !important; }` so we also need the `!important` here to be able to override the default hidden behavior on the sphinx rendered scikit-learn.org. See: https://github.com/scikit-learn/scikit-learn/issues/21755 */display: inline-block !important;position: relative;}#sk-61f2f036-06e4-49da-a21e-0db13c6d10bb div.sk-text-repr-fallback {display: none;}</style><div id=\"sk-61f2f036-06e4-49da-a21e-0db13c6d10bb\" class=\"sk-top-container\"><div class=\"sk-text-repr-fallback\"><pre>Pipeline(steps=[(&#x27;transformer&#x27;,\n",
              "                 ColumnTransformer(remainder=StandardScaler(),\n",
              "                                   transformers=[(&#x27;onehotencoder&#x27;,\n",
              "                                                  OneHotEncoder(drop=&#x27;if_binary&#x27;),\n",
              "                                                  [&#x27;Sex&#x27;]),\n",
              "                                                 (&#x27;ordinalencoder-1&#x27;,\n",
              "                                                  OrdinalEncoder(categories=[[&#x27;LOW&#x27;,\n",
              "                                                                              &#x27;NORMAL&#x27;,\n",
              "                                                                              &#x27;HIGH&#x27;]]),\n",
              "                                                  [&#x27;BP&#x27;]),\n",
              "                                                 (&#x27;ordinalencoder-2&#x27;,\n",
              "                                                  OrdinalEncoder(categories=[[&#x27;NORMAL&#x27;,\n",
              "                                                                              &#x27;HIGH&#x27;]]),\n",
              "                                                  [&#x27;Cholesterol&#x27;])])),\n",
              "                (&#x27;dtree&#x27;,\n",
              "                 DecisionTreeClassifier(max_depth=4, min_samples_split=0.1))])</pre><b>Please rerun this cell to show the HTML repr or trust the notebook.</b></div><div class=\"sk-container\" hidden><div class=\"sk-item sk-dashed-wrapped\"><div class=\"sk-label-container\"><div class=\"sk-label sk-toggleable\"><input class=\"sk-toggleable__control sk-hidden--visually\" id=\"ec3ae934-3948-4021-819f-2f023c74431f\" type=\"checkbox\" ><label for=\"ec3ae934-3948-4021-819f-2f023c74431f\" class=\"sk-toggleable__label sk-toggleable__label-arrow\">Pipeline</label><div class=\"sk-toggleable__content\"><pre>Pipeline(steps=[(&#x27;transformer&#x27;,\n",
              "                 ColumnTransformer(remainder=StandardScaler(),\n",
              "                                   transformers=[(&#x27;onehotencoder&#x27;,\n",
              "                                                  OneHotEncoder(drop=&#x27;if_binary&#x27;),\n",
              "                                                  [&#x27;Sex&#x27;]),\n",
              "                                                 (&#x27;ordinalencoder-1&#x27;,\n",
              "                                                  OrdinalEncoder(categories=[[&#x27;LOW&#x27;,\n",
              "                                                                              &#x27;NORMAL&#x27;,\n",
              "                                                                              &#x27;HIGH&#x27;]]),\n",
              "                                                  [&#x27;BP&#x27;]),\n",
              "                                                 (&#x27;ordinalencoder-2&#x27;,\n",
              "                                                  OrdinalEncoder(categories=[[&#x27;NORMAL&#x27;,\n",
              "                                                                              &#x27;HIGH&#x27;]]),\n",
              "                                                  [&#x27;Cholesterol&#x27;])])),\n",
              "                (&#x27;dtree&#x27;,\n",
              "                 DecisionTreeClassifier(max_depth=4, min_samples_split=0.1))])</pre></div></div></div><div class=\"sk-serial\"><div class=\"sk-item sk-dashed-wrapped\"><div class=\"sk-label-container\"><div class=\"sk-label sk-toggleable\"><input class=\"sk-toggleable__control sk-hidden--visually\" id=\"451ab66b-7c93-4db9-8f93-7eb49ae8ef5d\" type=\"checkbox\" ><label for=\"451ab66b-7c93-4db9-8f93-7eb49ae8ef5d\" class=\"sk-toggleable__label sk-toggleable__label-arrow\">transformer: ColumnTransformer</label><div class=\"sk-toggleable__content\"><pre>ColumnTransformer(remainder=StandardScaler(),\n",
              "                  transformers=[(&#x27;onehotencoder&#x27;,\n",
              "                                 OneHotEncoder(drop=&#x27;if_binary&#x27;), [&#x27;Sex&#x27;]),\n",
              "                                (&#x27;ordinalencoder-1&#x27;,\n",
              "                                 OrdinalEncoder(categories=[[&#x27;LOW&#x27;, &#x27;NORMAL&#x27;,\n",
              "                                                             &#x27;HIGH&#x27;]]),\n",
              "                                 [&#x27;BP&#x27;]),\n",
              "                                (&#x27;ordinalencoder-2&#x27;,\n",
              "                                 OrdinalEncoder(categories=[[&#x27;NORMAL&#x27;,\n",
              "                                                             &#x27;HIGH&#x27;]]),\n",
              "                                 [&#x27;Cholesterol&#x27;])])</pre></div></div></div><div class=\"sk-parallel\"><div class=\"sk-parallel-item\"><div class=\"sk-item\"><div class=\"sk-label-container\"><div class=\"sk-label sk-toggleable\"><input class=\"sk-toggleable__control sk-hidden--visually\" id=\"aab0d74a-38a8-4fbc-a699-a25981424135\" type=\"checkbox\" ><label for=\"aab0d74a-38a8-4fbc-a699-a25981424135\" class=\"sk-toggleable__label sk-toggleable__label-arrow\">onehotencoder</label><div class=\"sk-toggleable__content\"><pre>[&#x27;Sex&#x27;]</pre></div></div></div><div class=\"sk-serial\"><div class=\"sk-item\"><div class=\"sk-estimator sk-toggleable\"><input class=\"sk-toggleable__control sk-hidden--visually\" id=\"210e60e3-5246-4810-a366-378bf60f9720\" type=\"checkbox\" ><label for=\"210e60e3-5246-4810-a366-378bf60f9720\" class=\"sk-toggleable__label sk-toggleable__label-arrow\">OneHotEncoder</label><div class=\"sk-toggleable__content\"><pre>OneHotEncoder(drop=&#x27;if_binary&#x27;)</pre></div></div></div></div></div></div><div class=\"sk-parallel-item\"><div class=\"sk-item\"><div class=\"sk-label-container\"><div class=\"sk-label sk-toggleable\"><input class=\"sk-toggleable__control sk-hidden--visually\" id=\"260fceeb-9da0-4502-a2c1-2f01bf4310c1\" type=\"checkbox\" ><label for=\"260fceeb-9da0-4502-a2c1-2f01bf4310c1\" class=\"sk-toggleable__label sk-toggleable__label-arrow\">ordinalencoder-1</label><div class=\"sk-toggleable__content\"><pre>[&#x27;BP&#x27;]</pre></div></div></div><div class=\"sk-serial\"><div class=\"sk-item\"><div class=\"sk-estimator sk-toggleable\"><input class=\"sk-toggleable__control sk-hidden--visually\" id=\"a90111c9-6079-4711-a84c-b0a9f785bcb1\" type=\"checkbox\" ><label for=\"a90111c9-6079-4711-a84c-b0a9f785bcb1\" class=\"sk-toggleable__label sk-toggleable__label-arrow\">OrdinalEncoder</label><div class=\"sk-toggleable__content\"><pre>OrdinalEncoder(categories=[[&#x27;LOW&#x27;, &#x27;NORMAL&#x27;, &#x27;HIGH&#x27;]])</pre></div></div></div></div></div></div><div class=\"sk-parallel-item\"><div class=\"sk-item\"><div class=\"sk-label-container\"><div class=\"sk-label sk-toggleable\"><input class=\"sk-toggleable__control sk-hidden--visually\" id=\"21988e8d-f944-4542-9765-f5876f3abc78\" type=\"checkbox\" ><label for=\"21988e8d-f944-4542-9765-f5876f3abc78\" class=\"sk-toggleable__label sk-toggleable__label-arrow\">ordinalencoder-2</label><div class=\"sk-toggleable__content\"><pre>[&#x27;Cholesterol&#x27;]</pre></div></div></div><div class=\"sk-serial\"><div class=\"sk-item\"><div class=\"sk-estimator sk-toggleable\"><input class=\"sk-toggleable__control sk-hidden--visually\" id=\"84ad6822-971c-4f39-a74b-cd28ab8b3600\" type=\"checkbox\" ><label for=\"84ad6822-971c-4f39-a74b-cd28ab8b3600\" class=\"sk-toggleable__label sk-toggleable__label-arrow\">OrdinalEncoder</label><div class=\"sk-toggleable__content\"><pre>OrdinalEncoder(categories=[[&#x27;NORMAL&#x27;, &#x27;HIGH&#x27;]])</pre></div></div></div></div></div></div><div class=\"sk-parallel-item\"><div class=\"sk-item\"><div class=\"sk-label-container\"><div class=\"sk-label sk-toggleable\"><input class=\"sk-toggleable__control sk-hidden--visually\" id=\"e594d378-c1ee-49a6-96cd-c3ec8fd75ecb\" type=\"checkbox\" ><label for=\"e594d378-c1ee-49a6-96cd-c3ec8fd75ecb\" class=\"sk-toggleable__label sk-toggleable__label-arrow\">remainder</label><div class=\"sk-toggleable__content\"><pre>[&#x27;Age&#x27;, &#x27;Na_to_K&#x27;]</pre></div></div></div><div class=\"sk-serial\"><div class=\"sk-item\"><div class=\"sk-estimator sk-toggleable\"><input class=\"sk-toggleable__control sk-hidden--visually\" id=\"29c63961-c9f5-4d13-96c1-cec8b94ff025\" type=\"checkbox\" ><label for=\"29c63961-c9f5-4d13-96c1-cec8b94ff025\" class=\"sk-toggleable__label sk-toggleable__label-arrow\">StandardScaler</label><div class=\"sk-toggleable__content\"><pre>StandardScaler()</pre></div></div></div></div></div></div></div></div><div class=\"sk-item\"><div class=\"sk-estimator sk-toggleable\"><input class=\"sk-toggleable__control sk-hidden--visually\" id=\"e11adada-e9c0-4412-a1be-9604b8e1b0c2\" type=\"checkbox\" ><label for=\"e11adada-e9c0-4412-a1be-9604b8e1b0c2\" class=\"sk-toggleable__label sk-toggleable__label-arrow\">DecisionTreeClassifier</label><div class=\"sk-toggleable__content\"><pre>DecisionTreeClassifier(max_depth=4, min_samples_split=0.1)</pre></div></div></div></div></div></div></div>"
            ]
          },
          "metadata": {},
          "execution_count": 76
        }
      ]
    },
    {
      "cell_type": "code",
      "source": [
        "dtree.best_params_"
      ],
      "metadata": {
        "colab": {
          "base_uri": "https://localhost:8080/"
        },
        "id": "hQ4iFEdpPp8I",
        "outputId": "5c5d63d0-4c60-4713-d8bb-427f4487dcb6"
      },
      "execution_count": null,
      "outputs": [
        {
          "output_type": "execute_result",
          "data": {
            "text/plain": [
              "{'dtree__criterion': 'gini',\n",
              " 'dtree__max_depth': 4,\n",
              " 'dtree__min_samples_leaf': 1,\n",
              " 'dtree__min_samples_split': 0.1}"
            ]
          },
          "metadata": {},
          "execution_count": 77
        }
      ]
    },
    {
      "cell_type": "code",
      "source": [
        "dtree.best_score_"
      ],
      "metadata": {
        "colab": {
          "base_uri": "https://localhost:8080/"
        },
        "id": "Qy-BZlHxPscs",
        "outputId": "e915b0c0-2308-4068-ba28-4f3fb4075187"
      },
      "execution_count": null,
      "outputs": [
        {
          "output_type": "execute_result",
          "data": {
            "text/plain": [
              "0.9928571428571429"
            ]
          },
          "metadata": {},
          "execution_count": 78
        }
      ]
    },
    {
      "cell_type": "code",
      "source": [
        "dtree.classes_"
      ],
      "metadata": {
        "colab": {
          "base_uri": "https://localhost:8080/"
        },
        "id": "jgy_ui6cPwwC",
        "outputId": "cbbc39c6-5de9-467b-d33b-81008a7b9247"
      },
      "execution_count": null,
      "outputs": [
        {
          "output_type": "execute_result",
          "data": {
            "text/plain": [
              "array(['DrugY', 'drugA', 'drugB', 'drugC', 'drugX'], dtype=object)"
            ]
          },
          "metadata": {},
          "execution_count": 79
        }
      ]
    },
    {
      "cell_type": "code",
      "source": [
        "#dtree.cv_results_"
      ],
      "metadata": {
        "id": "bAwoaLLyP1Sn"
      },
      "execution_count": null,
      "outputs": []
    },
    {
      "cell_type": "code",
      "source": [
        "dtree.best_estimator_['dtree']"
      ],
      "metadata": {
        "colab": {
          "base_uri": "https://localhost:8080/",
          "height": 75
        },
        "id": "fMlmG7pJP4M3",
        "outputId": "a48ce0b6-1624-4397-ae6f-520c517f1608"
      },
      "execution_count": null,
      "outputs": [
        {
          "output_type": "execute_result",
          "data": {
            "text/plain": [
              "DecisionTreeClassifier(max_depth=4, min_samples_split=0.1)"
            ],
            "text/html": [
              "<style>#sk-55635d98-575d-49bd-a3e5-bcbe2e55f801 {color: black;background-color: white;}#sk-55635d98-575d-49bd-a3e5-bcbe2e55f801 pre{padding: 0;}#sk-55635d98-575d-49bd-a3e5-bcbe2e55f801 div.sk-toggleable {background-color: white;}#sk-55635d98-575d-49bd-a3e5-bcbe2e55f801 label.sk-toggleable__label {cursor: pointer;display: block;width: 100%;margin-bottom: 0;padding: 0.3em;box-sizing: border-box;text-align: center;}#sk-55635d98-575d-49bd-a3e5-bcbe2e55f801 label.sk-toggleable__label-arrow:before {content: \"▸\";float: left;margin-right: 0.25em;color: #696969;}#sk-55635d98-575d-49bd-a3e5-bcbe2e55f801 label.sk-toggleable__label-arrow:hover:before {color: black;}#sk-55635d98-575d-49bd-a3e5-bcbe2e55f801 div.sk-estimator:hover label.sk-toggleable__label-arrow:before {color: black;}#sk-55635d98-575d-49bd-a3e5-bcbe2e55f801 div.sk-toggleable__content {max-height: 0;max-width: 0;overflow: hidden;text-align: left;background-color: #f0f8ff;}#sk-55635d98-575d-49bd-a3e5-bcbe2e55f801 div.sk-toggleable__content pre {margin: 0.2em;color: black;border-radius: 0.25em;background-color: #f0f8ff;}#sk-55635d98-575d-49bd-a3e5-bcbe2e55f801 input.sk-toggleable__control:checked~div.sk-toggleable__content {max-height: 200px;max-width: 100%;overflow: auto;}#sk-55635d98-575d-49bd-a3e5-bcbe2e55f801 input.sk-toggleable__control:checked~label.sk-toggleable__label-arrow:before {content: \"▾\";}#sk-55635d98-575d-49bd-a3e5-bcbe2e55f801 div.sk-estimator input.sk-toggleable__control:checked~label.sk-toggleable__label {background-color: #d4ebff;}#sk-55635d98-575d-49bd-a3e5-bcbe2e55f801 div.sk-label input.sk-toggleable__control:checked~label.sk-toggleable__label {background-color: #d4ebff;}#sk-55635d98-575d-49bd-a3e5-bcbe2e55f801 input.sk-hidden--visually {border: 0;clip: rect(1px 1px 1px 1px);clip: rect(1px, 1px, 1px, 1px);height: 1px;margin: -1px;overflow: hidden;padding: 0;position: absolute;width: 1px;}#sk-55635d98-575d-49bd-a3e5-bcbe2e55f801 div.sk-estimator {font-family: monospace;background-color: #f0f8ff;border: 1px dotted black;border-radius: 0.25em;box-sizing: border-box;margin-bottom: 0.5em;}#sk-55635d98-575d-49bd-a3e5-bcbe2e55f801 div.sk-estimator:hover {background-color: #d4ebff;}#sk-55635d98-575d-49bd-a3e5-bcbe2e55f801 div.sk-parallel-item::after {content: \"\";width: 100%;border-bottom: 1px solid gray;flex-grow: 1;}#sk-55635d98-575d-49bd-a3e5-bcbe2e55f801 div.sk-label:hover label.sk-toggleable__label {background-color: #d4ebff;}#sk-55635d98-575d-49bd-a3e5-bcbe2e55f801 div.sk-serial::before {content: \"\";position: absolute;border-left: 1px solid gray;box-sizing: border-box;top: 2em;bottom: 0;left: 50%;}#sk-55635d98-575d-49bd-a3e5-bcbe2e55f801 div.sk-serial {display: flex;flex-direction: column;align-items: center;background-color: white;padding-right: 0.2em;padding-left: 0.2em;}#sk-55635d98-575d-49bd-a3e5-bcbe2e55f801 div.sk-item {z-index: 1;}#sk-55635d98-575d-49bd-a3e5-bcbe2e55f801 div.sk-parallel {display: flex;align-items: stretch;justify-content: center;background-color: white;}#sk-55635d98-575d-49bd-a3e5-bcbe2e55f801 div.sk-parallel::before {content: \"\";position: absolute;border-left: 1px solid gray;box-sizing: border-box;top: 2em;bottom: 0;left: 50%;}#sk-55635d98-575d-49bd-a3e5-bcbe2e55f801 div.sk-parallel-item {display: flex;flex-direction: column;position: relative;background-color: white;}#sk-55635d98-575d-49bd-a3e5-bcbe2e55f801 div.sk-parallel-item:first-child::after {align-self: flex-end;width: 50%;}#sk-55635d98-575d-49bd-a3e5-bcbe2e55f801 div.sk-parallel-item:last-child::after {align-self: flex-start;width: 50%;}#sk-55635d98-575d-49bd-a3e5-bcbe2e55f801 div.sk-parallel-item:only-child::after {width: 0;}#sk-55635d98-575d-49bd-a3e5-bcbe2e55f801 div.sk-dashed-wrapped {border: 1px dashed gray;margin: 0 0.4em 0.5em 0.4em;box-sizing: border-box;padding-bottom: 0.4em;background-color: white;position: relative;}#sk-55635d98-575d-49bd-a3e5-bcbe2e55f801 div.sk-label label {font-family: monospace;font-weight: bold;background-color: white;display: inline-block;line-height: 1.2em;}#sk-55635d98-575d-49bd-a3e5-bcbe2e55f801 div.sk-label-container {position: relative;z-index: 2;text-align: center;}#sk-55635d98-575d-49bd-a3e5-bcbe2e55f801 div.sk-container {/* jupyter's `normalize.less` sets `[hidden] { display: none; }` but bootstrap.min.css set `[hidden] { display: none !important; }` so we also need the `!important` here to be able to override the default hidden behavior on the sphinx rendered scikit-learn.org. See: https://github.com/scikit-learn/scikit-learn/issues/21755 */display: inline-block !important;position: relative;}#sk-55635d98-575d-49bd-a3e5-bcbe2e55f801 div.sk-text-repr-fallback {display: none;}</style><div id=\"sk-55635d98-575d-49bd-a3e5-bcbe2e55f801\" class=\"sk-top-container\"><div class=\"sk-text-repr-fallback\"><pre>DecisionTreeClassifier(max_depth=4, min_samples_split=0.1)</pre><b>Please rerun this cell to show the HTML repr or trust the notebook.</b></div><div class=\"sk-container\" hidden><div class=\"sk-item\"><div class=\"sk-estimator sk-toggleable\"><input class=\"sk-toggleable__control sk-hidden--visually\" id=\"6410c7b1-3fe2-4410-8240-28b51ee565d7\" type=\"checkbox\" checked><label for=\"6410c7b1-3fe2-4410-8240-28b51ee565d7\" class=\"sk-toggleable__label sk-toggleable__label-arrow\">DecisionTreeClassifier</label><div class=\"sk-toggleable__content\"><pre>DecisionTreeClassifier(max_depth=4, min_samples_split=0.1)</pre></div></div></div></div></div>"
            ]
          },
          "metadata": {},
          "execution_count": 81
        }
      ]
    },
    {
      "cell_type": "code",
      "source": [],
      "metadata": {
        "id": "bK7vv3nnQMJH"
      },
      "execution_count": null,
      "outputs": []
    },
    {
      "cell_type": "markdown",
      "source": [
        "### Logestic Regression"
      ],
      "metadata": {
        "id": "OMGbbJXNQPb_"
      }
    },
    {
      "cell_type": "code",
      "source": [
        "%%time\n",
        "lgr_model=lgr_pipe.fit(X_train,y_train)"
      ],
      "metadata": {
        "colab": {
          "base_uri": "https://localhost:8080/"
        },
        "id": "za9vt0NjQR7P",
        "outputId": "312a9cf1-a7de-45df-bd79-e2be47a1ce08"
      },
      "execution_count": null,
      "outputs": [
        {
          "output_type": "stream",
          "name": "stdout",
          "text": [
            "CPU times: user 38.2 ms, sys: 6.05 ms, total: 44.2 ms\n",
            "Wall time: 43.4 ms\n"
          ]
        }
      ]
    },
    {
      "cell_type": "code",
      "source": [
        "lgr_model.classes_"
      ],
      "metadata": {
        "colab": {
          "base_uri": "https://localhost:8080/"
        },
        "id": "yy8byeGjQz3h",
        "outputId": "5a9bfbef-ce85-447e-8aa6-db086a882e7f"
      },
      "execution_count": null,
      "outputs": [
        {
          "output_type": "execute_result",
          "data": {
            "text/plain": [
              "array(['DrugY', 'drugA', 'drugB', 'drugC', 'drugX'], dtype=object)"
            ]
          },
          "metadata": {},
          "execution_count": 84
        }
      ]
    },
    {
      "cell_type": "code",
      "source": [
        "lgr_model.feature_names_in_"
      ],
      "metadata": {
        "colab": {
          "base_uri": "https://localhost:8080/"
        },
        "id": "0yS9n_rfRu9_",
        "outputId": "8d00f748-4dc9-4753-93bf-cbf6622c960e"
      },
      "execution_count": null,
      "outputs": [
        {
          "output_type": "execute_result",
          "data": {
            "text/plain": [
              "array(['Age', 'Sex', 'BP', 'Cholesterol', 'Na_to_K'], dtype=object)"
            ]
          },
          "metadata": {},
          "execution_count": 85
        }
      ]
    },
    {
      "cell_type": "code",
      "source": [
        "lgr_model.get_feature_names_out"
      ],
      "metadata": {
        "colab": {
          "base_uri": "https://localhost:8080/"
        },
        "id": "-LeZR6dCRzWo",
        "outputId": "9667ac3e-9062-4611-92df-702f0d558fe6"
      },
      "execution_count": null,
      "outputs": [
        {
          "output_type": "execute_result",
          "data": {
            "text/plain": [
              "<bound method Pipeline.get_feature_names_out of Pipeline(steps=[('transformer',\n",
              "                 ColumnTransformer(remainder=StandardScaler(),\n",
              "                                   transformers=[('onehotencoder',\n",
              "                                                  OneHotEncoder(drop='if_binary'),\n",
              "                                                  ['Sex']),\n",
              "                                                 ('ordinalencoder-1',\n",
              "                                                  OrdinalEncoder(categories=[['LOW',\n",
              "                                                                              'NORMAL',\n",
              "                                                                              'HIGH']]),\n",
              "                                                  ['BP']),\n",
              "                                                 ('ordinalencoder-2',\n",
              "                                                  OrdinalEncoder(categories=[['NORMAL',\n",
              "                                                                              'HIGH']]),\n",
              "                                                  ['Cholesterol'])])),\n",
              "                ('selector',\n",
              "                 SelectFromModel(estimator=LogisticRegression(multi_class='multinomial',\n",
              "                                                              random_state=42))),\n",
              "                ('lrg', LogisticRegression())])>"
            ]
          },
          "metadata": {},
          "execution_count": 86
        }
      ]
    },
    {
      "cell_type": "code",
      "source": [
        "lgr_model.get_params"
      ],
      "metadata": {
        "colab": {
          "base_uri": "https://localhost:8080/"
        },
        "id": "Dnf1bGozR40Q",
        "outputId": "40c245ae-45e6-44bc-9084-defe4e593164"
      },
      "execution_count": null,
      "outputs": [
        {
          "output_type": "execute_result",
          "data": {
            "text/plain": [
              "<bound method Pipeline.get_params of Pipeline(steps=[('transformer',\n",
              "                 ColumnTransformer(remainder=StandardScaler(),\n",
              "                                   transformers=[('onehotencoder',\n",
              "                                                  OneHotEncoder(drop='if_binary'),\n",
              "                                                  ['Sex']),\n",
              "                                                 ('ordinalencoder-1',\n",
              "                                                  OrdinalEncoder(categories=[['LOW',\n",
              "                                                                              'NORMAL',\n",
              "                                                                              'HIGH']]),\n",
              "                                                  ['BP']),\n",
              "                                                 ('ordinalencoder-2',\n",
              "                                                  OrdinalEncoder(categories=[['NORMAL',\n",
              "                                                                              'HIGH']]),\n",
              "                                                  ['Cholesterol'])])),\n",
              "                ('selector',\n",
              "                 SelectFromModel(estimator=LogisticRegression(multi_class='multinomial',\n",
              "                                                              random_state=42))),\n",
              "                ('lrg', LogisticRegression())])>"
            ]
          },
          "metadata": {},
          "execution_count": 87
        }
      ]
    },
    {
      "cell_type": "code",
      "source": [
        "lgr_model.named_steps['transformer']"
      ],
      "metadata": {
        "colab": {
          "base_uri": "https://localhost:8080/",
          "height": 118
        },
        "id": "JhnPZ2TmSBAu",
        "outputId": "920e79c3-c154-4bbf-f2c0-33d3a23014cd"
      },
      "execution_count": null,
      "outputs": [
        {
          "output_type": "execute_result",
          "data": {
            "text/plain": [
              "ColumnTransformer(remainder=StandardScaler(),\n",
              "                  transformers=[('onehotencoder',\n",
              "                                 OneHotEncoder(drop='if_binary'), ['Sex']),\n",
              "                                ('ordinalencoder-1',\n",
              "                                 OrdinalEncoder(categories=[['LOW', 'NORMAL',\n",
              "                                                             'HIGH']]),\n",
              "                                 ['BP']),\n",
              "                                ('ordinalencoder-2',\n",
              "                                 OrdinalEncoder(categories=[['NORMAL',\n",
              "                                                             'HIGH']]),\n",
              "                                 ['Cholesterol'])])"
            ],
            "text/html": [
              "<style>#sk-8a75df8f-ea51-4a7a-869f-8240b11d0874 {color: black;background-color: white;}#sk-8a75df8f-ea51-4a7a-869f-8240b11d0874 pre{padding: 0;}#sk-8a75df8f-ea51-4a7a-869f-8240b11d0874 div.sk-toggleable {background-color: white;}#sk-8a75df8f-ea51-4a7a-869f-8240b11d0874 label.sk-toggleable__label {cursor: pointer;display: block;width: 100%;margin-bottom: 0;padding: 0.3em;box-sizing: border-box;text-align: center;}#sk-8a75df8f-ea51-4a7a-869f-8240b11d0874 label.sk-toggleable__label-arrow:before {content: \"▸\";float: left;margin-right: 0.25em;color: #696969;}#sk-8a75df8f-ea51-4a7a-869f-8240b11d0874 label.sk-toggleable__label-arrow:hover:before {color: black;}#sk-8a75df8f-ea51-4a7a-869f-8240b11d0874 div.sk-estimator:hover label.sk-toggleable__label-arrow:before {color: black;}#sk-8a75df8f-ea51-4a7a-869f-8240b11d0874 div.sk-toggleable__content {max-height: 0;max-width: 0;overflow: hidden;text-align: left;background-color: #f0f8ff;}#sk-8a75df8f-ea51-4a7a-869f-8240b11d0874 div.sk-toggleable__content pre {margin: 0.2em;color: black;border-radius: 0.25em;background-color: #f0f8ff;}#sk-8a75df8f-ea51-4a7a-869f-8240b11d0874 input.sk-toggleable__control:checked~div.sk-toggleable__content {max-height: 200px;max-width: 100%;overflow: auto;}#sk-8a75df8f-ea51-4a7a-869f-8240b11d0874 input.sk-toggleable__control:checked~label.sk-toggleable__label-arrow:before {content: \"▾\";}#sk-8a75df8f-ea51-4a7a-869f-8240b11d0874 div.sk-estimator input.sk-toggleable__control:checked~label.sk-toggleable__label {background-color: #d4ebff;}#sk-8a75df8f-ea51-4a7a-869f-8240b11d0874 div.sk-label input.sk-toggleable__control:checked~label.sk-toggleable__label {background-color: #d4ebff;}#sk-8a75df8f-ea51-4a7a-869f-8240b11d0874 input.sk-hidden--visually {border: 0;clip: rect(1px 1px 1px 1px);clip: rect(1px, 1px, 1px, 1px);height: 1px;margin: -1px;overflow: hidden;padding: 0;position: absolute;width: 1px;}#sk-8a75df8f-ea51-4a7a-869f-8240b11d0874 div.sk-estimator {font-family: monospace;background-color: #f0f8ff;border: 1px dotted black;border-radius: 0.25em;box-sizing: border-box;margin-bottom: 0.5em;}#sk-8a75df8f-ea51-4a7a-869f-8240b11d0874 div.sk-estimator:hover {background-color: #d4ebff;}#sk-8a75df8f-ea51-4a7a-869f-8240b11d0874 div.sk-parallel-item::after {content: \"\";width: 100%;border-bottom: 1px solid gray;flex-grow: 1;}#sk-8a75df8f-ea51-4a7a-869f-8240b11d0874 div.sk-label:hover label.sk-toggleable__label {background-color: #d4ebff;}#sk-8a75df8f-ea51-4a7a-869f-8240b11d0874 div.sk-serial::before {content: \"\";position: absolute;border-left: 1px solid gray;box-sizing: border-box;top: 2em;bottom: 0;left: 50%;}#sk-8a75df8f-ea51-4a7a-869f-8240b11d0874 div.sk-serial {display: flex;flex-direction: column;align-items: center;background-color: white;padding-right: 0.2em;padding-left: 0.2em;}#sk-8a75df8f-ea51-4a7a-869f-8240b11d0874 div.sk-item {z-index: 1;}#sk-8a75df8f-ea51-4a7a-869f-8240b11d0874 div.sk-parallel {display: flex;align-items: stretch;justify-content: center;background-color: white;}#sk-8a75df8f-ea51-4a7a-869f-8240b11d0874 div.sk-parallel::before {content: \"\";position: absolute;border-left: 1px solid gray;box-sizing: border-box;top: 2em;bottom: 0;left: 50%;}#sk-8a75df8f-ea51-4a7a-869f-8240b11d0874 div.sk-parallel-item {display: flex;flex-direction: column;position: relative;background-color: white;}#sk-8a75df8f-ea51-4a7a-869f-8240b11d0874 div.sk-parallel-item:first-child::after {align-self: flex-end;width: 50%;}#sk-8a75df8f-ea51-4a7a-869f-8240b11d0874 div.sk-parallel-item:last-child::after {align-self: flex-start;width: 50%;}#sk-8a75df8f-ea51-4a7a-869f-8240b11d0874 div.sk-parallel-item:only-child::after {width: 0;}#sk-8a75df8f-ea51-4a7a-869f-8240b11d0874 div.sk-dashed-wrapped {border: 1px dashed gray;margin: 0 0.4em 0.5em 0.4em;box-sizing: border-box;padding-bottom: 0.4em;background-color: white;position: relative;}#sk-8a75df8f-ea51-4a7a-869f-8240b11d0874 div.sk-label label {font-family: monospace;font-weight: bold;background-color: white;display: inline-block;line-height: 1.2em;}#sk-8a75df8f-ea51-4a7a-869f-8240b11d0874 div.sk-label-container {position: relative;z-index: 2;text-align: center;}#sk-8a75df8f-ea51-4a7a-869f-8240b11d0874 div.sk-container {/* jupyter's `normalize.less` sets `[hidden] { display: none; }` but bootstrap.min.css set `[hidden] { display: none !important; }` so we also need the `!important` here to be able to override the default hidden behavior on the sphinx rendered scikit-learn.org. See: https://github.com/scikit-learn/scikit-learn/issues/21755 */display: inline-block !important;position: relative;}#sk-8a75df8f-ea51-4a7a-869f-8240b11d0874 div.sk-text-repr-fallback {display: none;}</style><div id=\"sk-8a75df8f-ea51-4a7a-869f-8240b11d0874\" class=\"sk-top-container\"><div class=\"sk-text-repr-fallback\"><pre>ColumnTransformer(remainder=StandardScaler(),\n",
              "                  transformers=[(&#x27;onehotencoder&#x27;,\n",
              "                                 OneHotEncoder(drop=&#x27;if_binary&#x27;), [&#x27;Sex&#x27;]),\n",
              "                                (&#x27;ordinalencoder-1&#x27;,\n",
              "                                 OrdinalEncoder(categories=[[&#x27;LOW&#x27;, &#x27;NORMAL&#x27;,\n",
              "                                                             &#x27;HIGH&#x27;]]),\n",
              "                                 [&#x27;BP&#x27;]),\n",
              "                                (&#x27;ordinalencoder-2&#x27;,\n",
              "                                 OrdinalEncoder(categories=[[&#x27;NORMAL&#x27;,\n",
              "                                                             &#x27;HIGH&#x27;]]),\n",
              "                                 [&#x27;Cholesterol&#x27;])])</pre><b>Please rerun this cell to show the HTML repr or trust the notebook.</b></div><div class=\"sk-container\" hidden><div class=\"sk-item sk-dashed-wrapped\"><div class=\"sk-label-container\"><div class=\"sk-label sk-toggleable\"><input class=\"sk-toggleable__control sk-hidden--visually\" id=\"c01bfca5-be2a-4646-bd19-45f2f5370df4\" type=\"checkbox\" ><label for=\"c01bfca5-be2a-4646-bd19-45f2f5370df4\" class=\"sk-toggleable__label sk-toggleable__label-arrow\">ColumnTransformer</label><div class=\"sk-toggleable__content\"><pre>ColumnTransformer(remainder=StandardScaler(),\n",
              "                  transformers=[(&#x27;onehotencoder&#x27;,\n",
              "                                 OneHotEncoder(drop=&#x27;if_binary&#x27;), [&#x27;Sex&#x27;]),\n",
              "                                (&#x27;ordinalencoder-1&#x27;,\n",
              "                                 OrdinalEncoder(categories=[[&#x27;LOW&#x27;, &#x27;NORMAL&#x27;,\n",
              "                                                             &#x27;HIGH&#x27;]]),\n",
              "                                 [&#x27;BP&#x27;]),\n",
              "                                (&#x27;ordinalencoder-2&#x27;,\n",
              "                                 OrdinalEncoder(categories=[[&#x27;NORMAL&#x27;,\n",
              "                                                             &#x27;HIGH&#x27;]]),\n",
              "                                 [&#x27;Cholesterol&#x27;])])</pre></div></div></div><div class=\"sk-parallel\"><div class=\"sk-parallel-item\"><div class=\"sk-item\"><div class=\"sk-label-container\"><div class=\"sk-label sk-toggleable\"><input class=\"sk-toggleable__control sk-hidden--visually\" id=\"52bed958-cb5e-4970-8f7d-039ac2598224\" type=\"checkbox\" ><label for=\"52bed958-cb5e-4970-8f7d-039ac2598224\" class=\"sk-toggleable__label sk-toggleable__label-arrow\">onehotencoder</label><div class=\"sk-toggleable__content\"><pre>[&#x27;Sex&#x27;]</pre></div></div></div><div class=\"sk-serial\"><div class=\"sk-item\"><div class=\"sk-estimator sk-toggleable\"><input class=\"sk-toggleable__control sk-hidden--visually\" id=\"ffecff68-09e7-4197-8bf9-f8cea93f4b30\" type=\"checkbox\" ><label for=\"ffecff68-09e7-4197-8bf9-f8cea93f4b30\" class=\"sk-toggleable__label sk-toggleable__label-arrow\">OneHotEncoder</label><div class=\"sk-toggleable__content\"><pre>OneHotEncoder(drop=&#x27;if_binary&#x27;)</pre></div></div></div></div></div></div><div class=\"sk-parallel-item\"><div class=\"sk-item\"><div class=\"sk-label-container\"><div class=\"sk-label sk-toggleable\"><input class=\"sk-toggleable__control sk-hidden--visually\" id=\"8ef01fee-6ad9-4fc1-8db6-38480ae2dcd5\" type=\"checkbox\" ><label for=\"8ef01fee-6ad9-4fc1-8db6-38480ae2dcd5\" class=\"sk-toggleable__label sk-toggleable__label-arrow\">ordinalencoder-1</label><div class=\"sk-toggleable__content\"><pre>[&#x27;BP&#x27;]</pre></div></div></div><div class=\"sk-serial\"><div class=\"sk-item\"><div class=\"sk-estimator sk-toggleable\"><input class=\"sk-toggleable__control sk-hidden--visually\" id=\"b9000b0f-d641-4eef-9369-c56453453d68\" type=\"checkbox\" ><label for=\"b9000b0f-d641-4eef-9369-c56453453d68\" class=\"sk-toggleable__label sk-toggleable__label-arrow\">OrdinalEncoder</label><div class=\"sk-toggleable__content\"><pre>OrdinalEncoder(categories=[[&#x27;LOW&#x27;, &#x27;NORMAL&#x27;, &#x27;HIGH&#x27;]])</pre></div></div></div></div></div></div><div class=\"sk-parallel-item\"><div class=\"sk-item\"><div class=\"sk-label-container\"><div class=\"sk-label sk-toggleable\"><input class=\"sk-toggleable__control sk-hidden--visually\" id=\"f80ad6bd-931c-49e7-b6dd-bfddf92153de\" type=\"checkbox\" ><label for=\"f80ad6bd-931c-49e7-b6dd-bfddf92153de\" class=\"sk-toggleable__label sk-toggleable__label-arrow\">ordinalencoder-2</label><div class=\"sk-toggleable__content\"><pre>[&#x27;Cholesterol&#x27;]</pre></div></div></div><div class=\"sk-serial\"><div class=\"sk-item\"><div class=\"sk-estimator sk-toggleable\"><input class=\"sk-toggleable__control sk-hidden--visually\" id=\"7ee8e7b0-496f-4b5a-aabb-506cabb649ed\" type=\"checkbox\" ><label for=\"7ee8e7b0-496f-4b5a-aabb-506cabb649ed\" class=\"sk-toggleable__label sk-toggleable__label-arrow\">OrdinalEncoder</label><div class=\"sk-toggleable__content\"><pre>OrdinalEncoder(categories=[[&#x27;NORMAL&#x27;, &#x27;HIGH&#x27;]])</pre></div></div></div></div></div></div><div class=\"sk-parallel-item\"><div class=\"sk-item\"><div class=\"sk-label-container\"><div class=\"sk-label sk-toggleable\"><input class=\"sk-toggleable__control sk-hidden--visually\" id=\"bcacaac4-5e73-4949-8927-04fc48959691\" type=\"checkbox\" ><label for=\"bcacaac4-5e73-4949-8927-04fc48959691\" class=\"sk-toggleable__label sk-toggleable__label-arrow\">remainder</label><div class=\"sk-toggleable__content\"><pre>[&#x27;Age&#x27;, &#x27;Na_to_K&#x27;]</pre></div></div></div><div class=\"sk-serial\"><div class=\"sk-item\"><div class=\"sk-estimator sk-toggleable\"><input class=\"sk-toggleable__control sk-hidden--visually\" id=\"44f131cc-c797-40be-aac2-f65877b98bef\" type=\"checkbox\" ><label for=\"44f131cc-c797-40be-aac2-f65877b98bef\" class=\"sk-toggleable__label sk-toggleable__label-arrow\">StandardScaler</label><div class=\"sk-toggleable__content\"><pre>StandardScaler()</pre></div></div></div></div></div></div></div></div></div></div>"
            ]
          },
          "metadata": {},
          "execution_count": 88
        }
      ]
    },
    {
      "cell_type": "code",
      "source": [
        "lgr_model.named_steps['lrg'].coef_"
      ],
      "metadata": {
        "colab": {
          "base_uri": "https://localhost:8080/"
        },
        "id": "SWwR1BlVSFdD",
        "outputId": "c77c1f19-1403-4f97-ce77-05a9c572ab1a"
      },
      "execution_count": null,
      "outputs": [
        {
          "output_type": "execute_result",
          "data": {
            "text/plain": [
              "array([[-0.44995572,  3.81134166],\n",
              "       [ 2.14704617, -1.09469839],\n",
              "       [ 1.96140558, -0.49985694],\n",
              "       [-2.52641421, -1.0467832 ],\n",
              "       [-1.13208183, -1.17000313]])"
            ]
          },
          "metadata": {},
          "execution_count": 90
        }
      ]
    },
    {
      "cell_type": "code",
      "source": [
        "lgr_model.named_steps['lrg'].intercept_"
      ],
      "metadata": {
        "colab": {
          "base_uri": "https://localhost:8080/"
        },
        "id": "KH8MAMkNSLHK",
        "outputId": "0d5ac506-84e8-4470-81d0-085d4c7076b6"
      },
      "execution_count": null,
      "outputs": [
        {
          "output_type": "execute_result",
          "data": {
            "text/plain": [
              "array([ 2.89922381, -3.39894607, -2.88018538,  1.41424161,  1.96566602])"
            ]
          },
          "metadata": {},
          "execution_count": 91
        }
      ]
    },
    {
      "cell_type": "code",
      "source": [
        "lgr_model.score(X_test,y_test)"
      ],
      "metadata": {
        "colab": {
          "base_uri": "https://localhost:8080/"
        },
        "id": "_ZzN8NzQSZIS",
        "outputId": "66b39a0f-3a04-4938-9517-aa284542a35d"
      },
      "execution_count": null,
      "outputs": [
        {
          "output_type": "execute_result",
          "data": {
            "text/plain": [
              "0.85"
            ]
          },
          "metadata": {},
          "execution_count": 92
        }
      ]
    },
    {
      "cell_type": "code",
      "source": [
        "lgr_model.score(X_train,y_train)"
      ],
      "metadata": {
        "colab": {
          "base_uri": "https://localhost:8080/"
        },
        "id": "4WXlzJc8SkFp",
        "outputId": "84c64549-4337-4361-8fba-c3d876027f54"
      },
      "execution_count": null,
      "outputs": [
        {
          "output_type": "execute_result",
          "data": {
            "text/plain": [
              "0.8071428571428572"
            ]
          },
          "metadata": {},
          "execution_count": 93
        }
      ]
    },
    {
      "cell_type": "code",
      "source": [],
      "metadata": {
        "id": "oGmGq7zkSohD"
      },
      "execution_count": null,
      "outputs": []
    },
    {
      "cell_type": "markdown",
      "source": [
        "### Support Vector Machine (SVM)"
      ],
      "metadata": {
        "id": "Wao0ddAgSwjH"
      }
    },
    {
      "cell_type": "code",
      "source": [
        "%%time\n",
        "svc_grid=GridSearchCV(estimator=svc_pipe,\n",
        "                      param_grid=svc_params,\n",
        "                      cv=5)\n",
        "svm=svc_grid.fit(X_train,y_train)"
      ],
      "metadata": {
        "colab": {
          "base_uri": "https://localhost:8080/"
        },
        "id": "5gaQNIEQS0EW",
        "outputId": "6625ed85-454a-4a94-e937-d929607d1d1c"
      },
      "execution_count": null,
      "outputs": [
        {
          "output_type": "stream",
          "name": "stdout",
          "text": [
            "CPU times: user 19.5 s, sys: 161 ms, total: 19.7 s\n",
            "Wall time: 19.6 s\n"
          ]
        }
      ]
    },
    {
      "cell_type": "code",
      "source": [
        "svm.best_estimator_"
      ],
      "metadata": {
        "colab": {
          "base_uri": "https://localhost:8080/",
          "height": 192
        },
        "id": "J2hjRFptTg35",
        "outputId": "acc6da38-a286-4950-971b-27ff004a5fbd"
      },
      "execution_count": null,
      "outputs": [
        {
          "output_type": "execute_result",
          "data": {
            "text/plain": [
              "Pipeline(steps=[('transformer',\n",
              "                 ColumnTransformer(remainder=StandardScaler(),\n",
              "                                   transformers=[('onehotencoder',\n",
              "                                                  OneHotEncoder(drop='if_binary'),\n",
              "                                                  ['Sex']),\n",
              "                                                 ('ordinalencoder-1',\n",
              "                                                  OrdinalEncoder(categories=[['LOW',\n",
              "                                                                              'NORMAL',\n",
              "                                                                              'HIGH']]),\n",
              "                                                  ['BP']),\n",
              "                                                 ('ordinalencoder-2',\n",
              "                                                  OrdinalEncoder(categories=[['NORMAL',\n",
              "                                                                              'HIGH']]),\n",
              "                                                  ['Cholesterol'])])),\n",
              "                ('svc', SVC(coef0=1, degree=2, gamma=100.0, kernel='poly'))])"
            ],
            "text/html": [
              "<style>#sk-fcb14957-1f15-4aa1-907b-0c8d2610c23d {color: black;background-color: white;}#sk-fcb14957-1f15-4aa1-907b-0c8d2610c23d pre{padding: 0;}#sk-fcb14957-1f15-4aa1-907b-0c8d2610c23d div.sk-toggleable {background-color: white;}#sk-fcb14957-1f15-4aa1-907b-0c8d2610c23d label.sk-toggleable__label {cursor: pointer;display: block;width: 100%;margin-bottom: 0;padding: 0.3em;box-sizing: border-box;text-align: center;}#sk-fcb14957-1f15-4aa1-907b-0c8d2610c23d label.sk-toggleable__label-arrow:before {content: \"▸\";float: left;margin-right: 0.25em;color: #696969;}#sk-fcb14957-1f15-4aa1-907b-0c8d2610c23d label.sk-toggleable__label-arrow:hover:before {color: black;}#sk-fcb14957-1f15-4aa1-907b-0c8d2610c23d div.sk-estimator:hover label.sk-toggleable__label-arrow:before {color: black;}#sk-fcb14957-1f15-4aa1-907b-0c8d2610c23d div.sk-toggleable__content {max-height: 0;max-width: 0;overflow: hidden;text-align: left;background-color: #f0f8ff;}#sk-fcb14957-1f15-4aa1-907b-0c8d2610c23d div.sk-toggleable__content pre {margin: 0.2em;color: black;border-radius: 0.25em;background-color: #f0f8ff;}#sk-fcb14957-1f15-4aa1-907b-0c8d2610c23d input.sk-toggleable__control:checked~div.sk-toggleable__content {max-height: 200px;max-width: 100%;overflow: auto;}#sk-fcb14957-1f15-4aa1-907b-0c8d2610c23d input.sk-toggleable__control:checked~label.sk-toggleable__label-arrow:before {content: \"▾\";}#sk-fcb14957-1f15-4aa1-907b-0c8d2610c23d div.sk-estimator input.sk-toggleable__control:checked~label.sk-toggleable__label {background-color: #d4ebff;}#sk-fcb14957-1f15-4aa1-907b-0c8d2610c23d div.sk-label input.sk-toggleable__control:checked~label.sk-toggleable__label {background-color: #d4ebff;}#sk-fcb14957-1f15-4aa1-907b-0c8d2610c23d input.sk-hidden--visually {border: 0;clip: rect(1px 1px 1px 1px);clip: rect(1px, 1px, 1px, 1px);height: 1px;margin: -1px;overflow: hidden;padding: 0;position: absolute;width: 1px;}#sk-fcb14957-1f15-4aa1-907b-0c8d2610c23d div.sk-estimator {font-family: monospace;background-color: #f0f8ff;border: 1px dotted black;border-radius: 0.25em;box-sizing: border-box;margin-bottom: 0.5em;}#sk-fcb14957-1f15-4aa1-907b-0c8d2610c23d div.sk-estimator:hover {background-color: #d4ebff;}#sk-fcb14957-1f15-4aa1-907b-0c8d2610c23d div.sk-parallel-item::after {content: \"\";width: 100%;border-bottom: 1px solid gray;flex-grow: 1;}#sk-fcb14957-1f15-4aa1-907b-0c8d2610c23d div.sk-label:hover label.sk-toggleable__label {background-color: #d4ebff;}#sk-fcb14957-1f15-4aa1-907b-0c8d2610c23d div.sk-serial::before {content: \"\";position: absolute;border-left: 1px solid gray;box-sizing: border-box;top: 2em;bottom: 0;left: 50%;}#sk-fcb14957-1f15-4aa1-907b-0c8d2610c23d div.sk-serial {display: flex;flex-direction: column;align-items: center;background-color: white;padding-right: 0.2em;padding-left: 0.2em;}#sk-fcb14957-1f15-4aa1-907b-0c8d2610c23d div.sk-item {z-index: 1;}#sk-fcb14957-1f15-4aa1-907b-0c8d2610c23d div.sk-parallel {display: flex;align-items: stretch;justify-content: center;background-color: white;}#sk-fcb14957-1f15-4aa1-907b-0c8d2610c23d div.sk-parallel::before {content: \"\";position: absolute;border-left: 1px solid gray;box-sizing: border-box;top: 2em;bottom: 0;left: 50%;}#sk-fcb14957-1f15-4aa1-907b-0c8d2610c23d div.sk-parallel-item {display: flex;flex-direction: column;position: relative;background-color: white;}#sk-fcb14957-1f15-4aa1-907b-0c8d2610c23d div.sk-parallel-item:first-child::after {align-self: flex-end;width: 50%;}#sk-fcb14957-1f15-4aa1-907b-0c8d2610c23d div.sk-parallel-item:last-child::after {align-self: flex-start;width: 50%;}#sk-fcb14957-1f15-4aa1-907b-0c8d2610c23d div.sk-parallel-item:only-child::after {width: 0;}#sk-fcb14957-1f15-4aa1-907b-0c8d2610c23d div.sk-dashed-wrapped {border: 1px dashed gray;margin: 0 0.4em 0.5em 0.4em;box-sizing: border-box;padding-bottom: 0.4em;background-color: white;position: relative;}#sk-fcb14957-1f15-4aa1-907b-0c8d2610c23d div.sk-label label {font-family: monospace;font-weight: bold;background-color: white;display: inline-block;line-height: 1.2em;}#sk-fcb14957-1f15-4aa1-907b-0c8d2610c23d div.sk-label-container {position: relative;z-index: 2;text-align: center;}#sk-fcb14957-1f15-4aa1-907b-0c8d2610c23d div.sk-container {/* jupyter's `normalize.less` sets `[hidden] { display: none; }` but bootstrap.min.css set `[hidden] { display: none !important; }` so we also need the `!important` here to be able to override the default hidden behavior on the sphinx rendered scikit-learn.org. See: https://github.com/scikit-learn/scikit-learn/issues/21755 */display: inline-block !important;position: relative;}#sk-fcb14957-1f15-4aa1-907b-0c8d2610c23d div.sk-text-repr-fallback {display: none;}</style><div id=\"sk-fcb14957-1f15-4aa1-907b-0c8d2610c23d\" class=\"sk-top-container\"><div class=\"sk-text-repr-fallback\"><pre>Pipeline(steps=[(&#x27;transformer&#x27;,\n",
              "                 ColumnTransformer(remainder=StandardScaler(),\n",
              "                                   transformers=[(&#x27;onehotencoder&#x27;,\n",
              "                                                  OneHotEncoder(drop=&#x27;if_binary&#x27;),\n",
              "                                                  [&#x27;Sex&#x27;]),\n",
              "                                                 (&#x27;ordinalencoder-1&#x27;,\n",
              "                                                  OrdinalEncoder(categories=[[&#x27;LOW&#x27;,\n",
              "                                                                              &#x27;NORMAL&#x27;,\n",
              "                                                                              &#x27;HIGH&#x27;]]),\n",
              "                                                  [&#x27;BP&#x27;]),\n",
              "                                                 (&#x27;ordinalencoder-2&#x27;,\n",
              "                                                  OrdinalEncoder(categories=[[&#x27;NORMAL&#x27;,\n",
              "                                                                              &#x27;HIGH&#x27;]]),\n",
              "                                                  [&#x27;Cholesterol&#x27;])])),\n",
              "                (&#x27;svc&#x27;, SVC(coef0=1, degree=2, gamma=100.0, kernel=&#x27;poly&#x27;))])</pre><b>Please rerun this cell to show the HTML repr or trust the notebook.</b></div><div class=\"sk-container\" hidden><div class=\"sk-item sk-dashed-wrapped\"><div class=\"sk-label-container\"><div class=\"sk-label sk-toggleable\"><input class=\"sk-toggleable__control sk-hidden--visually\" id=\"4898d431-db01-44d4-8cbe-62861dca5dc7\" type=\"checkbox\" ><label for=\"4898d431-db01-44d4-8cbe-62861dca5dc7\" class=\"sk-toggleable__label sk-toggleable__label-arrow\">Pipeline</label><div class=\"sk-toggleable__content\"><pre>Pipeline(steps=[(&#x27;transformer&#x27;,\n",
              "                 ColumnTransformer(remainder=StandardScaler(),\n",
              "                                   transformers=[(&#x27;onehotencoder&#x27;,\n",
              "                                                  OneHotEncoder(drop=&#x27;if_binary&#x27;),\n",
              "                                                  [&#x27;Sex&#x27;]),\n",
              "                                                 (&#x27;ordinalencoder-1&#x27;,\n",
              "                                                  OrdinalEncoder(categories=[[&#x27;LOW&#x27;,\n",
              "                                                                              &#x27;NORMAL&#x27;,\n",
              "                                                                              &#x27;HIGH&#x27;]]),\n",
              "                                                  [&#x27;BP&#x27;]),\n",
              "                                                 (&#x27;ordinalencoder-2&#x27;,\n",
              "                                                  OrdinalEncoder(categories=[[&#x27;NORMAL&#x27;,\n",
              "                                                                              &#x27;HIGH&#x27;]]),\n",
              "                                                  [&#x27;Cholesterol&#x27;])])),\n",
              "                (&#x27;svc&#x27;, SVC(coef0=1, degree=2, gamma=100.0, kernel=&#x27;poly&#x27;))])</pre></div></div></div><div class=\"sk-serial\"><div class=\"sk-item sk-dashed-wrapped\"><div class=\"sk-label-container\"><div class=\"sk-label sk-toggleable\"><input class=\"sk-toggleable__control sk-hidden--visually\" id=\"f848b089-5cd6-40bf-877c-e778fcf9e85a\" type=\"checkbox\" ><label for=\"f848b089-5cd6-40bf-877c-e778fcf9e85a\" class=\"sk-toggleable__label sk-toggleable__label-arrow\">transformer: ColumnTransformer</label><div class=\"sk-toggleable__content\"><pre>ColumnTransformer(remainder=StandardScaler(),\n",
              "                  transformers=[(&#x27;onehotencoder&#x27;,\n",
              "                                 OneHotEncoder(drop=&#x27;if_binary&#x27;), [&#x27;Sex&#x27;]),\n",
              "                                (&#x27;ordinalencoder-1&#x27;,\n",
              "                                 OrdinalEncoder(categories=[[&#x27;LOW&#x27;, &#x27;NORMAL&#x27;,\n",
              "                                                             &#x27;HIGH&#x27;]]),\n",
              "                                 [&#x27;BP&#x27;]),\n",
              "                                (&#x27;ordinalencoder-2&#x27;,\n",
              "                                 OrdinalEncoder(categories=[[&#x27;NORMAL&#x27;,\n",
              "                                                             &#x27;HIGH&#x27;]]),\n",
              "                                 [&#x27;Cholesterol&#x27;])])</pre></div></div></div><div class=\"sk-parallel\"><div class=\"sk-parallel-item\"><div class=\"sk-item\"><div class=\"sk-label-container\"><div class=\"sk-label sk-toggleable\"><input class=\"sk-toggleable__control sk-hidden--visually\" id=\"519e3f82-1ba7-404d-8c1b-108e7f2a16fc\" type=\"checkbox\" ><label for=\"519e3f82-1ba7-404d-8c1b-108e7f2a16fc\" class=\"sk-toggleable__label sk-toggleable__label-arrow\">onehotencoder</label><div class=\"sk-toggleable__content\"><pre>[&#x27;Sex&#x27;]</pre></div></div></div><div class=\"sk-serial\"><div class=\"sk-item\"><div class=\"sk-estimator sk-toggleable\"><input class=\"sk-toggleable__control sk-hidden--visually\" id=\"5e93d625-96cf-4acc-ae45-d137352472be\" type=\"checkbox\" ><label for=\"5e93d625-96cf-4acc-ae45-d137352472be\" class=\"sk-toggleable__label sk-toggleable__label-arrow\">OneHotEncoder</label><div class=\"sk-toggleable__content\"><pre>OneHotEncoder(drop=&#x27;if_binary&#x27;)</pre></div></div></div></div></div></div><div class=\"sk-parallel-item\"><div class=\"sk-item\"><div class=\"sk-label-container\"><div class=\"sk-label sk-toggleable\"><input class=\"sk-toggleable__control sk-hidden--visually\" id=\"47dead30-981e-41ed-98a6-4ebfcbfc59e5\" type=\"checkbox\" ><label for=\"47dead30-981e-41ed-98a6-4ebfcbfc59e5\" class=\"sk-toggleable__label sk-toggleable__label-arrow\">ordinalencoder-1</label><div class=\"sk-toggleable__content\"><pre>[&#x27;BP&#x27;]</pre></div></div></div><div class=\"sk-serial\"><div class=\"sk-item\"><div class=\"sk-estimator sk-toggleable\"><input class=\"sk-toggleable__control sk-hidden--visually\" id=\"aaa6984f-cfb2-43d1-8ad2-472193f49b6c\" type=\"checkbox\" ><label for=\"aaa6984f-cfb2-43d1-8ad2-472193f49b6c\" class=\"sk-toggleable__label sk-toggleable__label-arrow\">OrdinalEncoder</label><div class=\"sk-toggleable__content\"><pre>OrdinalEncoder(categories=[[&#x27;LOW&#x27;, &#x27;NORMAL&#x27;, &#x27;HIGH&#x27;]])</pre></div></div></div></div></div></div><div class=\"sk-parallel-item\"><div class=\"sk-item\"><div class=\"sk-label-container\"><div class=\"sk-label sk-toggleable\"><input class=\"sk-toggleable__control sk-hidden--visually\" id=\"1483dcc6-fba6-4749-bfc0-b5d048a4be58\" type=\"checkbox\" ><label for=\"1483dcc6-fba6-4749-bfc0-b5d048a4be58\" class=\"sk-toggleable__label sk-toggleable__label-arrow\">ordinalencoder-2</label><div class=\"sk-toggleable__content\"><pre>[&#x27;Cholesterol&#x27;]</pre></div></div></div><div class=\"sk-serial\"><div class=\"sk-item\"><div class=\"sk-estimator sk-toggleable\"><input class=\"sk-toggleable__control sk-hidden--visually\" id=\"9e5a5d37-5a21-4580-9f8f-3557f72a6889\" type=\"checkbox\" ><label for=\"9e5a5d37-5a21-4580-9f8f-3557f72a6889\" class=\"sk-toggleable__label sk-toggleable__label-arrow\">OrdinalEncoder</label><div class=\"sk-toggleable__content\"><pre>OrdinalEncoder(categories=[[&#x27;NORMAL&#x27;, &#x27;HIGH&#x27;]])</pre></div></div></div></div></div></div><div class=\"sk-parallel-item\"><div class=\"sk-item\"><div class=\"sk-label-container\"><div class=\"sk-label sk-toggleable\"><input class=\"sk-toggleable__control sk-hidden--visually\" id=\"6e6b9325-dd70-49ea-a4bd-ef094548424f\" type=\"checkbox\" ><label for=\"6e6b9325-dd70-49ea-a4bd-ef094548424f\" class=\"sk-toggleable__label sk-toggleable__label-arrow\">remainder</label><div class=\"sk-toggleable__content\"><pre>[&#x27;Age&#x27;, &#x27;Na_to_K&#x27;]</pre></div></div></div><div class=\"sk-serial\"><div class=\"sk-item\"><div class=\"sk-estimator sk-toggleable\"><input class=\"sk-toggleable__control sk-hidden--visually\" id=\"f5270ecb-a4a8-45bc-9ba9-9ba0db8682a5\" type=\"checkbox\" ><label for=\"f5270ecb-a4a8-45bc-9ba9-9ba0db8682a5\" class=\"sk-toggleable__label sk-toggleable__label-arrow\">StandardScaler</label><div class=\"sk-toggleable__content\"><pre>StandardScaler()</pre></div></div></div></div></div></div></div></div><div class=\"sk-item\"><div class=\"sk-estimator sk-toggleable\"><input class=\"sk-toggleable__control sk-hidden--visually\" id=\"de35a813-cd42-4782-a530-ba4721923717\" type=\"checkbox\" ><label for=\"de35a813-cd42-4782-a530-ba4721923717\" class=\"sk-toggleable__label sk-toggleable__label-arrow\">SVC</label><div class=\"sk-toggleable__content\"><pre>SVC(coef0=1, degree=2, gamma=100.0, kernel=&#x27;poly&#x27;)</pre></div></div></div></div></div></div></div>"
            ]
          },
          "metadata": {},
          "execution_count": 97
        }
      ]
    },
    {
      "cell_type": "code",
      "source": [
        "svm.best_params_"
      ],
      "metadata": {
        "colab": {
          "base_uri": "https://localhost:8080/"
        },
        "id": "66HECSeXTp8H",
        "outputId": "abf2feca-6b8a-460a-ec14-4988a02c9d3f"
      },
      "execution_count": null,
      "outputs": [
        {
          "output_type": "execute_result",
          "data": {
            "text/plain": [
              "{'svc__coef0': 1, 'svc__degree': 2, 'svc__gamma': 100.0, 'svc__kernel': 'poly'}"
            ]
          },
          "metadata": {},
          "execution_count": 98
        }
      ]
    },
    {
      "cell_type": "code",
      "source": [
        "svm.best_score_"
      ],
      "metadata": {
        "colab": {
          "base_uri": "https://localhost:8080/"
        },
        "id": "SXtt9TUmTud_",
        "outputId": "a9ef2e57-ea79-4f8d-c59e-c55bba3c0a03"
      },
      "execution_count": null,
      "outputs": [
        {
          "output_type": "execute_result",
          "data": {
            "text/plain": [
              "0.9642857142857144"
            ]
          },
          "metadata": {},
          "execution_count": 99
        }
      ]
    },
    {
      "cell_type": "code",
      "source": [
        "svm.classes_"
      ],
      "metadata": {
        "colab": {
          "base_uri": "https://localhost:8080/"
        },
        "id": "8krN1G2HT0Nt",
        "outputId": "11f38a20-fcd3-41d8-e1f1-0dda3f001f21"
      },
      "execution_count": null,
      "outputs": [
        {
          "output_type": "execute_result",
          "data": {
            "text/plain": [
              "array(['DrugY', 'drugA', 'drugB', 'drugC', 'drugX'], dtype=object)"
            ]
          },
          "metadata": {},
          "execution_count": 100
        }
      ]
    },
    {
      "cell_type": "code",
      "source": [
        "#svm.cv_results_"
      ],
      "metadata": {
        "id": "OY6GXpJ7T2qa"
      },
      "execution_count": null,
      "outputs": []
    },
    {
      "cell_type": "code",
      "source": [
        "%%time\n",
        "svc_random=RandomizedSearchCV(estimator=svc_pipe,\n",
        "                              param_distributions=svc_params,\n",
        "                              cv=5)\n",
        "svm_random=svc_random.fit(X_train,y_train)"
      ],
      "metadata": {
        "colab": {
          "base_uri": "https://localhost:8080/"
        },
        "id": "pywi0mQTT5El",
        "outputId": "2add1652-c020-4099-b8fd-0f87e133b4b7"
      },
      "execution_count": null,
      "outputs": [
        {
          "output_type": "stream",
          "name": "stdout",
          "text": [
            "CPU times: user 779 ms, sys: 17.8 ms, total: 796 ms\n",
            "Wall time: 785 ms\n"
          ]
        }
      ]
    },
    {
      "cell_type": "code",
      "source": [
        "svm_random.best_score_"
      ],
      "metadata": {
        "colab": {
          "base_uri": "https://localhost:8080/"
        },
        "id": "jhX-sodEUrlI",
        "outputId": "389a39ce-26b1-4d31-8bdf-72ea6ab9980a"
      },
      "execution_count": null,
      "outputs": [
        {
          "output_type": "execute_result",
          "data": {
            "text/plain": [
              "0.9571428571428571"
            ]
          },
          "metadata": {},
          "execution_count": 104
        }
      ]
    },
    {
      "cell_type": "code",
      "source": [],
      "metadata": {
        "id": "n3CIjcwfU0MK"
      },
      "execution_count": null,
      "outputs": []
    },
    {
      "cell_type": "markdown",
      "source": [
        "### Evaluating model performance"
      ],
      "metadata": {
        "id": "AU3fxdqxdRVx"
      }
    },
    {
      "cell_type": "markdown",
      "source": [
        "### K Nearest Neighbors (KNN)"
      ],
      "metadata": {
        "id": "UyRb9pXIlUUy"
      }
    },
    {
      "cell_type": "code",
      "source": [
        "train_knn_pred=knn.predict(X_train)\n",
        "test_knn_pred = knn.predict(X_test)\n",
        "train_knn_confusion=confusion_matrix(y_train,train_knn_pred)\n",
        "test_knn_confusion=confusion_matrix(y_test,test_knn_pred)"
      ],
      "metadata": {
        "id": "yTWggm8OdUYP"
      },
      "execution_count": null,
      "outputs": []
    },
    {
      "cell_type": "code",
      "source": [
        "print(classification_report(y_train,train_knn_pred))"
      ],
      "metadata": {
        "colab": {
          "base_uri": "https://localhost:8080/"
        },
        "id": "079itmnAd7Ly",
        "outputId": "5db27f4b-cfc4-4a96-b862-8ee51824969b"
      },
      "execution_count": null,
      "outputs": [
        {
          "output_type": "stream",
          "name": "stdout",
          "text": [
            "              precision    recall  f1-score   support\n",
            "\n",
            "       DrugY       0.97      0.91      0.94        65\n",
            "       drugA       0.88      0.94      0.91        16\n",
            "       drugB       1.00      0.92      0.96        13\n",
            "       drugC       0.90      0.90      0.90        10\n",
            "       drugX       0.88      0.97      0.92        36\n",
            "\n",
            "    accuracy                           0.93       140\n",
            "   macro avg       0.92      0.93      0.93       140\n",
            "weighted avg       0.93      0.93      0.93       140\n",
            "\n"
          ]
        }
      ]
    },
    {
      "cell_type": "code",
      "source": [
        "print(classification_report(y_test,test_knn_pred))"
      ],
      "metadata": {
        "colab": {
          "base_uri": "https://localhost:8080/"
        },
        "id": "_9DfFovAd-2S",
        "outputId": "30820c14-f604-402c-8365-ab3cbc89c5e5"
      },
      "execution_count": null,
      "outputs": [
        {
          "output_type": "stream",
          "name": "stdout",
          "text": [
            "              precision    recall  f1-score   support\n",
            "\n",
            "       DrugY       0.96      0.92      0.94        26\n",
            "       drugA       1.00      1.00      1.00         7\n",
            "       drugB       0.60      1.00      0.75         3\n",
            "       drugC       1.00      0.50      0.67         6\n",
            "       drugX       0.90      1.00      0.95        18\n",
            "\n",
            "    accuracy                           0.92        60\n",
            "   macro avg       0.89      0.88      0.86        60\n",
            "weighted avg       0.93      0.92      0.91        60\n",
            "\n"
          ]
        }
      ]
    },
    {
      "cell_type": "code",
      "source": [
        "disp_train_knn=ConfusionMatrixDisplay(train_knn_confusion)\n",
        "disp_train_knn.plot()\n",
        "plt.show()"
      ],
      "metadata": {
        "colab": {
          "base_uri": "https://localhost:8080/",
          "height": 279
        },
        "id": "gdkZX3H7eRri",
        "outputId": "bd631145-d7dd-443c-d442-1e4d4486fbe7"
      },
      "execution_count": null,
      "outputs": [
        {
          "output_type": "display_data",
          "data": {
            "text/plain": [
              "<Figure size 432x288 with 2 Axes>"
            ],
            "image/png": "[encoded data removed]"
          },
          "metadata": {
            "needs_background": "light"
          }
        }
      ]
    },
    {
      "cell_type": "code",
      "source": [
        "disp_test_knn=ConfusionMatrixDisplay(test_knn_confusion)\n",
        "disp_test_knn.plot()\n",
        "plt.show()"
      ],
      "metadata": {
        "colab": {
          "base_uri": "https://localhost:8080/",
          "height": 279
        },
        "id": "eJGNo85GeiLT",
        "outputId": "6f13c980-78be-45e0-db35-8658436c773e"
      },
      "execution_count": null,
      "outputs": [
        {
          "output_type": "display_data",
          "data": {
            "text/plain": [
              "<Figure size 432x288 with 2 Axes>"
            ],
            "image/png": "[encoded data removed]"
          },
          "metadata": {
            "needs_background": "light"
          }
        }
      ]
    },
    {
      "cell_type": "code",
      "source": [
        "train_accurcy_score=accuracy_score(train_knn_pred,y_train)\n",
        "test_accuracy_score=accuracy_score(test_knn_pred,y_test)\n",
        "train_accurcy_score,test_accuracy_score"
      ],
      "metadata": {
        "colab": {
          "base_uri": "https://localhost:8080/"
        },
        "id": "xsz_l23Peti6",
        "outputId": "0feaede1-ace0-4efb-ed22-c5fb9225b4b1"
      },
      "execution_count": null,
      "outputs": [
        {
          "output_type": "execute_result",
          "data": {
            "text/plain": [
              "(0.9285714285714286, 0.9166666666666666)"
            ]
          },
          "metadata": {},
          "execution_count": 242
        }
      ]
    },
    {
      "cell_type": "code",
      "source": [
        "train_precision_score=precision_score(y_train,train_knn_pred,average='macro')\n",
        "test_precision_score=precision_score(y_test,test_knn_pred,average='macro')\n",
        "train_precision_score,test_precision_score"
      ],
      "metadata": {
        "colab": {
          "base_uri": "https://localhost:8080/"
        },
        "id": "vYczQFSwqgUe",
        "outputId": "b5f3f2e2-8c40-43c8-f5b4-3c6306c3a511"
      },
      "execution_count": null,
      "outputs": [
        {
          "output_type": "execute_result",
          "data": {
            "text/plain": [
              "(0.9249132111861137, 0.892)"
            ]
          },
          "metadata": {},
          "execution_count": 243
        }
      ]
    },
    {
      "cell_type": "code",
      "source": [
        "train_precision_score=precision_score(y_train,train_knn_pred,average='weighted')\n",
        "test_precision_score=precision_score(y_test,test_knn_pred,average='weighted')\n",
        "train_precision_score,test_precision_score"
      ],
      "metadata": {
        "colab": {
          "base_uri": "https://localhost:8080/"
        },
        "id": "_Pf27aDsnhZG",
        "outputId": "6f340bed-3a52-4dbd-f527-126c1b44c226"
      },
      "execution_count": null,
      "outputs": [
        {
          "output_type": "execute_result",
          "data": {
            "text/plain": [
              "(0.932046425127428, 0.9326666666666665)"
            ]
          },
          "metadata": {},
          "execution_count": 244
        }
      ]
    },
    {
      "cell_type": "code",
      "source": [
        "train_recall_score=recall_score(y_train,train_knn_pred,average='macro')\n",
        "test_recall_score=recall_score(y_test,test_knn_pred,average='macro')\n",
        "train_recall_score,test_recall_score"
      ],
      "metadata": {
        "colab": {
          "base_uri": "https://localhost:8080/"
        },
        "id": "kFnMrT5aqq3u",
        "outputId": "cbcb874e-aaaf-49e4-c31c-69afc277ac66"
      },
      "execution_count": null,
      "outputs": [
        {
          "output_type": "execute_result",
          "data": {
            "text/plain": [
              "(0.9280982905982904, 0.8846153846153847)"
            ]
          },
          "metadata": {},
          "execution_count": 245
        }
      ]
    },
    {
      "cell_type": "code",
      "source": [
        "train_recall_score=recall_score(y_train,train_knn_pred,average='weighted')\n",
        "test_recall_score=recall_score(y_test,test_knn_pred,average='weighted')\n",
        "train_recall_score,test_recall_score"
      ],
      "metadata": {
        "colab": {
          "base_uri": "https://localhost:8080/"
        },
        "id": "9Tf54ghyfBYL",
        "outputId": "8272f5fd-d3f7-456a-f2a1-7782ba6181b0"
      },
      "execution_count": null,
      "outputs": [
        {
          "output_type": "execute_result",
          "data": {
            "text/plain": [
              "(0.9285714285714286, 0.9166666666666666)"
            ]
          },
          "metadata": {},
          "execution_count": 246
        }
      ]
    },
    {
      "cell_type": "code",
      "source": [],
      "metadata": {
        "id": "4uf2JompqJS5"
      },
      "execution_count": null,
      "outputs": []
    },
    {
      "cell_type": "markdown",
      "source": [
        "### DecisionTree model"
      ],
      "metadata": {
        "id": "Fm1VTpFrfaAN"
      }
    },
    {
      "cell_type": "code",
      "source": [
        "train_dtree_pred=dtree.predict(X_train)\n",
        "test_dtree_pred=dtree.predict(X_test)"
      ],
      "metadata": {
        "id": "9AUfLUCnf5eV"
      },
      "execution_count": null,
      "outputs": []
    },
    {
      "cell_type": "code",
      "source": [
        "print(classification_report(y_train,train_dtree_pred))"
      ],
      "metadata": {
        "colab": {
          "base_uri": "https://localhost:8080/"
        },
        "id": "gLhgb3qqghNZ",
        "outputId": "cde30f18-1365-4495-c669-2abdaa43cd7f"
      },
      "execution_count": null,
      "outputs": [
        {
          "output_type": "stream",
          "name": "stdout",
          "text": [
            "              precision    recall  f1-score   support\n",
            "\n",
            "       DrugY       1.00      1.00      1.00        65\n",
            "       drugA       1.00      1.00      1.00        16\n",
            "       drugB       1.00      1.00      1.00        13\n",
            "       drugC       1.00      1.00      1.00        10\n",
            "       drugX       1.00      1.00      1.00        36\n",
            "\n",
            "    accuracy                           1.00       140\n",
            "   macro avg       1.00      1.00      1.00       140\n",
            "weighted avg       1.00      1.00      1.00       140\n",
            "\n"
          ]
        }
      ]
    },
    {
      "cell_type": "code",
      "source": [
        "print(classification_report(y_test,test_dtree_pred))"
      ],
      "metadata": {
        "colab": {
          "base_uri": "https://localhost:8080/"
        },
        "id": "L-HeGazrgs3L",
        "outputId": "76d6b2f5-85f8-499a-defe-3d37989cf51d"
      },
      "execution_count": null,
      "outputs": [
        {
          "output_type": "stream",
          "name": "stdout",
          "text": [
            "              precision    recall  f1-score   support\n",
            "\n",
            "       DrugY       1.00      1.00      1.00        26\n",
            "       drugA       1.00      1.00      1.00         7\n",
            "       drugB       1.00      1.00      1.00         3\n",
            "       drugC       1.00      1.00      1.00         6\n",
            "       drugX       1.00      1.00      1.00        18\n",
            "\n",
            "    accuracy                           1.00        60\n",
            "   macro avg       1.00      1.00      1.00        60\n",
            "weighted avg       1.00      1.00      1.00        60\n",
            "\n"
          ]
        }
      ]
    },
    {
      "cell_type": "code",
      "source": [
        "train_dtree_confusion=confusion_matrix(y_train,train_dtree_pred)\n",
        "disp_train_dtree=ConfusionMatrixDisplay(train_dtree_confusion)\n",
        "disp_train_dtree.plot()\n",
        "plt.show()"
      ],
      "metadata": {
        "colab": {
          "base_uri": "https://localhost:8080/",
          "height": 279
        },
        "id": "iMqszNzmislP",
        "outputId": "a3fa42ce-9b3f-4585-e914-fc1b4b9e75e9"
      },
      "execution_count": null,
      "outputs": [
        {
          "output_type": "display_data",
          "data": {
            "text/plain": [
              "<Figure size 432x288 with 2 Axes>"
            ],
            "image/png": "[encoded data removed]"
          },
          "metadata": {
            "needs_background": "light"
          }
        }
      ]
    },
    {
      "cell_type": "code",
      "source": [
        "test_dtree_confusion=confusion_matrix(y_test,test_dtree_pred)\n",
        "disp_test_dtree=ConfusionMatrixDisplay(test_dtree_confusion)\n",
        "disp_test_dtree.plot()\n",
        "plt.show()"
      ],
      "metadata": {
        "colab": {
          "base_uri": "https://localhost:8080/",
          "height": 279
        },
        "id": "oYVpH547jCwM",
        "outputId": "d6c48dd6-680d-495e-9ca2-739fa7cd1525"
      },
      "execution_count": null,
      "outputs": [
        {
          "output_type": "display_data",
          "data": {
            "text/plain": [
              "<Figure size 432x288 with 2 Axes>"
            ],
            "image/png": "[encoded data removed]"
          },
          "metadata": {
            "needs_background": "light"
          }
        }
      ]
    },
    {
      "cell_type": "code",
      "source": [
        "dtree_train_accurcy_score=accuracy_score(train_dtree_pred,y_train)\n",
        "dtree_test_accuracy_score=accuracy_score(test_dtree_pred,y_test)\n",
        "dtree_train_accurcy_score,dtree_test_accuracy_score"
      ],
      "metadata": {
        "colab": {
          "base_uri": "https://localhost:8080/"
        },
        "id": "asLeGiJkjNvb",
        "outputId": "e00c0288-1956-452a-9830-84b078eee900"
      },
      "execution_count": null,
      "outputs": [
        {
          "output_type": "execute_result",
          "data": {
            "text/plain": [
              "(1.0, 1.0)"
            ]
          },
          "metadata": {},
          "execution_count": 252
        }
      ]
    },
    {
      "cell_type": "code",
      "source": [
        "dtree_train_precision_score=precision_score(train_dtree_pred,y_train,average='macro')\n",
        "dtree_test_precision_score=precision_score(test_dtree_pred,y_test,average='macro')\n",
        "dtree_train_precision_score,dtree_test_precision_score"
      ],
      "metadata": {
        "colab": {
          "base_uri": "https://localhost:8080/"
        },
        "id": "hdY2nvtXji8D",
        "outputId": "c4b3893c-743e-4dab-ede8-bd9edbb7dbd4"
      },
      "execution_count": null,
      "outputs": [
        {
          "output_type": "execute_result",
          "data": {
            "text/plain": [
              "(1.0, 1.0)"
            ]
          },
          "metadata": {},
          "execution_count": 253
        }
      ]
    },
    {
      "cell_type": "code",
      "source": [
        "dtree_train_precision_score=precision_score(train_dtree_pred,y_train,average='weighted')\n",
        "dtree_test_precision_score=precision_score(test_dtree_pred,y_test,average='weighted')\n",
        "dtree_train_precision_score,dtree_test_precision_score"
      ],
      "metadata": {
        "colab": {
          "base_uri": "https://localhost:8080/"
        },
        "id": "Yd8a8lToriWx",
        "outputId": "1567bbb1-9fcb-4164-bfa1-243cb8d03db1"
      },
      "execution_count": null,
      "outputs": [
        {
          "output_type": "execute_result",
          "data": {
            "text/plain": [
              "(1.0, 1.0)"
            ]
          },
          "metadata": {},
          "execution_count": 254
        }
      ]
    },
    {
      "cell_type": "code",
      "source": [
        "dtree_train_recall_score=recall_score(train_dtree_pred,y_train,average='macro')\n",
        "dtree_test_recall_score=recall_score(test_dtree_pred,y_test,average='macro')\n",
        "dtree_train_recall_score,dtree_test_recall_score"
      ],
      "metadata": {
        "colab": {
          "base_uri": "https://localhost:8080/"
        },
        "id": "3W807NKFriZh",
        "outputId": "ea72338f-ea86-4df7-ed15-1b6407c5da9d"
      },
      "execution_count": null,
      "outputs": [
        {
          "output_type": "execute_result",
          "data": {
            "text/plain": [
              "(1.0, 1.0)"
            ]
          },
          "metadata": {},
          "execution_count": 255
        }
      ]
    },
    {
      "cell_type": "code",
      "source": [
        "dtree_train_recall_score=recall_score(train_dtree_pred,y_train,average='weighted')\n",
        "dtree_test_recall_score=recall_score(test_dtree_pred,y_test,average='weighted')\n",
        "dtree_train_recall_score,dtree_test_recall_score"
      ],
      "metadata": {
        "colab": {
          "base_uri": "https://localhost:8080/"
        },
        "id": "VNTowdhTricV",
        "outputId": "314066e3-5c1b-45c2-ce74-0247fdc65679"
      },
      "execution_count": null,
      "outputs": [
        {
          "output_type": "execute_result",
          "data": {
            "text/plain": [
              "(1.0, 1.0)"
            ]
          },
          "metadata": {},
          "execution_count": 256
        }
      ]
    },
    {
      "cell_type": "code",
      "source": [],
      "metadata": {
        "id": "9B-QWYZQrif3"
      },
      "execution_count": null,
      "outputs": []
    },
    {
      "cell_type": "markdown",
      "source": [
        "### Logestic Regression"
      ],
      "metadata": {
        "id": "Q6XtYHNXjlE-"
      }
    },
    {
      "cell_type": "code",
      "source": [
        "train_lgr_pred=lgr_model.predict(X_train)\n",
        "test_lgr_pred=lgr_model.predict(X_test)"
      ],
      "metadata": {
        "id": "YDT8pH9rjnXZ"
      },
      "execution_count": null,
      "outputs": []
    },
    {
      "cell_type": "code",
      "source": [
        "print(classification_report(y_train,train_lgr_pred))"
      ],
      "metadata": {
        "colab": {
          "base_uri": "https://localhost:8080/"
        },
        "id": "G8_JaAu2j-vu",
        "outputId": "bac5bf2e-8963-44fd-f180-90b0af708704"
      },
      "execution_count": null,
      "outputs": [
        {
          "output_type": "stream",
          "name": "stdout",
          "text": [
            "              precision    recall  f1-score   support\n",
            "\n",
            "       DrugY       0.94      1.00      0.97        65\n",
            "       drugA       0.55      1.00      0.71        16\n",
            "       drugB       0.00      0.00      0.00        13\n",
            "       drugC       0.00      0.00      0.00        10\n",
            "       drugX       0.76      0.89      0.82        36\n",
            "\n",
            "    accuracy                           0.81       140\n",
            "   macro avg       0.45      0.58      0.50       140\n",
            "weighted avg       0.70      0.81      0.74       140\n",
            "\n"
          ]
        },
        {
          "output_type": "stream",
          "name": "stderr",
          "text": [
            "/usr/local/lib/python3.8/dist-packages/sklearn/metrics/_classification.py:1318: UndefinedMetricWarning: Precision and F-score are ill-defined and being set to 0.0 in labels with no predicted samples. Use `zero_division` parameter to control this behavior.\n",
            "  _warn_prf(average, modifier, msg_start, len(result))\n",
            "/usr/local/lib/python3.8/dist-packages/sklearn/metrics/_classification.py:1318: UndefinedMetricWarning: Precision and F-score are ill-defined and being set to 0.0 in labels with no predicted samples. Use `zero_division` parameter to control this behavior.\n",
            "  _warn_prf(average, modifier, msg_start, len(result))\n",
            "/usr/local/lib/python3.8/dist-packages/sklearn/metrics/_classification.py:1318: UndefinedMetricWarning: Precision and F-score are ill-defined and being set to 0.0 in labels with no predicted samples. Use `zero_division` parameter to control this behavior.\n",
            "  _warn_prf(average, modifier, msg_start, len(result))\n"
          ]
        }
      ]
    },
    {
      "cell_type": "code",
      "source": [
        "print(classification_report(y_test,test_lgr_pred))"
      ],
      "metadata": {
        "colab": {
          "base_uri": "https://localhost:8080/"
        },
        "id": "FIdImAL7kLFg",
        "outputId": "bfc24168-5aad-4b1b-8f12-d352edbcc69e"
      },
      "execution_count": null,
      "outputs": [
        {
          "output_type": "stream",
          "name": "stdout",
          "text": [
            "              precision    recall  f1-score   support\n",
            "\n",
            "       DrugY       1.00      1.00      1.00        26\n",
            "       drugA       0.70      1.00      0.82         7\n",
            "       drugB       0.00      0.00      0.00         3\n",
            "       drugC       0.00      0.00      0.00         6\n",
            "       drugX       0.75      1.00      0.86        18\n",
            "\n",
            "    accuracy                           0.85        60\n",
            "   macro avg       0.49      0.60      0.54        60\n",
            "weighted avg       0.74      0.85      0.79        60\n",
            "\n"
          ]
        },
        {
          "output_type": "stream",
          "name": "stderr",
          "text": [
            "/usr/local/lib/python3.8/dist-packages/sklearn/metrics/_classification.py:1318: UndefinedMetricWarning: Precision and F-score are ill-defined and being set to 0.0 in labels with no predicted samples. Use `zero_division` parameter to control this behavior.\n",
            "  _warn_prf(average, modifier, msg_start, len(result))\n",
            "/usr/local/lib/python3.8/dist-packages/sklearn/metrics/_classification.py:1318: UndefinedMetricWarning: Precision and F-score are ill-defined and being set to 0.0 in labels with no predicted samples. Use `zero_division` parameter to control this behavior.\n",
            "  _warn_prf(average, modifier, msg_start, len(result))\n",
            "/usr/local/lib/python3.8/dist-packages/sklearn/metrics/_classification.py:1318: UndefinedMetricWarning: Precision and F-score are ill-defined and being set to 0.0 in labels with no predicted samples. Use `zero_division` parameter to control this behavior.\n",
            "  _warn_prf(average, modifier, msg_start, len(result))\n"
          ]
        }
      ]
    },
    {
      "cell_type": "code",
      "source": [
        "train_lgr_confusion=confusion_matrix(y_train,train_lgr_pred)\n",
        "disp_train_lgr=ConfusionMatrixDisplay(train_lgr_confusion)\n",
        "disp_train_lgr.plot()\n",
        "plt.show()"
      ],
      "metadata": {
        "colab": {
          "base_uri": "https://localhost:8080/",
          "height": 279
        },
        "id": "zoNSgOePkSHw",
        "outputId": "cc7ffc95-1a70-4893-a337-cef022ed4ca0"
      },
      "execution_count": null,
      "outputs": [
        {
          "output_type": "display_data",
          "data": {
            "text/plain": [
              "<Figure size 432x288 with 2 Axes>"
            ],
            "image/png": "[encoded data removed]"
          },
          "metadata": {
            "needs_background": "light"
          }
        }
      ]
    },
    {
      "cell_type": "code",
      "source": [
        "test_lgr_confusion=confusion_matrix(y_test,test_lgr_pred)\n",
        "disp_test_lgr=ConfusionMatrixDisplay(test_lgr_confusion)\n",
        "disp_test_lgr.plot()\n",
        "plt.show()"
      ],
      "metadata": {
        "colab": {
          "base_uri": "https://localhost:8080/",
          "height": 279
        },
        "id": "-NN9cs7ckkSo",
        "outputId": "4083ef37-a1c8-48e3-d33e-d160d2cb328e"
      },
      "execution_count": null,
      "outputs": [
        {
          "output_type": "display_data",
          "data": {
            "text/plain": [
              "<Figure size 432x288 with 2 Axes>"
            ],
            "image/png": "[encoded data removed]"
          },
          "metadata": {
            "needs_background": "light"
          }
        }
      ]
    },
    {
      "cell_type": "code",
      "source": [
        "lgr_train_accurcy_score=accuracy_score(train_lgr_pred,y_train)\n",
        "lgr_test_accuracy_score=accuracy_score(test_lgr_pred,y_test)\n",
        "lgr_train_accurcy_score,lgr_test_accuracy_score"
      ],
      "metadata": {
        "colab": {
          "base_uri": "https://localhost:8080/"
        },
        "id": "WbjC7DKAku1U",
        "outputId": "8b719446-92a0-4dbb-a5a7-9d5f1a0a6dca"
      },
      "execution_count": null,
      "outputs": [
        {
          "output_type": "execute_result",
          "data": {
            "text/plain": [
              "(0.8071428571428572, 0.85)"
            ]
          },
          "metadata": {},
          "execution_count": 262
        }
      ]
    },
    {
      "cell_type": "code",
      "source": [
        "lgr_train_precision_score=precision_score(train_lgr_pred,y_train,average='macro')\n",
        "lgr_test_precision_score=precision_score(test_lgr_pred,y_test,average='macro')\n",
        "lgr_train_precision_score,lgr_test_precision_score"
      ],
      "metadata": {
        "colab": {
          "base_uri": "https://localhost:8080/"
        },
        "id": "fOwDj93LrE7q",
        "outputId": "5d61f429-d2d6-4676-a7de-6981cac1292d"
      },
      "execution_count": null,
      "outputs": [
        {
          "output_type": "execute_result",
          "data": {
            "text/plain": [
              "(0.5777777777777777, 0.6)"
            ]
          },
          "metadata": {},
          "execution_count": 263
        }
      ]
    },
    {
      "cell_type": "code",
      "source": [
        "lgr_train_precision_score=precision_score(train_lgr_pred,y_train,average='weighted')\n",
        "lgr_test_precision_score=precision_score(test_lgr_pred,y_test,average='weighted')\n",
        "lgr_train_precision_score,lgr_test_precision_score"
      ],
      "metadata": {
        "colab": {
          "base_uri": "https://localhost:8080/"
        },
        "id": "ElgEdey8rE-b",
        "outputId": "1b845d45-d013-4e54-dba0-d2bcfaa1cc24"
      },
      "execution_count": null,
      "outputs": [
        {
          "output_type": "execute_result",
          "data": {
            "text/plain": [
              "(0.9666666666666666, 1.0)"
            ]
          },
          "metadata": {},
          "execution_count": 264
        }
      ]
    },
    {
      "cell_type": "code",
      "source": [
        "lgr_train_recall_score=recall_score(train_lgr_pred,y_train,average='macro')\n",
        "lgr_test_recall_score=recall_score(test_lgr_pred,y_test,average='macro')\n",
        "lgr_train_recall_score,lgr_test_recall_score"
      ],
      "metadata": {
        "colab": {
          "base_uri": "https://localhost:8080/"
        },
        "id": "YLceuAZ-rFBe",
        "outputId": "f745601e-de49-4b78-e4b6-6bc994556272"
      },
      "execution_count": null,
      "outputs": [
        {
          "output_type": "stream",
          "name": "stderr",
          "text": [
            "/usr/local/lib/python3.8/dist-packages/sklearn/metrics/_classification.py:1318: UndefinedMetricWarning: Recall is ill-defined and being set to 0.0 in labels with no true samples. Use `zero_division` parameter to control this behavior.\n",
            "  _warn_prf(average, modifier, msg_start, len(result))\n",
            "/usr/local/lib/python3.8/dist-packages/sklearn/metrics/_classification.py:1318: UndefinedMetricWarning: Recall is ill-defined and being set to 0.0 in labels with no true samples. Use `zero_division` parameter to control this behavior.\n",
            "  _warn_prf(average, modifier, msg_start, len(result))\n"
          ]
        },
        {
          "output_type": "execute_result",
          "data": {
            "text/plain": [
              "(0.4511315770686085, 0.49000000000000005)"
            ]
          },
          "metadata": {},
          "execution_count": 267
        }
      ]
    },
    {
      "cell_type": "code",
      "source": [
        "lgr_train_recall_score=recall_score(train_lgr_pred,y_train,average='weighted')\n",
        "lgr_test_recall_score=recall_score(test_lgr_pred,y_test,average='weighted')\n",
        "lgr_train_recall_score,lgr_test_recall_score"
      ],
      "metadata": {
        "colab": {
          "base_uri": "https://localhost:8080/"
        },
        "id": "L3kahKQGrFEn",
        "outputId": "716ab65c-112f-4a98-c3e1-8be6b0ac19a9"
      },
      "execution_count": null,
      "outputs": [
        {
          "output_type": "stream",
          "name": "stderr",
          "text": [
            "/usr/local/lib/python3.8/dist-packages/sklearn/metrics/_classification.py:1318: UndefinedMetricWarning: Recall is ill-defined and being set to 0.0 in labels with no true samples. Use `zero_division` parameter to control this behavior.\n",
            "  _warn_prf(average, modifier, msg_start, len(result))\n",
            "/usr/local/lib/python3.8/dist-packages/sklearn/metrics/_classification.py:1318: UndefinedMetricWarning: Recall is ill-defined and being set to 0.0 in labels with no true samples. Use `zero_division` parameter to control this behavior.\n",
            "  _warn_prf(average, modifier, msg_start, len(result))\n"
          ]
        },
        {
          "output_type": "execute_result",
          "data": {
            "text/plain": [
              "(0.8071428571428572, 0.85)"
            ]
          },
          "metadata": {},
          "execution_count": 268
        }
      ]
    },
    {
      "cell_type": "code",
      "source": [],
      "metadata": {
        "id": "rBU9Blvdk95x"
      },
      "execution_count": null,
      "outputs": []
    },
    {
      "cell_type": "markdown",
      "source": [
        "### Support Vector Machine (SVM)"
      ],
      "metadata": {
        "id": "fyHRHtlrlAG3"
      }
    },
    {
      "cell_type": "code",
      "source": [
        "train_svc_pred=svm.predict(X_train)\n",
        "test_svc_pred=svm.predict(X_test)"
      ],
      "metadata": {
        "id": "frUaKLy1lDYo"
      },
      "execution_count": null,
      "outputs": []
    },
    {
      "cell_type": "code",
      "source": [
        "print(classification_report(y_train,train_svc_pred))"
      ],
      "metadata": {
        "colab": {
          "base_uri": "https://localhost:8080/"
        },
        "id": "A0ng1NitllA6",
        "outputId": "9b740aba-4d67-4985-ca18-157c0a8d1386"
      },
      "execution_count": null,
      "outputs": [
        {
          "output_type": "stream",
          "name": "stdout",
          "text": [
            "              precision    recall  f1-score   support\n",
            "\n",
            "       DrugY       1.00      1.00      1.00        65\n",
            "       drugA       0.94      1.00      0.97        16\n",
            "       drugB       1.00      0.92      0.96        13\n",
            "       drugC       1.00      1.00      1.00        10\n",
            "       drugX       1.00      1.00      1.00        36\n",
            "\n",
            "    accuracy                           0.99       140\n",
            "   macro avg       0.99      0.98      0.99       140\n",
            "weighted avg       0.99      0.99      0.99       140\n",
            "\n"
          ]
        }
      ]
    },
    {
      "cell_type": "code",
      "source": [
        "print(classification_report(y_test,test_svc_pred))"
      ],
      "metadata": {
        "colab": {
          "base_uri": "https://localhost:8080/"
        },
        "id": "_FBC1NxKlsZW",
        "outputId": "f59f1233-8763-45d3-d123-c7b512fe8583"
      },
      "execution_count": null,
      "outputs": [
        {
          "output_type": "stream",
          "name": "stdout",
          "text": [
            "              precision    recall  f1-score   support\n",
            "\n",
            "       DrugY       1.00      0.92      0.96        26\n",
            "       drugA       1.00      1.00      1.00         7\n",
            "       drugB       0.60      1.00      0.75         3\n",
            "       drugC       1.00      1.00      1.00         6\n",
            "       drugX       1.00      1.00      1.00        18\n",
            "\n",
            "    accuracy                           0.97        60\n",
            "   macro avg       0.92      0.98      0.94        60\n",
            "weighted avg       0.98      0.97      0.97        60\n",
            "\n"
          ]
        }
      ]
    },
    {
      "cell_type": "code",
      "source": [
        "train_svc_confusion=confusion_matrix(y_train,train_svc_pred)\n",
        "disp_train_svc=ConfusionMatrixDisplay(train_svc_confusion)\n",
        "disp_train_svc.plot()\n",
        "plt.show()"
      ],
      "metadata": {
        "colab": {
          "base_uri": "https://localhost:8080/",
          "height": 279
        },
        "id": "hoHlWvK3lxWO",
        "outputId": "b0df8ca5-c576-4715-9c03-c9f5d6e7b880"
      },
      "execution_count": null,
      "outputs": [
        {
          "output_type": "display_data",
          "data": {
            "text/plain": [
              "<Figure size 432x288 with 2 Axes>"
            ],
            "image/png": "[encoded data removed]"
          },
          "metadata": {
            "needs_background": "light"
          }
        }
      ]
    },
    {
      "cell_type": "code",
      "source": [
        "test_svc_confusion=confusion_matrix(y_test,test_svc_pred)\n",
        "disp_test_svc=ConfusionMatrixDisplay(test_svc_confusion)\n",
        "disp_test_svc.plot()\n",
        "plt.show()"
      ],
      "metadata": {
        "colab": {
          "base_uri": "https://localhost:8080/",
          "height": 217
        },
        "id": "nbC-fUXXmEQp",
        "outputId": "d60a6916-18b7-4615-a137-54476e7a1b92"
      },
      "execution_count": null,
      "outputs": [
        {
          "output_type": "error",
          "ename": "NameError",
          "evalue": "ignored",
          "traceback": [
            "\u001b[0;31m---------------------------------------------------------------------------\u001b[0m",
            "\u001b[0;31mNameError\u001b[0m                                 Traceback (most recent call last)",
            "\u001b[0;32m<ipython-input-1-84252188f807>\u001b[0m in \u001b[0;36m<module>\u001b[0;34m\u001b[0m\n\u001b[0;32m----> 1\u001b[0;31m \u001b[0mtest_svc_confusion\u001b[0m\u001b[0;34m=\u001b[0m\u001b[0mconfusion_matrix\u001b[0m\u001b[0;34m(\u001b[0m\u001b[0my_test\u001b[0m\u001b[0;34m,\u001b[0m\u001b[0mtest_svc_pred\u001b[0m\u001b[0;34m)\u001b[0m\u001b[0;34m\u001b[0m\u001b[0;34m\u001b[0m\u001b[0m\n\u001b[0m\u001b[1;32m      2\u001b[0m \u001b[0mdisp_test_svc\u001b[0m\u001b[0;34m=\u001b[0m\u001b[0mConfusionMatrixDisplay\u001b[0m\u001b[0;34m(\u001b[0m\u001b[0mtest_svc_confusion\u001b[0m\u001b[0;34m)\u001b[0m\u001b[0;34m\u001b[0m\u001b[0;34m\u001b[0m\u001b[0m\n\u001b[1;32m      3\u001b[0m \u001b[0mdisp_test_svc\u001b[0m\u001b[0;34m.\u001b[0m\u001b[0mplot\u001b[0m\u001b[0;34m(\u001b[0m\u001b[0;34m)\u001b[0m\u001b[0;34m\u001b[0m\u001b[0;34m\u001b[0m\u001b[0m\n\u001b[1;32m      4\u001b[0m \u001b[0mplt\u001b[0m\u001b[0;34m.\u001b[0m\u001b[0mshow\u001b[0m\u001b[0;34m(\u001b[0m\u001b[0;34m)\u001b[0m\u001b[0;34m\u001b[0m\u001b[0;34m\u001b[0m\u001b[0m\n",
            "\u001b[0;31mNameError\u001b[0m: name 'confusion_matrix' is not defined"
          ]
        }
      ]
    },
    {
      "cell_type": "code",
      "source": [
        "svc_train_accurcy_score=accuracy_score(train_svc_pred,y_train)\n",
        "svc_test_accuracy_score=accuracy_score(test_svc_pred,y_test)\n",
        "svc_train_accurcy_score,svc_test_accuracy_score"
      ],
      "metadata": {
        "colab": {
          "base_uri": "https://localhost:8080/"
        },
        "id": "O_AaO1BFmNuK",
        "outputId": "e5b62100-ddf9-4584-db9b-e5c12913f70c"
      },
      "execution_count": null,
      "outputs": [
        {
          "output_type": "execute_result",
          "data": {
            "text/plain": [
              "(0.9928571428571429, 0.9666666666666667)"
            ]
          },
          "metadata": {},
          "execution_count": 274
        }
      ]
    },
    {
      "cell_type": "code",
      "source": [
        "svc_train_precision_score=precision_score(train_svc_pred,y_train,average='macro')\n",
        "svc_test_precision_score=precision_score(test_svc_pred,y_test,average='macro')\n",
        "svc_train_precision_score,svc_test_precision_score"
      ],
      "metadata": {
        "colab": {
          "base_uri": "https://localhost:8080/"
        },
        "id": "CxnsyaRluutf",
        "outputId": "146c2931-2116-4ad0-bd1f-8366437575e7"
      },
      "execution_count": null,
      "outputs": [
        {
          "output_type": "execute_result",
          "data": {
            "text/plain": [
              "(0.9846153846153847, 0.9846153846153847)"
            ]
          },
          "metadata": {},
          "execution_count": 275
        }
      ]
    },
    {
      "cell_type": "code",
      "source": [
        "svc_train_precision_score=precision_score(train_svc_pred,y_train,average='weighted')\n",
        "svc_test_precision_score=precision_score(test_svc_pred,y_test,average='weighted')\n",
        "svc_train_precision_score,svc_test_precision_score"
      ],
      "metadata": {
        "colab": {
          "base_uri": "https://localhost:8080/"
        },
        "id": "6geQMiNGuuv7",
        "outputId": "133c15ec-6ff6-4bb1-a140-a8aaa353eb92"
      },
      "execution_count": null,
      "outputs": [
        {
          "output_type": "execute_result",
          "data": {
            "text/plain": [
              "(0.9934065934065935, 0.9692307692307692)"
            ]
          },
          "metadata": {},
          "execution_count": 276
        }
      ]
    },
    {
      "cell_type": "code",
      "source": [
        "svc_train_recall_score=recall_score(train_svc_pred,y_train,average='macro')\n",
        "svc_test_recall_score=recall_score(test_svc_pred,y_test,average='macro')\n",
        "svc_train_recall_score,svc_test_recall_score"
      ],
      "metadata": {
        "colab": {
          "base_uri": "https://localhost:8080/"
        },
        "id": "-RXhZ4VNuuzZ",
        "outputId": "b290029f-ae9d-43b3-a651-9a11f4282906"
      },
      "execution_count": null,
      "outputs": [
        {
          "output_type": "execute_result",
          "data": {
            "text/plain": [
              "(0.9882352941176471, 0.9199999999999999)"
            ]
          },
          "metadata": {},
          "execution_count": 277
        }
      ]
    },
    {
      "cell_type": "code",
      "source": [
        "svc_train_recall_score=recall_score(train_svc_pred,y_train,average='weighted')\n",
        "svc_test_recall_score=recall_score(test_svc_pred,y_test,average='weighted')\n",
        "svc_train_recall_score,svc_test_recall_score"
      ],
      "metadata": {
        "colab": {
          "base_uri": "https://localhost:8080/"
        },
        "id": "HlaoHUFnvRR5",
        "outputId": "5ab73dc6-1dd2-4d45-ded4-a90781d22882"
      },
      "execution_count": null,
      "outputs": [
        {
          "output_type": "execute_result",
          "data": {
            "text/plain": [
              "(0.9928571428571429, 0.9666666666666667)"
            ]
          },
          "metadata": {},
          "execution_count": 278
        }
      ]
    },
    {
      "cell_type": "code",
      "source": [],
      "metadata": {
        "id": "py1lNyC6vRVP"
      },
      "execution_count": null,
      "outputs": []
    },
    {
      "cell_type": "code",
      "source": [
        "pd.DataFrame({'model':['KNN','LGR','SVM','Dtree'],\n",
        "              'train_score':[train_recall_score,lgr_train_recall_score,svc_train_recall_score,dtree_train_recall_score],\n",
        "              'test_score':[test_recall_score,lgr_test_recall_score,svc_test_recall_score,dtree_test_recall_score],\n",
        "              'average_fit_time':['2.81 sec','4.13 sec','43.3 ms',' 19.5 sec']})"
      ],
      "metadata": {
        "colab": {
          "base_uri": "https://localhost:8080/",
          "height": 175
        },
        "id": "rShf25Leme7R",
        "outputId": "dc7aa9cc-845a-4572-8cc4-8e60e023a5bc"
      },
      "execution_count": null,
      "outputs": [
        {
          "output_type": "execute_result",
          "data": {
            "text/plain": [
              "   model  train_score  test_score average_fit_time\n",
              "0    KNN     0.928571    0.916667         2.81 sec\n",
              "1    LGR     0.807143    0.850000         4.13 sec\n",
              "2    SVM     0.992857    0.966667          43.3 ms\n",
              "3  Dtree     1.000000    1.000000         19.5 sec"
            ],
            "text/html": [
              "\n",
              "  <div id=\"df-7b93ab0f-8bb2-4c91-b181-18e342766541\">\n",
              "    <div class=\"colab-df-container\">\n",
              "      <div>\n",
              "<style scoped>\n",
              "    .dataframe tbody tr th:only-of-type {\n",
              "        vertical-align: middle;\n",
              "    }\n",
              "\n",
              "    .dataframe tbody tr th {\n",
              "        vertical-align: top;\n",
              "    }\n",
              "\n",
              "    .dataframe thead th {\n",
              "        text-align: right;\n",
              "    }\n",
              "</style>\n",
              "<table border=\"1\" class=\"dataframe\">\n",
              "  <thead>\n",
              "    <tr style=\"text-align: right;\">\n",
              "      <th></th>\n",
              "      <th>model</th>\n",
              "      <th>train_score</th>\n",
              "      <th>test_score</th>\n",
              "      <th>average_fit_time</th>\n",
              "    </tr>\n",
              "  </thead>\n",
              "  <tbody>\n",
              "    <tr>\n",
              "      <th>0</th>\n",
              "      <td>KNN</td>\n",
              "      <td>0.928571</td>\n",
              "      <td>0.916667</td>\n",
              "      <td>2.81 sec</td>\n",
              "    </tr>\n",
              "    <tr>\n",
              "      <th>1</th>\n",
              "      <td>LGR</td>\n",
              "      <td>0.807143</td>\n",
              "      <td>0.850000</td>\n",
              "      <td>4.13 sec</td>\n",
              "    </tr>\n",
              "    <tr>\n",
              "      <th>2</th>\n",
              "      <td>SVM</td>\n",
              "      <td>0.992857</td>\n",
              "      <td>0.966667</td>\n",
              "      <td>43.3 ms</td>\n",
              "    </tr>\n",
              "    <tr>\n",
              "      <th>3</th>\n",
              "      <td>Dtree</td>\n",
              "      <td>1.000000</td>\n",
              "      <td>1.000000</td>\n",
              "      <td>19.5 sec</td>\n",
              "    </tr>\n",
              "  </tbody>\n",
              "</table>\n",
              "</div>\n",
              "      <button class=\"colab-df-convert\" onclick=\"convertToInteractive('df-7b93ab0f-8bb2-4c91-b181-18e342766541')\"\n",
              "              title=\"Convert this dataframe to an interactive table.\"\n",
              "              style=\"display:none;\">\n",
              "        \n",
              "  <svg xmlns=\"http://www.w3.org/2000/svg\" height=\"24px\"viewBox=\"0 0 24 24\"\n",
              "       width=\"24px\">\n",
              "    <path d=\"M0 0h24v24H0V0z\" fill=\"none\"/>\n",
              "    <path d=\"M18.56 5.44l.94 2.06.94-2.06 2.06-.94-2.06-.94-.94-2.06-.94 2.06-2.06.94zm-11 1L8.5 8.5l.94-2.06 2.06-.94-2.06-.94L8.5 2.5l-.94 2.06-2.06.94zm10 10l.94 2.06.94-2.06 2.06-.94-2.06-.94-.94-2.06-.94 2.06-2.06.94z\"/><path d=\"M17.41 7.96l-1.37-1.37c-.4-.4-.92-.59-1.43-.59-.52 0-1.04.2-1.43.59L10.3 9.45l-7.72 7.72c-.78.78-.78 2.05 0 2.83L4 21.41c.39.39.9.59 1.41.59.51 0 1.02-.2 1.41-.59l7.78-7.78 2.81-2.81c.8-.78.8-2.07 0-2.86zM5.41 20L4 18.59l7.72-7.72 1.47 1.35L5.41 20z\"/>\n",
              "  </svg>\n",
              "      </button>\n",
              "      \n",
              "  <style>\n",
              "    .colab-df-container {\n",
              "      display:flex;\n",
              "      flex-wrap:wrap;\n",
              "      gap: 12px;\n",
              "    }\n",
              "\n",
              "    .colab-df-convert {\n",
              "      background-color: #E8F0FE;\n",
              "      border: none;\n",
              "      border-radius: 50%;\n",
              "      cursor: pointer;\n",
              "      display: none;\n",
              "      fill: #1967D2;\n",
              "      height: 32px;\n",
              "      padding: 0 0 0 0;\n",
              "      width: 32px;\n",
              "    }\n",
              "\n",
              "    .colab-df-convert:hover {\n",
              "      background-color: #E2EBFA;\n",
              "      box-shadow: 0px 1px 2px rgba(60, 64, 67, 0.3), 0px 1px 3px 1px rgba(60, 64, 67, 0.15);\n",
              "      fill: #174EA6;\n",
              "    }\n",
              "\n",
              "    [theme=dark] .colab-df-convert {\n",
              "      background-color: #3B4455;\n",
              "      fill: #D2E3FC;\n",
              "    }\n",
              "\n",
              "    [theme=dark] .colab-df-convert:hover {\n",
              "      background-color: #434B5C;\n",
              "      box-shadow: 0px 1px 3px 1px rgba(0, 0, 0, 0.15);\n",
              "      filter: drop-shadow(0px 1px 2px rgba(0, 0, 0, 0.3));\n",
              "      fill: #FFFFFF;\n",
              "    }\n",
              "  </style>\n",
              "\n",
              "      <script>\n",
              "        const buttonEl =\n",
              "          document.querySelector('#df-7b93ab0f-8bb2-4c91-b181-18e342766541 button.colab-df-convert');\n",
              "        buttonEl.style.display =\n",
              "          google.colab.kernel.accessAllowed ? 'block' : 'none';\n",
              "\n",
              "        async function convertToInteractive(key) {\n",
              "          const element = document.querySelector('#df-7b93ab0f-8bb2-4c91-b181-18e342766541');\n",
              "          const dataTable =\n",
              "            await google.colab.kernel.invokeFunction('convertToInteractive',\n",
              "                                                     [key], {});\n",
              "          if (!dataTable) return;\n",
              "\n",
              "          const docLinkHtml = 'Like what you see? Visit the ' +\n",
              "            '<a target=\"_blank\" href=https://colab.research.google.com/notebooks/data_table.ipynb>data table notebook</a>'\n",
              "            + ' to learn more about interactive tables.';\n",
              "          element.innerHTML = '';\n",
              "          dataTable['output_type'] = 'display_data';\n",
              "          await google.colab.output.renderOutput(dataTable, element);\n",
              "          const docLink = document.createElement('div');\n",
              "          docLink.innerHTML = docLinkHtml;\n",
              "          element.appendChild(docLink);\n",
              "        }\n",
              "      </script>\n",
              "    </div>\n",
              "  </div>\n",
              "  "
            ]
          },
          "metadata": {},
          "execution_count": 284
        }
      ]
    },
    {
      "cell_type": "code",
      "source": [],
      "metadata": {
        "id": "WvJI1q8rm5Yc"
      },
      "execution_count": null,
      "outputs": []
    },
    {
      "cell_type": "markdown",
      "source": [
        "### Additional method a kernel based logestic regression"
      ],
      "metadata": {
        "id": "3mOmUTVh6Rrj"
      }
    },
    {
      "cell_type": "code",
      "source": [
        "drug.head()"
      ],
      "metadata": {
        "colab": {
          "base_uri": "https://localhost:8080/",
          "height": 206
        },
        "id": "TJdHgP2U7Mf0",
        "outputId": "1647de54-ea0b-4e2d-fd02-46074ee09ae9"
      },
      "execution_count": null,
      "outputs": [
        {
          "output_type": "execute_result",
          "data": {
            "text/plain": [
              "   Age Sex      BP Cholesterol  Na_to_K   Drug\n",
              "0   23   F    HIGH        HIGH   25.355  DrugY\n",
              "1   47   M     LOW        HIGH   13.093  drugC\n",
              "2   47   M     LOW        HIGH   10.114  drugC\n",
              "3   28   F  NORMAL        HIGH    7.798  drugX\n",
              "4   61   F     LOW        HIGH   18.043  DrugY"
            ],
            "text/html": [
              "\n",
              "  <div id=\"df-b165a077-3652-428c-9d0b-a36895d5477f\">\n",
              "    <div class=\"colab-df-container\">\n",
              "      <div>\n",
              "<style scoped>\n",
              "    .dataframe tbody tr th:only-of-type {\n",
              "        vertical-align: middle;\n",
              "    }\n",
              "\n",
              "    .dataframe tbody tr th {\n",
              "        vertical-align: top;\n",
              "    }\n",
              "\n",
              "    .dataframe thead th {\n",
              "        text-align: right;\n",
              "    }\n",
              "</style>\n",
              "<table border=\"1\" class=\"dataframe\">\n",
              "  <thead>\n",
              "    <tr style=\"text-align: right;\">\n",
              "      <th></th>\n",
              "      <th>Age</th>\n",
              "      <th>Sex</th>\n",
              "      <th>BP</th>\n",
              "      <th>Cholesterol</th>\n",
              "      <th>Na_to_K</th>\n",
              "      <th>Drug</th>\n",
              "    </tr>\n",
              "  </thead>\n",
              "  <tbody>\n",
              "    <tr>\n",
              "      <th>0</th>\n",
              "      <td>23</td>\n",
              "      <td>F</td>\n",
              "      <td>HIGH</td>\n",
              "      <td>HIGH</td>\n",
              "      <td>25.355</td>\n",
              "      <td>DrugY</td>\n",
              "    </tr>\n",
              "    <tr>\n",
              "      <th>1</th>\n",
              "      <td>47</td>\n",
              "      <td>M</td>\n",
              "      <td>LOW</td>\n",
              "      <td>HIGH</td>\n",
              "      <td>13.093</td>\n",
              "      <td>drugC</td>\n",
              "    </tr>\n",
              "    <tr>\n",
              "      <th>2</th>\n",
              "      <td>47</td>\n",
              "      <td>M</td>\n",
              "      <td>LOW</td>\n",
              "      <td>HIGH</td>\n",
              "      <td>10.114</td>\n",
              "      <td>drugC</td>\n",
              "    </tr>\n",
              "    <tr>\n",
              "      <th>3</th>\n",
              "      <td>28</td>\n",
              "      <td>F</td>\n",
              "      <td>NORMAL</td>\n",
              "      <td>HIGH</td>\n",
              "      <td>7.798</td>\n",
              "      <td>drugX</td>\n",
              "    </tr>\n",
              "    <tr>\n",
              "      <th>4</th>\n",
              "      <td>61</td>\n",
              "      <td>F</td>\n",
              "      <td>LOW</td>\n",
              "      <td>HIGH</td>\n",
              "      <td>18.043</td>\n",
              "      <td>DrugY</td>\n",
              "    </tr>\n",
              "  </tbody>\n",
              "</table>\n",
              "</div>\n",
              "      <button class=\"colab-df-convert\" onclick=\"convertToInteractive('df-b165a077-3652-428c-9d0b-a36895d5477f')\"\n",
              "              title=\"Convert this dataframe to an interactive table.\"\n",
              "              style=\"display:none;\">\n",
              "        \n",
              "  <svg xmlns=\"http://www.w3.org/2000/svg\" height=\"24px\"viewBox=\"0 0 24 24\"\n",
              "       width=\"24px\">\n",
              "    <path d=\"M0 0h24v24H0V0z\" fill=\"none\"/>\n",
              "    <path d=\"M18.56 5.44l.94 2.06.94-2.06 2.06-.94-2.06-.94-.94-2.06-.94 2.06-2.06.94zm-11 1L8.5 8.5l.94-2.06 2.06-.94-2.06-.94L8.5 2.5l-.94 2.06-2.06.94zm10 10l.94 2.06.94-2.06 2.06-.94-2.06-.94-.94-2.06-.94 2.06-2.06.94z\"/><path d=\"M17.41 7.96l-1.37-1.37c-.4-.4-.92-.59-1.43-.59-.52 0-1.04.2-1.43.59L10.3 9.45l-7.72 7.72c-.78.78-.78 2.05 0 2.83L4 21.41c.39.39.9.59 1.41.59.51 0 1.02-.2 1.41-.59l7.78-7.78 2.81-2.81c.8-.78.8-2.07 0-2.86zM5.41 20L4 18.59l7.72-7.72 1.47 1.35L5.41 20z\"/>\n",
              "  </svg>\n",
              "      </button>\n",
              "      \n",
              "  <style>\n",
              "    .colab-df-container {\n",
              "      display:flex;\n",
              "      flex-wrap:wrap;\n",
              "      gap: 12px;\n",
              "    }\n",
              "\n",
              "    .colab-df-convert {\n",
              "      background-color: #E8F0FE;\n",
              "      border: none;\n",
              "      border-radius: 50%;\n",
              "      cursor: pointer;\n",
              "      display: none;\n",
              "      fill: #1967D2;\n",
              "      height: 32px;\n",
              "      padding: 0 0 0 0;\n",
              "      width: 32px;\n",
              "    }\n",
              "\n",
              "    .colab-df-convert:hover {\n",
              "      background-color: #E2EBFA;\n",
              "      box-shadow: 0px 1px 2px rgba(60, 64, 67, 0.3), 0px 1px 3px 1px rgba(60, 64, 67, 0.15);\n",
              "      fill: #174EA6;\n",
              "    }\n",
              "\n",
              "    [theme=dark] .colab-df-convert {\n",
              "      background-color: #3B4455;\n",
              "      fill: #D2E3FC;\n",
              "    }\n",
              "\n",
              "    [theme=dark] .colab-df-convert:hover {\n",
              "      background-color: #434B5C;\n",
              "      box-shadow: 0px 1px 3px 1px rgba(0, 0, 0, 0.15);\n",
              "      filter: drop-shadow(0px 1px 2px rgba(0, 0, 0, 0.3));\n",
              "      fill: #FFFFFF;\n",
              "    }\n",
              "  </style>\n",
              "\n",
              "      <script>\n",
              "        const buttonEl =\n",
              "          document.querySelector('#df-b165a077-3652-428c-9d0b-a36895d5477f button.colab-df-convert');\n",
              "        buttonEl.style.display =\n",
              "          google.colab.kernel.accessAllowed ? 'block' : 'none';\n",
              "\n",
              "        async function convertToInteractive(key) {\n",
              "          const element = document.querySelector('#df-b165a077-3652-428c-9d0b-a36895d5477f');\n",
              "          const dataTable =\n",
              "            await google.colab.kernel.invokeFunction('convertToInteractive',\n",
              "                                                     [key], {});\n",
              "          if (!dataTable) return;\n",
              "\n",
              "          const docLinkHtml = 'Like what you see? Visit the ' +\n",
              "            '<a target=\"_blank\" href=https://colab.research.google.com/notebooks/data_table.ipynb>data table notebook</a>'\n",
              "            + ' to learn more about interactive tables.';\n",
              "          element.innerHTML = '';\n",
              "          dataTable['output_type'] = 'display_data';\n",
              "          await google.colab.output.renderOutput(dataTable, element);\n",
              "          const docLink = document.createElement('div');\n",
              "          docLink.innerHTML = docLinkHtml;\n",
              "          element.appendChild(docLink);\n",
              "        }\n",
              "      </script>\n",
              "    </div>\n",
              "  </div>\n",
              "  "
            ]
          },
          "metadata": {},
          "execution_count": 376
        }
      ]
    },
    {
      "cell_type": "code",
      "source": [
        "sex_dummy=pd.get_dummies(drug['Sex'])\n",
        "BP_dummy=pd.get_dummies(drug['BP'])\n",
        "CHl_dummy=pd.get_dummies(drug['Cholesterol'])\n"
      ],
      "metadata": {
        "id": "20yYefWi7zZM"
      },
      "execution_count": null,
      "outputs": []
    },
    {
      "cell_type": "code",
      "source": [
        "drug_and_dummies=pd.concat([drug,sex_dummy,BP_dummy,CHl_dummy],axis=1)\n",
        "drug_and_dummies.drop(['Sex','BP','Cholesterol'],axis=1, inplace=True)\n"
      ],
      "metadata": {
        "id": "R0l1Xe6C8fdS"
      },
      "execution_count": null,
      "outputs": []
    },
    {
      "cell_type": "code",
      "source": [
        "drug_and_dummies.head()"
      ],
      "metadata": {
        "colab": {
          "base_uri": "https://localhost:8080/",
          "height": 206
        },
        "id": "m2Okwkss8fgu",
        "outputId": "60884432-a63b-4304-a5d9-6d6f23153e33"
      },
      "execution_count": null,
      "outputs": [
        {
          "output_type": "execute_result",
          "data": {
            "text/plain": [
              "   Age  Na_to_K   Drug  F  M  HIGH  LOW  NORMAL  HIGH  NORMAL\n",
              "0   23   25.355  DrugY  1  0     1    0       0     1       0\n",
              "1   47   13.093  drugC  0  1     0    1       0     1       0\n",
              "2   47   10.114  drugC  0  1     0    1       0     1       0\n",
              "3   28    7.798  drugX  1  0     0    0       1     1       0\n",
              "4   61   18.043  DrugY  1  0     0    1       0     1       0"
            ],
            "text/html": [
              "\n",
              "  <div id=\"df-d15affe9-02b5-4899-9e51-5958048b09d7\">\n",
              "    <div class=\"colab-df-container\">\n",
              "      <div>\n",
              "<style scoped>\n",
              "    .dataframe tbody tr th:only-of-type {\n",
              "        vertical-align: middle;\n",
              "    }\n",
              "\n",
              "    .dataframe tbody tr th {\n",
              "        vertical-align: top;\n",
              "    }\n",
              "\n",
              "    .dataframe thead th {\n",
              "        text-align: right;\n",
              "    }\n",
              "</style>\n",
              "<table border=\"1\" class=\"dataframe\">\n",
              "  <thead>\n",
              "    <tr style=\"text-align: right;\">\n",
              "      <th></th>\n",
              "      <th>Age</th>\n",
              "      <th>Na_to_K</th>\n",
              "      <th>Drug</th>\n",
              "      <th>F</th>\n",
              "      <th>M</th>\n",
              "      <th>HIGH</th>\n",
              "      <th>LOW</th>\n",
              "      <th>NORMAL</th>\n",
              "      <th>HIGH</th>\n",
              "      <th>NORMAL</th>\n",
              "    </tr>\n",
              "  </thead>\n",
              "  <tbody>\n",
              "    <tr>\n",
              "      <th>0</th>\n",
              "      <td>23</td>\n",
              "      <td>25.355</td>\n",
              "      <td>DrugY</td>\n",
              "      <td>1</td>\n",
              "      <td>0</td>\n",
              "      <td>1</td>\n",
              "      <td>0</td>\n",
              "      <td>0</td>\n",
              "      <td>1</td>\n",
              "      <td>0</td>\n",
              "    </tr>\n",
              "    <tr>\n",
              "      <th>1</th>\n",
              "      <td>47</td>\n",
              "      <td>13.093</td>\n",
              "      <td>drugC</td>\n",
              "      <td>0</td>\n",
              "      <td>1</td>\n",
              "      <td>0</td>\n",
              "      <td>1</td>\n",
              "      <td>0</td>\n",
              "      <td>1</td>\n",
              "      <td>0</td>\n",
              "    </tr>\n",
              "    <tr>\n",
              "      <th>2</th>\n",
              "      <td>47</td>\n",
              "      <td>10.114</td>\n",
              "      <td>drugC</td>\n",
              "      <td>0</td>\n",
              "      <td>1</td>\n",
              "      <td>0</td>\n",
              "      <td>1</td>\n",
              "      <td>0</td>\n",
              "      <td>1</td>\n",
              "      <td>0</td>\n",
              "    </tr>\n",
              "    <tr>\n",
              "      <th>3</th>\n",
              "      <td>28</td>\n",
              "      <td>7.798</td>\n",
              "      <td>drugX</td>\n",
              "      <td>1</td>\n",
              "      <td>0</td>\n",
              "      <td>0</td>\n",
              "      <td>0</td>\n",
              "      <td>1</td>\n",
              "      <td>1</td>\n",
              "      <td>0</td>\n",
              "    </tr>\n",
              "    <tr>\n",
              "      <th>4</th>\n",
              "      <td>61</td>\n",
              "      <td>18.043</td>\n",
              "      <td>DrugY</td>\n",
              "      <td>1</td>\n",
              "      <td>0</td>\n",
              "      <td>0</td>\n",
              "      <td>1</td>\n",
              "      <td>0</td>\n",
              "      <td>1</td>\n",
              "      <td>0</td>\n",
              "    </tr>\n",
              "  </tbody>\n",
              "</table>\n",
              "</div>\n",
              "      <button class=\"colab-df-convert\" onclick=\"convertToInteractive('df-d15affe9-02b5-4899-9e51-5958048b09d7')\"\n",
              "              title=\"Convert this dataframe to an interactive table.\"\n",
              "              style=\"display:none;\">\n",
              "        \n",
              "  <svg xmlns=\"http://www.w3.org/2000/svg\" height=\"24px\"viewBox=\"0 0 24 24\"\n",
              "       width=\"24px\">\n",
              "    <path d=\"M0 0h24v24H0V0z\" fill=\"none\"/>\n",
              "    <path d=\"M18.56 5.44l.94 2.06.94-2.06 2.06-.94-2.06-.94-.94-2.06-.94 2.06-2.06.94zm-11 1L8.5 8.5l.94-2.06 2.06-.94-2.06-.94L8.5 2.5l-.94 2.06-2.06.94zm10 10l.94 2.06.94-2.06 2.06-.94-2.06-.94-.94-2.06-.94 2.06-2.06.94z\"/><path d=\"M17.41 7.96l-1.37-1.37c-.4-.4-.92-.59-1.43-.59-.52 0-1.04.2-1.43.59L10.3 9.45l-7.72 7.72c-.78.78-.78 2.05 0 2.83L4 21.41c.39.39.9.59 1.41.59.51 0 1.02-.2 1.41-.59l7.78-7.78 2.81-2.81c.8-.78.8-2.07 0-2.86zM5.41 20L4 18.59l7.72-7.72 1.47 1.35L5.41 20z\"/>\n",
              "  </svg>\n",
              "      </button>\n",
              "      \n",
              "  <style>\n",
              "    .colab-df-container {\n",
              "      display:flex;\n",
              "      flex-wrap:wrap;\n",
              "      gap: 12px;\n",
              "    }\n",
              "\n",
              "    .colab-df-convert {\n",
              "      background-color: #E8F0FE;\n",
              "      border: none;\n",
              "      border-radius: 50%;\n",
              "      cursor: pointer;\n",
              "      display: none;\n",
              "      fill: #1967D2;\n",
              "      height: 32px;\n",
              "      padding: 0 0 0 0;\n",
              "      width: 32px;\n",
              "    }\n",
              "\n",
              "    .colab-df-convert:hover {\n",
              "      background-color: #E2EBFA;\n",
              "      box-shadow: 0px 1px 2px rgba(60, 64, 67, 0.3), 0px 1px 3px 1px rgba(60, 64, 67, 0.15);\n",
              "      fill: #174EA6;\n",
              "    }\n",
              "\n",
              "    [theme=dark] .colab-df-convert {\n",
              "      background-color: #3B4455;\n",
              "      fill: #D2E3FC;\n",
              "    }\n",
              "\n",
              "    [theme=dark] .colab-df-convert:hover {\n",
              "      background-color: #434B5C;\n",
              "      box-shadow: 0px 1px 3px 1px rgba(0, 0, 0, 0.15);\n",
              "      filter: drop-shadow(0px 1px 2px rgba(0, 0, 0, 0.3));\n",
              "      fill: #FFFFFF;\n",
              "    }\n",
              "  </style>\n",
              "\n",
              "      <script>\n",
              "        const buttonEl =\n",
              "          document.querySelector('#df-d15affe9-02b5-4899-9e51-5958048b09d7 button.colab-df-convert');\n",
              "        buttonEl.style.display =\n",
              "          google.colab.kernel.accessAllowed ? 'block' : 'none';\n",
              "\n",
              "        async function convertToInteractive(key) {\n",
              "          const element = document.querySelector('#df-d15affe9-02b5-4899-9e51-5958048b09d7');\n",
              "          const dataTable =\n",
              "            await google.colab.kernel.invokeFunction('convertToInteractive',\n",
              "                                                     [key], {});\n",
              "          if (!dataTable) return;\n",
              "\n",
              "          const docLinkHtml = 'Like what you see? Visit the ' +\n",
              "            '<a target=\"_blank\" href=https://colab.research.google.com/notebooks/data_table.ipynb>data table notebook</a>'\n",
              "            + ' to learn more about interactive tables.';\n",
              "          element.innerHTML = '';\n",
              "          dataTable['output_type'] = 'display_data';\n",
              "          await google.colab.output.renderOutput(dataTable, element);\n",
              "          const docLink = document.createElement('div');\n",
              "          docLink.innerHTML = docLinkHtml;\n",
              "          element.appendChild(docLink);\n",
              "        }\n",
              "      </script>\n",
              "    </div>\n",
              "  </div>\n",
              "  "
            ]
          },
          "metadata": {},
          "execution_count": 379
        }
      ]
    },
    {
      "cell_type": "code",
      "source": [
        "X=drug_and_dummies.drop('Drug', axis=1)\n",
        "y=drug_and_dummies['Drug']"
      ],
      "metadata": {
        "id": "NTqeeoeA8fkl"
      },
      "execution_count": null,
      "outputs": []
    },
    {
      "cell_type": "code",
      "source": [
        "X.shape"
      ],
      "metadata": {
        "colab": {
          "base_uri": "https://localhost:8080/"
        },
        "id": "vsJ3qW9X-Mmc",
        "outputId": "09a6b7d0-fdbd-447c-e63f-c28b0dfa9a39"
      },
      "execution_count": null,
      "outputs": [
        {
          "output_type": "execute_result",
          "data": {
            "text/plain": [
              "(200, 9)"
            ]
          },
          "metadata": {},
          "execution_count": 381
        }
      ]
    },
    {
      "cell_type": "code",
      "source": [
        "X_train, X_test, y_train, y_test = train_test_split(X, y, test_size=0.3, random_state=42)"
      ],
      "metadata": {
        "id": "H4hIow5bERp5"
      },
      "execution_count": null,
      "outputs": []
    },
    {
      "cell_type": "code",
      "source": [
        "scaler=StandardScaler()\n",
        "scaled_train_data=scaler.fit_transform(X_train)\n",
        "scaled_test_data=scaler.transform(X_test)\n"
      ],
      "metadata": {
        "id": "Ggud66Nb90QB"
      },
      "execution_count": null,
      "outputs": []
    },
    {
      "cell_type": "code",
      "source": [
        "xtrain=polynomial_kernel(scaled_train_data,scaled_train_data,degree=2)\n",
        "xtest=polynomial_kernel(scaled_test_data,scaled_test_data,degree=2)\n",
        "\n",
        "logestic=LogisticRegression(max_iter=10000).fit(xtrain,y_train)"
      ],
      "metadata": {
        "id": "0vYpnO9w6Xt-"
      },
      "execution_count": null,
      "outputs": []
    },
    {
      "cell_type": "code",
      "source": [
        "train_score=logestic.score(xtrain,y_train)\n",
        "train_score"
      ],
      "metadata": {
        "colab": {
          "base_uri": "https://localhost:8080/"
        },
        "id": "29Pzfpu3-aIu",
        "outputId": "5540515b-1901-471c-a58f-6d7299d5f116"
      },
      "execution_count": null,
      "outputs": [
        {
          "output_type": "execute_result",
          "data": {
            "text/plain": [
              "1.0"
            ]
          },
          "metadata": {},
          "execution_count": 385
        }
      ]
    },
    {
      "cell_type": "code",
      "source": [
        "scale_df=pd.DataFrame(scaled_train_data)\n",
        "rbf=rbf_kernel(scaled_train_data,scaled_train_data)\n",
        "rbf_lgr=LogisticRegression(max_iter=10000).fit(rbf,y_train)"
      ],
      "metadata": {
        "id": "k0FbHSLaI-1Z"
      },
      "execution_count": null,
      "outputs": []
    },
    {
      "cell_type": "code",
      "source": [
        "rbf_train_score=rbf_lgr.score(rbf,y_train)\n",
        "rbf_train_score"
      ],
      "metadata": {
        "colab": {
          "base_uri": "https://localhost:8080/"
        },
        "id": "346yHrxMJfoa",
        "outputId": "fc584784-7453-47fb-b15d-9663a88c4140"
      },
      "execution_count": null,
      "outputs": [
        {
          "output_type": "execute_result",
          "data": {
            "text/plain": [
              "0.9857142857142858"
            ]
          },
          "metadata": {},
          "execution_count": 392
        }
      ]
    },
    {
      "cell_type": "code",
      "source": [],
      "metadata": {
        "id": "LFN-9iemKJRB"
      },
      "execution_count": null,
      "outputs": []
    },
    {
      "cell_type": "markdown",
      "source": [
        "### From scratch \n",
        "\n",
        "Kernelized Logestic regression model"
      ],
      "metadata": {
        "id": "ZClmn7gcNOaT"
      }
    },
    {
      "cell_type": "code",
      "source": [
        "def Kernel_matrix(kfunc, X):\n",
        "    N, _ = X.shape\n",
        "    K = np.empty((N, N))\n",
        "    for i in range(N):\n",
        "        for j in range(N):\n",
        "            K[i, j] = kfunc(X[i, :], X[j, :])\n",
        "    return K"
      ],
      "metadata": {
        "id": "LMfOZNMFLS9M"
      },
      "execution_count": null,
      "outputs": []
    },
    {
      "cell_type": "code",
      "source": [
        "def evaluate_kernel_model(model, kfunc, X_train, X_test):\n",
        "    N1, _ = X_train.shape\n",
        "    N2, _ = X_test.shape\n",
        "    \n",
        "    K = np.empty((N2, N1))\n",
        "    for i in range(N2):\n",
        "        for j in range(N1):\n",
        "            K[i, j] = kfunc(X_train[j, :], X_test[i, :])\n",
        "    return model.predict(K)"
      ],
      "metadata": {
        "id": "TAt2ZZwML2cj"
      },
      "execution_count": null,
      "outputs": []
    },
    {
      "cell_type": "code",
      "source": [
        "def kernel_function(x, z):\n",
        "    return (np.dot(x, z) + 1) ** 2"
      ],
      "metadata": {
        "id": "YUJYaZ3xL6HN"
      },
      "execution_count": null,
      "outputs": []
    },
    {
      "cell_type": "code",
      "source": [
        "kernel_matrix = Kernel_matrix(kernel_function, scaled_train_data)\n",
        "logistic = LogisticRegression(max_iter=10000).fit(kernel_matrix, y_train)"
      ],
      "metadata": {
        "id": "Puj-S0ImMD6h"
      },
      "execution_count": null,
      "outputs": []
    },
    {
      "cell_type": "code",
      "source": [
        "predictions = evaluate_kernel_model(logistic, kernel_function, scaled_train_data, scaled_test_data)"
      ],
      "metadata": {
        "id": "fd85JPSnMjiI"
      },
      "execution_count": null,
      "outputs": []
    },
    {
      "cell_type": "code",
      "source": [
        "accuracy_score(predictions,y_test)"
      ],
      "metadata": {
        "colab": {
          "base_uri": "https://localhost:8080/"
        },
        "id": "LSLyUuXaM67W",
        "outputId": "f4479765-58da-41e6-ff47-ce709794686d"
      },
      "execution_count": null,
      "outputs": [
        {
          "output_type": "execute_result",
          "data": {
            "text/plain": [
              "0.95"
            ]
          },
          "metadata": {},
          "execution_count": 407
        }
      ]
    },
    {
      "cell_type": "code",
      "source": [],
      "metadata": {
        "id": "DWB4PUlLM_8o"
      },
      "execution_count": null,
      "outputs": []
    }
  ]
}